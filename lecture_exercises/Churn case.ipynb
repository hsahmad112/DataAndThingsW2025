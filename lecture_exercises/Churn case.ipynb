{
 "cells": [
  {
   "cell_type": "markdown",
   "id": "546f5753-8d5b-4c97-afe3-6af4a403acba",
   "metadata": {},
   "source": [
    "# Churn case\n",
    "\n",
    "In this notebook, you will work on a Churn case that was originally posed as a challenge by Maven Analytics, see [here](https://www.mavenanalytics.io/blog/maven-churn-challenge).\n",
    "\n",
    "The dataset can be downloaded [here](https://maven-datasets.s3.amazonaws.com/Telecom+Customer+Churn/Telecom+Customer+Churn.zip), or from Kaggle [here](https://www.kaggle.com/datasets/shilongzhuang/telecom-customer-churn-by-maven-analytics/data), and from moodle. The dataset contains 3 files:\n",
    "* The *telecom_customer_churn.csv* file contains information on all 7,043 customers from a Telecommunications company in California in Q2 2022. Each record represents one customer, and contains details about their demographics, location, tenure, subscription services, status for the quarter (joined, stayed, or churned), and more!\n",
    "* The *telecom_zipcode_population.csv* file contains complimentary information on the estimated populations for the California zip codes in the Customer Churn table\n",
    "* The *telecom_data_dictionary.csv* file contains metadata about the other two files in the sense of a dictionary of the variables in the two other files\n",
    "\n",
    "We will ignore the Zip code file for simplicity.\n",
    "\n",
    "The goal according to the Maven Churn Challenge is to *\"help the company improve retention by identifying high value customers and churn risks, and have been asked to present your findings to the CMO in the form of a single page report or dashboard.\"* [(Maven Churn Challenge, 2022)](https://www.mavenanalytics.io/blog/maven-churn-challenge)."
   ]
  },
  {
   "cell_type": "code",
   "execution_count": 1,
   "id": "90f225b1-0810-475f-9fe1-8891b6a4c116",
   "metadata": {},
   "outputs": [],
   "source": [
    "import pandas as pd\n",
    "import seaborn as sns\n",
    "import matplotlib.pyplot as plt"
   ]
  },
  {
   "cell_type": "markdown",
   "id": "c7232ada-73e8-40aa-b3db-6f3942e5648f",
   "metadata": {},
   "source": [
    "### Task 1\n",
    "\n",
    "Load in the churn dataset from the file \"telecom_customer_churn.csv\" and investigate what variables there are in the data. (You might want to look up the data dictionary file to understand what the different variables mean.)"
   ]
  },
  {
   "cell_type": "code",
   "execution_count": 3,
   "id": "d3b17278-6df4-41ed-9a94-733e4520dcf4",
   "metadata": {},
   "outputs": [
    {
     "name": "stdout",
     "output_type": "stream",
     "text": [
      "<class 'pandas.core.frame.DataFrame'>\n",
      "RangeIndex: 7043 entries, 0 to 7042\n",
      "Data columns (total 38 columns):\n",
      " #   Column                             Non-Null Count  Dtype  \n",
      "---  ------                             --------------  -----  \n",
      " 0   Customer ID                        7043 non-null   object \n",
      " 1   Gender                             7043 non-null   object \n",
      " 2   Age                                7043 non-null   int64  \n",
      " 3   Married                            7043 non-null   object \n",
      " 4   Number of Dependents               7043 non-null   int64  \n",
      " 5   City                               7043 non-null   object \n",
      " 6   Zip Code                           7043 non-null   int64  \n",
      " 7   Latitude                           7043 non-null   float64\n",
      " 8   Longitude                          7043 non-null   float64\n",
      " 9   Number of Referrals                7043 non-null   int64  \n",
      " 10  Tenure in Months                   7043 non-null   int64  \n",
      " 11  Offer                              3166 non-null   object \n",
      " 12  Phone Service                      7043 non-null   object \n",
      " 13  Avg Monthly Long Distance Charges  6361 non-null   float64\n",
      " 14  Multiple Lines                     6361 non-null   object \n",
      " 15  Internet Service                   7043 non-null   object \n",
      " 16  Internet Type                      5517 non-null   object \n",
      " 17  Avg Monthly GB Download            5517 non-null   float64\n",
      " 18  Online Security                    5517 non-null   object \n",
      " 19  Online Backup                      5517 non-null   object \n",
      " 20  Device Protection Plan             5517 non-null   object \n",
      " 21  Premium Tech Support               5517 non-null   object \n",
      " 22  Streaming TV                       5517 non-null   object \n",
      " 23  Streaming Movies                   5517 non-null   object \n",
      " 24  Streaming Music                    5517 non-null   object \n",
      " 25  Unlimited Data                     5517 non-null   object \n",
      " 26  Contract                           7043 non-null   object \n",
      " 27  Paperless Billing                  7043 non-null   object \n",
      " 28  Payment Method                     7043 non-null   object \n",
      " 29  Monthly Charge                     7043 non-null   float64\n",
      " 30  Total Charges                      7043 non-null   float64\n",
      " 31  Total Refunds                      7043 non-null   float64\n",
      " 32  Total Extra Data Charges           7043 non-null   int64  \n",
      " 33  Total Long Distance Charges        7043 non-null   float64\n",
      " 34  Total Revenue                      7043 non-null   float64\n",
      " 35  Customer Status                    7043 non-null   object \n",
      " 36  Churn Category                     1869 non-null   object \n",
      " 37  Churn Reason                       1869 non-null   object \n",
      "dtypes: float64(9), int64(6), object(23)\n",
      "memory usage: 2.0+ MB\n"
     ]
    }
   ],
   "source": [
    "tcc = pd.read_csv('data\\\\telecom_customer_churn.csv')\n",
    "tcc.info()"
   ]
  },
  {
   "cell_type": "markdown",
   "id": "7a882632-f3e1-4e52-95aa-fd2d66ef001d",
   "metadata": {},
   "source": [
    "### Task 2\n",
    "\n",
    "Reflect on the business question and to what extent the data can help us answer the business question."
   ]
  },
  {
   "cell_type": "markdown",
   "metadata": {},
   "source": [
    "The business question is to\n",
    "1. identify high value customers\n",
    "2. identify churn risks... \n",
    "\n",
    "\n",
    "- 1. is possible\n",
    "* Total Revenue, Tenure in Months, Number of Referrals, investments in the companys products\n",
    "- 2. probs, through logic like:\n",
    "* if you invest a lot into a company you're perhaps less likely to up and leave (quick) </br>\n",
    "categories like: <b>Phone Service, Multiple Lines, Internet Service, Online Security, Online Backup, Device Protection Plan, Premium Tech Support, Streaming TV, ect.</b>\n",
    "\n",
    "* if you use it a lot perhaps youre less likely to up and leave </br>\n",
    "categories like: <b> Avg Monthly GB Download</b>\n",
    "\n",
    "* if you used it for a while AND like it -> less likely to leave </br>\n",
    "categories like: <b>tenure, Number of Referrals</b>\n",
    "\n",
    "* if youre older, probs youre less likely to change <br>\n",
    "<b>Age</b>\n",
    "\n",
    "Churn reason -> Location -> see if there is a connection?"
   ]
  },
  {
   "cell_type": "markdown",
   "id": "ac21b686-a0aa-4403-b55c-d2d4f80ccc20",
   "metadata": {},
   "source": [
    "### Task 3\n",
    "\n",
    "Decide on a way to measure how valuable a customer is. Do some exploratory data analysis of the relevant variables."
   ]
  },
  {
   "cell_type": "code",
   "execution_count": 116,
   "id": "0b662f35",
   "metadata": {},
   "outputs": [
    {
     "data": {
      "text/plain": [
       "count       7043\n",
       "unique         3\n",
       "top       Stayed\n",
       "freq        4720\n",
       "Name: Customer Status, dtype: object"
      ]
     },
     "execution_count": 116,
     "metadata": {},
     "output_type": "execute_result"
    }
   ],
   "source": [
    "tcc['Customer Status'].describe()"
   ]
  },
  {
   "cell_type": "code",
   "execution_count": 117,
   "id": "d2466728-b159-47dc-9627-8b1ae80d22b4",
   "metadata": {},
   "outputs": [
    {
     "name": "stdout",
     "output_type": "stream",
     "text": [
      "RevenueXReferals: 0.2618532380901489\n"
     ]
    }
   ],
   "source": [
    "# low correlation between how much a customer paid over time and how many they referred to the company\n",
    "refXrev_corr = tcc['Total Revenue'].corr(tcc['Number of Referrals'])\n",
    "print(f'RevenueXReferals: {refXrev_corr}')"
   ]
  },
  {
   "cell_type": "code",
   "execution_count": 118,
   "id": "fee2edf1",
   "metadata": {},
   "outputs": [
    {
     "data": {
      "text/plain": [
       "count            7043\n",
       "unique           1106\n",
       "top       Los Angeles\n",
       "freq              293\n",
       "Name: City, dtype: object"
      ]
     },
     "execution_count": 118,
     "metadata": {},
     "output_type": "execute_result"
    }
   ],
   "source": [
    "# t = tcc[['Total Revenue', 'Tenure in Months']]\n",
    "# sns.catplot(data=tcc['Total Revenue'], kind=\"box\", showmeans =True, meanprops={\"marker\":\"X\", \"markerfacecolor\":\"white\", \"markeredgecolor\":\"black\", \"markersize\": \"10\"})\n",
    "# plt.show()\n",
    "\n",
    "tcc['City'].describe()"
   ]
  },
  {
   "cell_type": "markdown",
   "id": "86a84d34-0725-4e79-8e09-d44ab4e16f74",
   "metadata": {},
   "source": [
    "### Task 4\n",
    "\n",
    "There are a lot of variables, so it makes sense to select only some of them as potential feature variables for making a predictive model for churn. Decide on a good portion of variables potentially to be used in a predictive model of churn."
   ]
  },
  {
   "cell_type": "code",
   "execution_count": 119,
   "id": "c741df7c-ab0e-4760-a779-24b0e4e25e81",
   "metadata": {},
   "outputs": [],
   "source": [
    "all = [\"CustomerID\", \"Gender\", \"Age\", \"Married\", \"Number of Dependents\", \"City\", \"Zip Code\", \"Latitude\", \"Longitude\", \"Number of Referrals\", \"Tenure in Months\", \"Offer\", \"Phone Service\", \"Avg Monthly Long Distance Charges\", \"Multiple Lines\", \"Internet Service\", \"Internet Type\", \"Avg Monthly GB Download\", \"Online Security\", \"Online Backup\", \"Device Protection Plan\", \"Premium Tech Support\", \"Streaming TV\", \"Streaming Movies\", \"Streaming Music\", \"Unlimited Data\", \"Contract\", \"Paperless Billing\", \"Payment Method\", \"Monthly Charge\", \"Total Charges\", \"Total Refunds\", \"Total Extra Data Charges\", \"Total Long Distance Charges\", \"Total Revenue\", \"Customer Status\", \"Churn Category\", \"Churn Reason\", \"Zip Code\", \"Population\"]\n",
    "\n",
    "all_categoric = [\"Customer ID\", \"Gender\", \"Married\", \"City\", \"Offer\", \"Phone Service\", \"Multiple Lines\", \"Internet Service\", \"Internet Type\", \"Online Security\", \"Online Backup\", \"Device Protection Plan\", \"Premium Tech Support\", \"Streaming TV\", \"Streaming Movies\", \"Streaming Music\", \"Unlimited Data\", \"Contract\", \"Paperless Billing\", \"Payment Method\", \"Customer Status\", \"Churn Category\", \"Churn Reason\"]\n",
    "all_numeric= [\"Age\", \"Number of Dependents\", \"Zip Code\", \"Latitude\", \"Longitude\", \"Number of Referrals\", \"Tenure in Months\", \"Avg Monthly Long Distance Charges\", \"Avg Monthly GB Download\", \"Monthly Charge\", \"Total Charges\", \"Total Refunds\", \"Total Extra Data Charges\", \"Total Long Distance Charges\", \"Total Revenue\"]\n",
    "\n",
    "potential = [\"Tenure in Months\", \"Contract\", \"Internet Service\", \"Internet Type\", \"Payment Method\", \"Monthly Charge\", \"Total Charges\", \"Total Refunds\", \"Total Extra Data Charges\", \"Customer Status\"]\n",
    "\n",
    "pot_numeric = ['Tenure in Months', 'Monthly Charge', 'Total Charges', 'Total Refunds', 'Total Extra Data Charges']\n",
    "pot_categoric = ['Contract', 'Internet Service', 'Internet Type', 'Customer Status'] \n"
   ]
  },
  {
   "cell_type": "code",
   "execution_count": null,
   "id": "51a3c603",
   "metadata": {},
   "outputs": [],
   "source": []
  },
  {
   "cell_type": "markdown",
   "id": "7f0117f0-0de1-4d1f-96ea-751b1eb94696",
   "metadata": {},
   "source": [
    "### Task 5\n",
    "\n",
    "Do exploratory data analysis of the target variable. Anything in particular to be aware of?"
   ]
  },
  {
   "cell_type": "code",
   "execution_count": 120,
   "id": "593ad242-277a-4c05-8fb6-aa50c66591b0",
   "metadata": {},
   "outputs": [
    {
     "data": {
      "text/plain": [
       "Customer Status\n",
       "False    7043\n",
       "Name: count, dtype: int64"
      ]
     },
     "execution_count": 120,
     "metadata": {},
     "output_type": "execute_result"
    }
   ],
   "source": [
    "## no N/A vals \n",
    "tcc['Customer Status'].isna().value_counts()"
   ]
  },
  {
   "cell_type": "code",
   "execution_count": 121,
   "id": "c6862796",
   "metadata": {},
   "outputs": [
    {
     "data": {
      "image/png": "[encoded data removed]",
      "text/plain": [
       "<Figure size 1800x600 with 3 Axes>"
      ]
     },
     "metadata": {},
     "output_type": "display_data"
    }
   ],
   "source": [
    "# Joined - unsure what that really entails?\n",
    "g = sns.FacetGrid(data=tcc, col=\"Customer Status\", height= 6)\n",
    "g.map(sns.histplot, 'Total Revenue')\n",
    "plt.show()"
   ]
  },
  {
   "cell_type": "code",
   "execution_count": 122,
   "id": "c81a8ddd",
   "metadata": {},
   "outputs": [
    {
     "data": {
      "image/png": "[encoded data removed]",
      "text/plain": [
       "<Figure size 600x600 with 1 Axes>"
      ]
     },
     "metadata": {},
     "output_type": "display_data"
    }
   ],
   "source": [
    "# people who recently joined - they have stuck around for about 3 months.\n",
    "#this should probs be removed since these people can not churn as they are locked to the organization for a set a mount of months\n",
    "\n",
    "joined_customers = tcc[tcc['Customer Status'] == \"Joined\"]\n",
    "g = sns.FacetGrid(data=joined_customers, col=\"Customer Status\", height= 6)\n",
    "g.map(sns.histplot, 'Tenure in Months')\n",
    "plt.show()"
   ]
  },
  {
   "cell_type": "code",
   "execution_count": 123,
   "id": "b7c2a07a",
   "metadata": {},
   "outputs": [
    {
     "data": {
      "text/plain": [
       "<seaborn.axisgrid.FacetGrid at 0x1d021e6e930>"
      ]
     },
     "execution_count": 123,
     "metadata": {},
     "output_type": "execute_result"
    },
    {
     "data": {
      "image/png": "[encoded data removed]",
      "text/plain": [
       "<Figure size 500x500 with 1 Axes>"
      ]
     },
     "metadata": {},
     "output_type": "display_data"
    }
   ],
   "source": [
    "# Imbalanced dataset\n",
    "sns.catplot( tcc['Customer Status'], kind='count')"
   ]
  },
  {
   "cell_type": "code",
   "execution_count": 124,
   "id": "24dd8c21",
   "metadata": {},
   "outputs": [],
   "source": [
    "# turn all columns into dummy variables, rename them in a way that makes things easy to understand:\n",
    "# eg. column name: Gender_Male (1 = male , 0= female)"
   ]
  },
  {
   "cell_type": "code",
   "execution_count": 125,
   "id": "6a92dc19",
   "metadata": {},
   "outputs": [],
   "source": [
    "# do logistic regression for the model for classification, be better than the % of the people who stayed in accuracy, but dont stop there. \n",
    "# Do other methods of evaluation of trained model"
   ]
  },
  {
   "cell_type": "code",
   "execution_count": 126,
   "id": "1172feaf",
   "metadata": {},
   "outputs": [
    {
     "data": {
      "image/png": "[encoded data removed]",
      "text/plain": [
       "<Figure size 600x600 with 1 Axes>"
      ]
     },
     "metadata": {},
     "output_type": "display_data"
    }
   ],
   "source": [
    "joined_customers = tcc[tcc['Customer Status'] == \"Joined\"]\n",
    "g = sns.FacetGrid(data=joined_customers, col=\"Customer Status\", height= 6)\n",
    "g.map(sns.histplot, 'Total Revenue')\n",
    "plt.show()"
   ]
  },
  {
   "cell_type": "markdown",
   "id": "2dce6907-64eb-42c9-a74c-02e900011b00",
   "metadata": {},
   "source": [
    "### Task 6\n",
    "\n",
    "Do an exploratory analysis of the feature variable decided upon in Task 4."
   ]
  },
  {
   "cell_type": "code",
   "execution_count": 127,
   "id": "a0c42d4d",
   "metadata": {},
   "outputs": [
    {
     "data": {
      "text/plain": [
       "<seaborn.axisgrid.FacetGrid at 0x1d023ba4bc0>"
      ]
     },
     "execution_count": 127,
     "metadata": {},
     "output_type": "execute_result"
    },
    {
     "data": {
      "image/png": "[encoded data removed]",
      "text/plain": [
       "<Figure size 500x500 with 1 Axes>"
      ]
     },
     "metadata": {},
     "output_type": "display_data"
    }
   ],
   "source": [
    "pot_numeric_df = tcc[pot_numeric]\n",
    "pot_categoric_df = tcc[pot_categoric]\n",
    "sns.catplot(pot_categoric_df['Customer Status'], kind='count')\n",
    "# more than double of the people have stayed compared to churned.\n",
    "# delete Joined"
   ]
  },
  {
   "cell_type": "code",
   "execution_count": 129,
   "id": "3b1e2fc2",
   "metadata": {},
   "outputs": [
    {
     "data": {
      "text/plain": [
       "<seaborn.axisgrid.FacetGrid at 0x1d023bb0a40>"
      ]
     },
     "execution_count": 129,
     "metadata": {},
     "output_type": "execute_result"
    },
    {
     "data": {
      "image/png": "[encoded data removed]",
      "text/plain": [
       "<Figure size 500x500 with 1 Axes>"
      ]
     },
     "metadata": {},
     "output_type": "display_data"
    }
   ],
   "source": [
    "sns.catplot(pot_categoric_df['Internet Type'], kind='count')\n",
    "# Most people have Fiber Optic - hardest to replace requires laying new fiber-optic cables underground\n",
    "# DSL is the oldest, difficult to replace if going from DSL to fiber optic\n",
    "# Cable is easier to upgrade to Fiber DSL"
   ]
  },
  {
   "cell_type": "code",
   "execution_count": 130,
   "id": "bc2654ac",
   "metadata": {},
   "outputs": [
    {
     "data": {
      "text/plain": [
       "<seaborn.axisgrid.FacetGrid at 0x1d021e33200>"
      ]
     },
     "execution_count": 130,
     "metadata": {},
     "output_type": "execute_result"
    },
    {
     "data": {
      "image/png": "[encoded data removed]",
      "text/plain": [
       "<Figure size 500x500 with 1 Axes>"
      ]
     },
     "metadata": {},
     "output_type": "display_data"
    }
   ],
   "source": [
    "sns.catplot(pot_categoric_df['Contract'], kind='count')\n",
    "#3 categories \n",
    "# most pay Month to Month\n",
    "#Two Year is a bit more than One Year"
   ]
  },
  {
   "cell_type": "code",
   "execution_count": 131,
   "id": "55028aed-e81d-4433-b6c9-4e417b750638",
   "metadata": {},
   "outputs": [
    {
     "name": "stdout",
     "output_type": "stream",
     "text": [
      "<class 'pandas.core.frame.DataFrame'>\n",
      "RangeIndex: 7043 entries, 0 to 7042\n",
      "Data columns (total 5 columns):\n",
      " #   Column                    Non-Null Count  Dtype  \n",
      "---  ------                    --------------  -----  \n",
      " 0   Tenure in Months          7043 non-null   int64  \n",
      " 1   Monthly Charge            7043 non-null   float64\n",
      " 2   Total Charges             7043 non-null   float64\n",
      " 3   Total Refunds             7043 non-null   float64\n",
      " 4   Total Extra Data Charges  7043 non-null   int64  \n",
      "dtypes: float64(3), int64(2)\n",
      "memory usage: 275.2 KB\n"
     ]
    }
   ],
   "source": [
    "pot_numeric_df.info()\n"
   ]
  },
  {
   "cell_type": "markdown",
   "id": "41d38c01-17d6-4ac1-b8de-152a993894cc",
   "metadata": {},
   "source": [
    "### Task 7\n",
    "\n",
    "Deal with missing values among the chosen feature variables."
   ]
  },
  {
   "cell_type": "code",
   "execution_count": 132,
   "id": "c522e0ec-a5c4-4feb-be4e-58c8cee37cf8",
   "metadata": {},
   "outputs": [],
   "source": [
    "prep_tcc = tcc.copy()\n",
    "prep_tcc = prep_tcc.dropna(subset=['Internet Type'])"
   ]
  },
  {
   "cell_type": "code",
   "execution_count": 133,
   "id": "2e4e4e8e",
   "metadata": {},
   "outputs": [
    {
     "name": "stdout",
     "output_type": "stream",
     "text": [
      "<class 'pandas.core.frame.DataFrame'>\n",
      "Index: 5517 entries, 0 to 7042\n",
      "Data columns (total 4 columns):\n",
      " #   Column            Non-Null Count  Dtype \n",
      "---  ------            --------------  ----- \n",
      " 0   Contract          5517 non-null   object\n",
      " 1   Internet Service  5517 non-null   object\n",
      " 2   Internet Type     5517 non-null   object\n",
      " 3   Customer Status   5517 non-null   object\n",
      "dtypes: object(4)\n",
      "memory usage: 215.5+ KB\n"
     ]
    }
   ],
   "source": [
    "pot_numeric_df = prep_tcc[pot_numeric]\n",
    "pot_categoric_df = prep_tcc[pot_categoric]\n",
    "pot_categoric_df.info()"
   ]
  },
  {
   "cell_type": "markdown",
   "id": "5c5d4ab8-c226-4227-89f5-7be869a3a9c3",
   "metadata": {},
   "source": [
    "### Task 8\n",
    "\n",
    "Do relevant data transformation to the target variable."
   ]
  },
  {
   "cell_type": "code",
   "execution_count": 136,
   "id": "d3709181-c593-4c66-9894-5ab745499082",
   "metadata": {},
   "outputs": [
    {
     "data": {
      "text/plain": [
       "0        Stayed\n",
       "1        Stayed\n",
       "2       Churned\n",
       "3       Churned\n",
       "4       Churned\n",
       "         ...   \n",
       "7038     Stayed\n",
       "7039    Churned\n",
       "7040     Joined\n",
       "7041     Stayed\n",
       "7042     Stayed\n",
       "Name: Customer Status, Length: 5517, dtype: object"
      ]
     },
     "execution_count": 136,
     "metadata": {},
     "output_type": "execute_result"
    }
   ],
   "source": [
    "pot_categoric_df['Customer Status']"
   ]
  },
  {
   "cell_type": "markdown",
   "id": "7262a993-32ab-4fbd-bf73-9aab608f2bd7",
   "metadata": {},
   "source": [
    "### Task 9\n",
    "\n",
    "Turn all the categorical variables into dummy variables."
   ]
  },
  {
   "cell_type": "code",
   "execution_count": null,
   "id": "ae020d7e-77e7-4617-b7b5-19987efc5b60",
   "metadata": {},
   "outputs": [],
   "source": []
  },
  {
   "cell_type": "markdown",
   "id": "bd7f50f3-106f-4f5b-8032-1ec5e6007090",
   "metadata": {},
   "source": [
    "### Task 10 \n",
    "\n",
    "Create the final X feature set and the final y target variable. Make sure that 1 means Churned and 0 means Stayed. Also create a train-test split of dataset (leaving 20% for test)."
   ]
  },
  {
   "cell_type": "code",
   "execution_count": null,
   "id": "bf190c37-d1a6-43fe-9105-0a61f7fd145e",
   "metadata": {},
   "outputs": [],
   "source": []
  },
  {
   "cell_type": "markdown",
   "id": "e381e7de-658f-4b61-a92b-71f8aad1d3f0",
   "metadata": {},
   "source": [
    "### Task 11\n",
    "\n",
    "Decide on how to evaluate the churn prediction model. That is, decide what machine learning performance measure(s) to evaluate your model on, but also think about whether you want to calculate additional things to evaluate the models from a business perspective."
   ]
  },
  {
   "cell_type": "code",
   "execution_count": null,
   "id": "4aefb721-3b81-40b8-a8d2-c5e0262ef9ea",
   "metadata": {},
   "outputs": [],
   "source": []
  },
  {
   "cell_type": "markdown",
   "id": "facd961d-908d-44fa-87b8-4e703c873f92",
   "metadata": {},
   "source": [
    "### Task 12\n",
    "\n",
    "Train a quick baseline model to predict churn, that can be used for comparison for all future models. For this, use a multiple logistic regression. Use cross-validation to get an unbiased estimate of the model's accuracy on new unseen data. Finally, plot the model's confusion matrix."
   ]
  },
  {
   "cell_type": "code",
   "execution_count": null,
   "id": "acd059cc-6f0f-48c6-bf9d-086cfe30cb2a",
   "metadata": {},
   "outputs": [],
   "source": [
    "+"
   ]
  },
  {
   "cell_type": "markdown",
   "id": "ec513192-b5c4-4006-90ac-2a9baeefba0b",
   "metadata": {},
   "source": [
    "### Task 13\n",
    "\n",
    "The code below creates under-sampled versions of the training data (`_us`) and over-sampled versions of the training data (`_os`). Use these two new pair of training data to retrain logic regression models. It assumes that you have created a train-test split such that the training target variable is called `y_train` and that it takes values 0 and 1, where 1 means \"Churned\"."
   ]
  },
  {
   "cell_type": "code",
   "execution_count": null,
   "id": "712aab78-83b0-427a-990b-ab0ec7bbf893",
   "metadata": {},
   "outputs": [],
   "source": [
    "from sklearn.utils import resample\n",
    "\n",
    "minority_class_index = y_train[y_train == 1].index\n",
    "majority_class_index = y_train[y_train == 0].index"
   ]
  },
  {
   "cell_type": "code",
   "execution_count": null,
   "id": "0ff20d91-4205-48f4-a63a-cfa7b0325d7a",
   "metadata": {},
   "outputs": [],
   "source": [
    "# Under-sampling the majority class\n",
    "under_sample_index = resample(majority_class_index, replace=False, n_samples=len(minority_class_index), random_state=42)\n",
    "under_sample_indexes = under_sample_index.union(minority_class_index)"
   ]
  },
  {
   "cell_type": "code",
   "execution_count": null,
   "id": "c17ae7ab-19b3-4d79-a973-94660a45332d",
   "metadata": {},
   "outputs": [],
   "source": [
    "X_train_us = X_train.loc[under_sample_indexes, :]\n",
    "y_train_us = y_train[under_sample_indexes]\n",
    "print(\"X_train_us shape:\", X_train_us.shape)\n",
    "print(\"y_train_us shape:\", y_train_us.shape)"
   ]
  },
  {
   "cell_type": "code",
   "execution_count": null,
   "id": "79693cf2-fe80-42aa-844b-7a3fe50623be",
   "metadata": {},
   "outputs": [],
   "source": [
    "# Over-sampling the minority class\n",
    "over_sample_index = resample(minority_class_index, replace=True, n_samples=len(majority_class_index), random_state=42)\n",
    "over_sample_indexes = over_sample_index.union(majority_class_index)"
   ]
  },
  {
   "cell_type": "code",
   "execution_count": null,
   "id": "6440b200-7680-402a-8974-da836f2a8883",
   "metadata": {},
   "outputs": [],
   "source": [
    "X_train_os = X_train.loc[over_sample_indexes, :]\n",
    "y_train_os = y_train[over_sample_indexes]\n",
    "print(\"X_train_os shape:\", X_train_os.shape)\n",
    "print(\"y_train_os shape:\", y_train_os.shape)"
   ]
  },
  {
   "cell_type": "code",
   "execution_count": null,
   "id": "f893c831-d098-48f4-bff5-0b1f92f5dedc",
   "metadata": {},
   "outputs": [],
   "source": []
  },
  {
   "cell_type": "markdown",
   "id": "5df5a02d-09b3-436d-ba0f-c66c2fca4da4",
   "metadata": {},
   "source": [
    "### Task 14\n",
    "\n",
    "Train a K-Nearest Neighbor classifier for the over-sampled data. Remember to use cross-validation to get a good estimate of what K to chose."
   ]
  },
  {
   "cell_type": "code",
   "execution_count": null,
   "id": "aa18e2df-e7b1-4a04-a92c-6d57b1561b6f",
   "metadata": {},
   "outputs": [],
   "source": []
  },
  {
   "cell_type": "markdown",
   "id": "22e9bdc8-4527-46cb-948f-69094dfade31",
   "metadata": {},
   "source": [
    "### Task 15\n",
    "\n",
    "Evaluate the logistic regression and K-Nearest Neighbor on all the relevant metrics (as discussed in Task 11), including at least one business metric."
   ]
  },
  {
   "cell_type": "code",
   "execution_count": null,
   "id": "1038742d-8ead-43d0-a893-e4b7a040b167",
   "metadata": {},
   "outputs": [],
   "source": []
  },
  {
   "cell_type": "markdown",
   "id": "884c88b4-4014-4ed1-bc10-ec2c5b98028c",
   "metadata": {},
   "source": [
    "### Example of hyper-parameter tuning with cross validation\n",
    "\n",
    "In this example, we will train a Random Forest model and do some grid search together with cross-validation, to find an optimal model. Note that, the parameter grid is just chosen to make an example, it is not guaranteed to be the best grid of parameters for this model."
   ]
  },
  {
   "cell_type": "code",
   "execution_count": null,
   "id": "24ba3f65-1af6-47d6-a6cd-83cb8edd1bda",
   "metadata": {},
   "outputs": [],
   "source": [
    "param_grid = [\n",
    "  {\"n_estimators\": [400, 600, 800],\n",
    "   \"max_depth\":  [4, 8, 12],\n",
    "   \"min_samples_leaf\": [5, 10]}\n",
    " ]"
   ]
  },
  {
   "cell_type": "code",
   "execution_count": null,
   "id": "0530a6de-7b5f-440b-b953-59136f5d95a4",
   "metadata": {},
   "outputs": [],
   "source": [
    "rf_model = RandomForestClassifier()"
   ]
  },
  {
   "cell_type": "code",
   "execution_count": null,
   "id": "3f5c078b-b137-4f45-9e69-52bd7c899008",
   "metadata": {},
   "outputs": [],
   "source": [
    "grid_search = GridSearchCV(estimator=rf_model, param_grid=param_grid, cv = 5, scoring = \"accuracy\")"
   ]
  },
  {
   "cell_type": "code",
   "execution_count": null,
   "id": "1aaddfb6-a65f-40bd-aa36-c996b8e19c71",
   "metadata": {},
   "outputs": [],
   "source": [
    "gs_out = grid_search.fit(X_train_os, y_train_os)\n",
    "gs_out"
   ]
  },
  {
   "cell_type": "code",
   "execution_count": null,
   "id": "6216a5d1-9cd2-4c45-8c88-e1d3b0252ac6",
   "metadata": {},
   "outputs": [],
   "source": [
    "gs_out.best_estimator_"
   ]
  },
  {
   "cell_type": "code",
   "execution_count": null,
   "id": "4be8f430-e4a7-49e7-92b6-b7523aa139cb",
   "metadata": {},
   "outputs": [],
   "source": [
    "gs_out.best_score_"
   ]
  },
  {
   "cell_type": "code",
   "execution_count": null,
   "id": "b2b9a029-d0fd-408b-9644-0228f94501ac",
   "metadata": {},
   "outputs": [],
   "source": [
    "gs_out.best_params_"
   ]
  },
  {
   "cell_type": "code",
   "execution_count": null,
   "id": "af8a4ea1-144d-47b1-b7ce-2c432f179844",
   "metadata": {},
   "outputs": [],
   "source": []
  },
  {
   "cell_type": "markdown",
   "id": "677a324c-fa15-4b8c-8cce-9a30a0124260",
   "metadata": {},
   "source": [
    "### Task 16\n",
    "\n",
    "Now, train various tree-based models such as decision trees, Random Forest, AdaBoost, and XGBoost. Remember to use Cross-validation and hyper-parameter tuning, to get the best models."
   ]
  },
  {
   "cell_type": "code",
   "execution_count": null,
   "id": "c3304052-e280-458b-8e68-6405aa6c35f2",
   "metadata": {},
   "outputs": [],
   "source": []
  }
 ],
 "metadata": {
  "kernelspec": {
   "display_name": "venv",
   "language": "python",
   "name": "python3"
  },
  "language_info": {
   "codemirror_mode": {
    "name": "ipython",
    "version": 3
   },
   "file_extension": ".py",
   "mimetype": "text/x-python",
   "name": "python",
   "nbconvert_exporter": "python",
   "pygments_lexer": "ipython3",
   "version": "3.12.0"
  }
 },
 "nbformat": 4,
 "nbformat_minor": 5
}
