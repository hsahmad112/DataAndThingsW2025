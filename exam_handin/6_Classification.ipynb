{
 "cells": [
  {
   "cell_type": "markdown",
   "id": "b97c04cc-55e2-417b-841f-b9d51301dc0f",
   "metadata": {},
   "source": [
    "# Exercises in Classification II\n",
    "\n",
    "The hand-in exercise for this topic is Exercise 2 from the notebook “Exercises in\n",
    "Classification II.ipynb” (It is the same as Exercise 2 from the notebook “Exercises in\n",
    "Classification I.ipynb”)."
   ]
  },
  {
   "cell_type": "code",
   "execution_count": 72,
   "id": "55136ea6-09dd-464f-bf81-3f1a018de3fa",
   "metadata": {},
   "outputs": [],
   "source": [
    "from imblearn.over_sampling import SMOTE\n",
    "import pandas as pd\n",
    "import numpy as np\n",
    "import matplotlib.pyplot as plt\n",
    "import seaborn as sns\n",
    "from sklearn.model_selection import train_test_split\n",
    "from sklearn.metrics import accuracy_score\n",
    "from sklearn.neighbors import KNeighborsClassifier\n",
    "from sklearn.preprocessing import MinMaxScaler\n",
    "from sklearn.model_selection import cross_val_score\n",
    "from sklearn.metrics import confusion_matrix\n",
    "from sklearn.metrics import ConfusionMatrixDisplay\n",
    "from sklearn.metrics import accuracy_score\n",
    "from sklearn.metrics import precision_score\n",
    "from sklearn.metrics import recall_score\n",
    "from sklearn.metrics import f1_score\n",
    "from sklearn.linear_model import LogisticRegression\n",
    "from sklearn.tree import DecisionTreeClassifier\n",
    "from sklearn.ensemble import RandomForestClassifier\n",
    "from sklearn.ensemble import AdaBoostClassifier"
   ]
  },
  {
   "cell_type": "markdown",
   "id": "e3abaf15-798d-4cf6-9724-b7df530efe17",
   "metadata": {},
   "source": [
    "## Exercise 2\n",
    "\n",
    "In this exercise, we will predict the two income classes in the adult dataset (The file \"adult.csv\" is also on Moodle). \n",
    "\n",
    "Answer the following questions:\n",
    "1. Clean the `income` variable such that it has only two values\n",
    "2. Select as set of minimum two feature variables you want to use to predict `income`. Do the necessary transformation of these variables.\n",
    "3. Create X and y dataset and split the datasets into training and testing sets\n",
    "4. Train a KNN classifier to predict the variable `income` based on the feature variables selected in 2 - try out some different Ks \n",
    "5. Train a logistic regression classifier to predict the variable `income` based on the feature variables selected in 2 and compare it to the KNN classifier.\n",
    "6. Train a decision tree classifier to predict the variable `income` based on the feature variables selected in 2 and compare it to the previous classifiers.\n",
    "7. Train a random forest classifier to predict the variable `income` based on the feature variables selected in 2 and compare it to the previous classifiers.\n",
    "8. Train a AdaBoost classifier to predict the variable `income` based on the feature variables selected in 2 and compare it to the previous classifiers."
   ]
  },
  {
   "cell_type": "code",
   "execution_count": 73,
   "id": "986b04df-722a-489c-875a-6b7add99f760",
   "metadata": {},
   "outputs": [
    {
     "data": {
      "text/html": [
       "<div>\n",
       "<style scoped>\n",
       "    .dataframe tbody tr th:only-of-type {\n",
       "        vertical-align: middle;\n",
       "    }\n",
       "\n",
       "    .dataframe tbody tr th {\n",
       "        vertical-align: top;\n",
       "    }\n",
       "\n",
       "    .dataframe thead th {\n",
       "        text-align: right;\n",
       "    }\n",
       "</style>\n",
       "<table border=\"1\" class=\"dataframe\">\n",
       "  <thead>\n",
       "    <tr style=\"text-align: right;\">\n",
       "      <th></th>\n",
       "      <th>age</th>\n",
       "      <th>workclass</th>\n",
       "      <th>fnlwgt</th>\n",
       "      <th>education</th>\n",
       "      <th>education-num</th>\n",
       "      <th>marital-status</th>\n",
       "      <th>occupation</th>\n",
       "      <th>relationship</th>\n",
       "      <th>race</th>\n",
       "      <th>sex</th>\n",
       "      <th>capital-gain</th>\n",
       "      <th>capital-loss</th>\n",
       "      <th>hours-per-week</th>\n",
       "      <th>native-country</th>\n",
       "      <th>income</th>\n",
       "    </tr>\n",
       "  </thead>\n",
       "  <tbody>\n",
       "    <tr>\n",
       "      <th>0</th>\n",
       "      <td>39</td>\n",
       "      <td>State-gov</td>\n",
       "      <td>77516</td>\n",
       "      <td>Bachelors</td>\n",
       "      <td>13</td>\n",
       "      <td>Never-married</td>\n",
       "      <td>Adm-clerical</td>\n",
       "      <td>Not-in-family</td>\n",
       "      <td>White</td>\n",
       "      <td>Male</td>\n",
       "      <td>2174</td>\n",
       "      <td>0</td>\n",
       "      <td>40</td>\n",
       "      <td>United-States</td>\n",
       "      <td>&lt;=50K</td>\n",
       "    </tr>\n",
       "    <tr>\n",
       "      <th>1</th>\n",
       "      <td>50</td>\n",
       "      <td>Self-emp-not-inc</td>\n",
       "      <td>83311</td>\n",
       "      <td>Bachelors</td>\n",
       "      <td>13</td>\n",
       "      <td>Married-civ-spouse</td>\n",
       "      <td>Exec-managerial</td>\n",
       "      <td>Husband</td>\n",
       "      <td>White</td>\n",
       "      <td>Male</td>\n",
       "      <td>0</td>\n",
       "      <td>0</td>\n",
       "      <td>13</td>\n",
       "      <td>United-States</td>\n",
       "      <td>&lt;=50K</td>\n",
       "    </tr>\n",
       "    <tr>\n",
       "      <th>2</th>\n",
       "      <td>38</td>\n",
       "      <td>Private</td>\n",
       "      <td>215646</td>\n",
       "      <td>HS-grad</td>\n",
       "      <td>9</td>\n",
       "      <td>Divorced</td>\n",
       "      <td>Handlers-cleaners</td>\n",
       "      <td>Not-in-family</td>\n",
       "      <td>White</td>\n",
       "      <td>Male</td>\n",
       "      <td>0</td>\n",
       "      <td>0</td>\n",
       "      <td>40</td>\n",
       "      <td>United-States</td>\n",
       "      <td>&lt;=50K</td>\n",
       "    </tr>\n",
       "    <tr>\n",
       "      <th>3</th>\n",
       "      <td>53</td>\n",
       "      <td>Private</td>\n",
       "      <td>234721</td>\n",
       "      <td>11th</td>\n",
       "      <td>7</td>\n",
       "      <td>Married-civ-spouse</td>\n",
       "      <td>Handlers-cleaners</td>\n",
       "      <td>Husband</td>\n",
       "      <td>Black</td>\n",
       "      <td>Male</td>\n",
       "      <td>0</td>\n",
       "      <td>0</td>\n",
       "      <td>40</td>\n",
       "      <td>United-States</td>\n",
       "      <td>&lt;=50K</td>\n",
       "    </tr>\n",
       "    <tr>\n",
       "      <th>4</th>\n",
       "      <td>28</td>\n",
       "      <td>Private</td>\n",
       "      <td>338409</td>\n",
       "      <td>Bachelors</td>\n",
       "      <td>13</td>\n",
       "      <td>Married-civ-spouse</td>\n",
       "      <td>Prof-specialty</td>\n",
       "      <td>Wife</td>\n",
       "      <td>Black</td>\n",
       "      <td>Female</td>\n",
       "      <td>0</td>\n",
       "      <td>0</td>\n",
       "      <td>40</td>\n",
       "      <td>Cuba</td>\n",
       "      <td>&lt;=50K</td>\n",
       "    </tr>\n",
       "  </tbody>\n",
       "</table>\n",
       "</div>"
      ],
      "text/plain": [
       "   age         workclass  fnlwgt  education  education-num  \\\n",
       "0   39         State-gov   77516  Bachelors             13   \n",
       "1   50  Self-emp-not-inc   83311  Bachelors             13   \n",
       "2   38           Private  215646    HS-grad              9   \n",
       "3   53           Private  234721       11th              7   \n",
       "4   28           Private  338409  Bachelors             13   \n",
       "\n",
       "       marital-status         occupation   relationship   race     sex  \\\n",
       "0       Never-married       Adm-clerical  Not-in-family  White    Male   \n",
       "1  Married-civ-spouse    Exec-managerial        Husband  White    Male   \n",
       "2            Divorced  Handlers-cleaners  Not-in-family  White    Male   \n",
       "3  Married-civ-spouse  Handlers-cleaners        Husband  Black    Male   \n",
       "4  Married-civ-spouse     Prof-specialty           Wife  Black  Female   \n",
       "\n",
       "   capital-gain  capital-loss  hours-per-week native-country income  \n",
       "0          2174             0              40  United-States  <=50K  \n",
       "1             0             0              13  United-States  <=50K  \n",
       "2             0             0              40  United-States  <=50K  \n",
       "3             0             0              40  United-States  <=50K  \n",
       "4             0             0              40           Cuba  <=50K  "
      ]
     },
     "execution_count": 73,
     "metadata": {},
     "output_type": "execute_result"
    }
   ],
   "source": [
    "adult  = pd.read_csv(\"C:\\\\Users\\\\Hassan\\\\Desktop\\\\Data and Things\\\\code\\\\Data_and_Things_W2025_Exercises\\\\data\\\\adult.csv\")\n",
    "adult.head()"
   ]
  },
  {
   "cell_type": "markdown",
   "id": "0e9a4706",
   "metadata": {},
   "source": [
    "### 1. Clean the `income` variable such that it has only two values\n"
   ]
  },
  {
   "cell_type": "code",
   "execution_count": 74,
   "id": "62623518-efd3-4873-97b4-134e5e32aa58",
   "metadata": {},
   "outputs": [],
   "source": [
    "adult = adult.replace({\"<=50K.\" : \"<=50K\", \">50K.\": \">50K\" })\n",
    "adult['income'].value_counts()\n",
    "\n",
    "adult = pd.get_dummies(adult, columns=['income'], dtype=int, drop_first=True)\n",
    "\n"
   ]
  },
  {
   "cell_type": "markdown",
   "id": "4c1b3eae",
   "metadata": {},
   "source": [
    "### 2. Select as set of minimum two feature variables you want to use to predict `income`. Do the necessary transformation of these variables."
   ]
  },
  {
   "cell_type": "code",
   "execution_count": null,
   "id": "dd567e8e",
   "metadata": {},
   "outputs": [],
   "source": [
    "#\"age\", \"workclass\", \"fnlwgt\",\t\"education\", \"education-num\", \"marital-status\", \"occupation\", \"relationship\", \"race\", \"sex\", \"capital-gain\", \"capital-loss\", \"hours-per-week\",\t\"native-country\"\n",
    "# my Feature variables are Race and Sex, age and education num.\n",
    "X = adult[['age', 'race', 'sex', 'education-num']]\n",
    "\n",
    "#getting the dummy vars out of the categorical variables\n",
    "X  = pd.get_dummies(X, columns=['race', 'sex'], dtype=int, drop_first=True)\n",
    "\n",
    "y = adult['income_>50K']"
   ]
  },
  {
   "cell_type": "markdown",
   "id": "913e7e4e",
   "metadata": {},
   "source": [
    "### 3. Create X and y dataset and split the datasets into training and testing sets\n"
   ]
  },
  {
   "cell_type": "code",
   "execution_count": 77,
   "id": "4dac68e5",
   "metadata": {},
   "outputs": [],
   "source": [
    "X_train, X_test, y_train, y_test = train_test_split(X,y,test_size=0.20, random_state= 808)\n",
    "#Here, the Dataset is broken into two parts in a ratio of 75:20\n",
    "#It means 75% for model training and 20% for model testing"
   ]
  },
  {
   "cell_type": "markdown",
   "id": "cca48d54",
   "metadata": {},
   "source": [
    "### 4. Train a KNN classifier to predict the variable `income` based on the feature variables selected in 2 - try out some different Ks \n"
   ]
  },
  {
   "cell_type": "code",
   "execution_count": 78,
   "id": "19fd6d4a",
   "metadata": {},
   "outputs": [],
   "source": [
    "def knnSweepCrossValidation(X, y, maxK, folds=10):\n",
    "    #empty list to store mean accuracy scores for each K.\n",
    "    kacclist = []   \n",
    "        \n",
    "    #for each K\n",
    "    for k in range(2, maxK):\n",
    "        # create KNN classifier using that K\n",
    "        knn = KNeighborsClassifier(n_neighbors=k)     \n",
    "        #perform cross validation and \n",
    "        scores = cross_val_score(knn, X, y, cv = folds)\n",
    "        #append to dataframe\n",
    "        kacclist.append({\"K\": k, \"CV accuracy\": scores.mean()})\n",
    "\n",
    "    return pd.DataFrame(kacclist)"
   ]
  },
  {
   "cell_type": "code",
   "execution_count": 79,
   "id": "3c317ff9",
   "metadata": {},
   "outputs": [
    {
     "data": {
      "text/html": [
       "<div>\n",
       "<style scoped>\n",
       "    .dataframe tbody tr th:only-of-type {\n",
       "        vertical-align: middle;\n",
       "    }\n",
       "\n",
       "    .dataframe tbody tr th {\n",
       "        vertical-align: top;\n",
       "    }\n",
       "\n",
       "    .dataframe thead th {\n",
       "        text-align: right;\n",
       "    }\n",
       "</style>\n",
       "<table border=\"1\" class=\"dataframe\">\n",
       "  <thead>\n",
       "    <tr style=\"text-align: right;\">\n",
       "      <th></th>\n",
       "      <th>K</th>\n",
       "      <th>CV accuracy</th>\n",
       "    </tr>\n",
       "  </thead>\n",
       "  <tbody>\n",
       "    <tr>\n",
       "      <th>0</th>\n",
       "      <td>2</td>\n",
       "      <td>0.776265</td>\n",
       "    </tr>\n",
       "    <tr>\n",
       "      <th>1</th>\n",
       "      <td>3</td>\n",
       "      <td>0.765900</td>\n",
       "    </tr>\n",
       "    <tr>\n",
       "      <th>2</th>\n",
       "      <td>4</td>\n",
       "      <td>0.782638</td>\n",
       "    </tr>\n",
       "    <tr>\n",
       "      <th>3</th>\n",
       "      <td>5</td>\n",
       "      <td>0.779413</td>\n",
       "    </tr>\n",
       "    <tr>\n",
       "      <th>4</th>\n",
       "      <td>6</td>\n",
       "      <td>0.786400</td>\n",
       "    </tr>\n",
       "    <tr>\n",
       "      <th>5</th>\n",
       "      <td>7</td>\n",
       "      <td>0.785376</td>\n",
       "    </tr>\n",
       "    <tr>\n",
       "      <th>6</th>\n",
       "      <td>8</td>\n",
       "      <td>0.787628</td>\n",
       "    </tr>\n",
       "    <tr>\n",
       "      <th>7</th>\n",
       "      <td>9</td>\n",
       "      <td>0.786732</td>\n",
       "    </tr>\n",
       "    <tr>\n",
       "      <th>8</th>\n",
       "      <td>10</td>\n",
       "      <td>0.791569</td>\n",
       "    </tr>\n",
       "    <tr>\n",
       "      <th>9</th>\n",
       "      <td>11</td>\n",
       "      <td>0.790392</td>\n",
       "    </tr>\n",
       "    <tr>\n",
       "      <th>10</th>\n",
       "      <td>12</td>\n",
       "      <td>0.793054</td>\n",
       "    </tr>\n",
       "    <tr>\n",
       "      <th>11</th>\n",
       "      <td>13</td>\n",
       "      <td>0.792849</td>\n",
       "    </tr>\n",
       "    <tr>\n",
       "      <th>12</th>\n",
       "      <td>14</td>\n",
       "      <td>0.794641</td>\n",
       "    </tr>\n",
       "    <tr>\n",
       "      <th>13</th>\n",
       "      <td>15</td>\n",
       "      <td>0.793745</td>\n",
       "    </tr>\n",
       "    <tr>\n",
       "      <th>14</th>\n",
       "      <td>16</td>\n",
       "      <td>0.796176</td>\n",
       "    </tr>\n",
       "    <tr>\n",
       "      <th>15</th>\n",
       "      <td>17</td>\n",
       "      <td>0.795511</td>\n",
       "    </tr>\n",
       "    <tr>\n",
       "      <th>16</th>\n",
       "      <td>18</td>\n",
       "      <td>0.797865</td>\n",
       "    </tr>\n",
       "    <tr>\n",
       "      <th>17</th>\n",
       "      <td>19</td>\n",
       "      <td>0.796125</td>\n",
       "    </tr>\n",
       "    <tr>\n",
       "      <th>18</th>\n",
       "      <td>20</td>\n",
       "      <td>0.797149</td>\n",
       "    </tr>\n",
       "    <tr>\n",
       "      <th>19</th>\n",
       "      <td>21</td>\n",
       "      <td>0.796048</td>\n",
       "    </tr>\n",
       "    <tr>\n",
       "      <th>20</th>\n",
       "      <td>22</td>\n",
       "      <td>0.797661</td>\n",
       "    </tr>\n",
       "    <tr>\n",
       "      <th>21</th>\n",
       "      <td>23</td>\n",
       "      <td>0.795639</td>\n",
       "    </tr>\n",
       "    <tr>\n",
       "      <th>22</th>\n",
       "      <td>24</td>\n",
       "      <td>0.798275</td>\n",
       "    </tr>\n",
       "    <tr>\n",
       "      <th>23</th>\n",
       "      <td>25</td>\n",
       "      <td>0.796432</td>\n",
       "    </tr>\n",
       "    <tr>\n",
       "      <th>24</th>\n",
       "      <td>26</td>\n",
       "      <td>0.798505</td>\n",
       "    </tr>\n",
       "    <tr>\n",
       "      <th>25</th>\n",
       "      <td>27</td>\n",
       "      <td>0.797046</td>\n",
       "    </tr>\n",
       "    <tr>\n",
       "      <th>26</th>\n",
       "      <td>28</td>\n",
       "      <td>0.798761</td>\n",
       "    </tr>\n",
       "    <tr>\n",
       "      <th>27</th>\n",
       "      <td>29</td>\n",
       "      <td>0.797046</td>\n",
       "    </tr>\n",
       "  </tbody>\n",
       "</table>\n",
       "</div>"
      ],
      "text/plain": [
       "     K  CV accuracy\n",
       "0    2     0.776265\n",
       "1    3     0.765900\n",
       "2    4     0.782638\n",
       "3    5     0.779413\n",
       "4    6     0.786400\n",
       "5    7     0.785376\n",
       "6    8     0.787628\n",
       "7    9     0.786732\n",
       "8   10     0.791569\n",
       "9   11     0.790392\n",
       "10  12     0.793054\n",
       "11  13     0.792849\n",
       "12  14     0.794641\n",
       "13  15     0.793745\n",
       "14  16     0.796176\n",
       "15  17     0.795511\n",
       "16  18     0.797865\n",
       "17  19     0.796125\n",
       "18  20     0.797149\n",
       "19  21     0.796048\n",
       "20  22     0.797661\n",
       "21  23     0.795639\n",
       "22  24     0.798275\n",
       "23  25     0.796432\n",
       "24  26     0.798505\n",
       "25  27     0.797046\n",
       "26  28     0.798761\n",
       "27  29     0.797046"
      ]
     },
     "execution_count": 79,
     "metadata": {},
     "output_type": "execute_result"
    }
   ],
   "source": [
    "#takes a bit, but we are also running 30 KNNs\n",
    "Knn30= knnSweepCrossValidation(X_train, y_train, 30)\n",
    "Knn30"
   ]
  },
  {
   "cell_type": "code",
   "execution_count": 80,
   "id": "72d9f954",
   "metadata": {},
   "outputs": [
    {
     "data": {
      "image/png": "[encoded data removed]",
      "text/plain": [
       "<Figure size 640x480 with 1 Axes>"
      ]
     },
     "metadata": {},
     "output_type": "display_data"
    }
   ],
   "source": [
    "plt.plot(Knn30[\"K\"], Knn30[\"CV accuracy\"], label = 'CV accurcay', color='red', marker='o', linestyle='solid') \n",
    "plt.xlabel('K')\n",
    "plt.ylabel('Accuracy')\n",
    "plt.title(\"Accuracy / amount of K's\")\n",
    "plt.legend()\n",
    "\n",
    "plt.show()"
   ]
  },
  {
   "cell_type": "code",
   "execution_count": 81,
   "id": "c2ade82c",
   "metadata": {},
   "outputs": [],
   "source": [
    "def train(x,ytrain,ytest,k):\n",
    "\n",
    "    # training model entire training dataset\n",
    "    knn = KNeighborsClassifier(n_neighbors=k)\n",
    "    knn.fit(x, ytrain)\n",
    "\n",
    "    #Evaluating on unseen test data \n",
    "    y_pred = knn.predict(X_test)\n",
    "    test_accuracy = accuracy_score(ytest, y_pred)\n",
    "\n",
    "    print(f\"Test Accuracy with K={k}: {test_accuracy:.4f}\")\n",
    "\n",
    "\n",
    "\n"
   ]
  },
  {
   "cell_type": "code",
   "execution_count": 82,
   "id": "fb723eef",
   "metadata": {},
   "outputs": [
    {
     "name": "stdout",
     "output_type": "stream",
     "text": [
      "Test Accuracy with K=18: 0.7963\n"
     ]
    }
   ],
   "source": [
    "#K18 looked good\n",
    "train(X_train, y_train, y_test, 18)"
   ]
  },
  {
   "cell_type": "code",
   "execution_count": 83,
   "id": "7438269a",
   "metadata": {},
   "outputs": [],
   "source": [
    "def mkConfMatrix(k, X_train, X_test, y_train, y_test):\n",
    "    knnX = KNeighborsClassifier(n_neighbors=k)\n",
    "    knnX.fit(X_train, y_train)\n",
    "    y_pred = knnX.predict(X_test)\n",
    "    \n",
    "    ConfusionMatrixDisplay(confusion_matrix(y_test, y_pred)).plot()\n",
    "    plt.show()\n",
    "    \n",
    "    print(f\"K:{k}\")\n",
    "    print(f\"Accuracy: {accuracy_score(y_test, y_pred)}\")\n",
    "    print(f\"Precision: {precision_score(y_test, y_pred)}\")\n",
    "    print(f\"Recall: {recall_score(y_test, y_pred)}\")\n",
    "    print(f\"F1: {f1_score(y_test, y_pred)}\")"
   ]
  },
  {
   "cell_type": "code",
   "execution_count": 84,
   "id": "5296760f",
   "metadata": {},
   "outputs": [
    {
     "data": {
      "image/png": "[encoded data removed]",
      "text/plain": [
       "<Figure size 640x480 with 2 Axes>"
      ]
     },
     "metadata": {},
     "output_type": "display_data"
    },
    {
     "name": "stdout",
     "output_type": "stream",
     "text": [
      "K:18\n",
      "Accuracy: 0.7962944006551336\n",
      "Precision: 0.6201322556943424\n",
      "Recall: 0.3642641346568839\n",
      "F1: 0.45894507884719954\n"
     ]
    }
   ],
   "source": [
    "mkConfMatrix(18,X_train, X_test, y_train, y_test)"
   ]
  },
  {
   "cell_type": "markdown",
   "id": "9022ce2f",
   "metadata": {},
   "source": [
    "### 5. Train a logistic regression classifier to predict the variable `income` based on the feature variables selected in 2 and compare it to the KNN classifier.\n"
   ]
  },
  {
   "cell_type": "code",
   "execution_count": 85,
   "id": "bfcf767a",
   "metadata": {},
   "outputs": [
    {
     "data": {
      "image/png": "[encoded data removed]",
      "text/plain": [
       "<Figure size 640x480 with 2 Axes>"
      ]
     },
     "metadata": {},
     "output_type": "display_data"
    },
    {
     "name": "stdout",
     "output_type": "stream",
     "text": [
      "\n",
      "Accuracy: 0.7972156822602109 \n",
      "Precision: 0.6327014218009479 \n",
      "Recall: 0.34570565386275354 \n",
      "F1: 0.4471113591962043\n"
     ]
    }
   ],
   "source": [
    "logreg = LogisticRegression(random_state=16, max_iter=1000)\n",
    "logreg.fit(X_train, y_train)\n",
    "logreg_y_pred_test = logreg.predict(X_test)\n",
    "\n",
    "ConfusionMatrixDisplay(confusion_matrix(y_test, logreg_y_pred_test)).plot()\n",
    "plt.show()\n",
    "print(f\"\\nAccuracy: {accuracy_score(y_test, logreg_y_pred_test)} \\nPrecision: {precision_score(y_test,logreg_y_pred_test)} \\nRecall: {recall_score(y_test,logreg_y_pred_test)} \\nF1: {f1_score(y_test,logreg_y_pred_test)}\")\n"
   ]
  },
  {
   "cell_type": "markdown",
   "id": "93512409",
   "metadata": {},
   "source": [
    "Logistic Regression has a slight edge in precision, while KNN has a slightly better recall and F1 score.\n",
    "ultimately no difference here"
   ]
  },
  {
   "cell_type": "markdown",
   "id": "be48b0f3",
   "metadata": {},
   "source": [
    "### 6. Train a decision tree classifier to predict the variable `income` based on the feature variables selected in 2 and compare it to the previous classifiers.\n"
   ]
  },
  {
   "cell_type": "code",
   "execution_count": 86,
   "id": "f6f59986",
   "metadata": {},
   "outputs": [
    {
     "data": {
      "image/png": "[encoded data removed]",
      "text/plain": [
       "<Figure size 640x480 with 2 Axes>"
      ]
     },
     "metadata": {},
     "output_type": "display_data"
    },
    {
     "name": "stdout",
     "output_type": "stream",
     "text": [
      "\n",
      "Accuracy: 0.794451837444979 \n",
      "Precision: 0.6081175647305809 \n",
      "Recall: 0.37505394907207595 \n",
      "F1: 0.4639615589962627\n"
     ]
    }
   ],
   "source": [
    "dtree = DecisionTreeClassifier()\n",
    "dtree = dtree.fit(X_train, y_train)\n",
    "y_pred_test = dtree.predict(X_test)\n",
    "ConfusionMatrixDisplay(confusion_matrix(y_test, y_pred_test)).plot()\n",
    "plt.show()\n",
    "print(f\"\\nAccuracy: {accuracy_score(y_test, y_pred_test)} \\nPrecision: {precision_score(y_test,y_pred_test)} \\nRecall: {recall_score(y_test,y_pred_test)} \\nF1: {f1_score(y_test,y_pred_test)}\")\n"
   ]
  },
  {
   "cell_type": "markdown",
   "id": "9e47fadc",
   "metadata": {},
   "source": [
    "### 7. Train a random forest classifier to predict the variable `income` based on the feature variables selected in 2 and compare it to the previous classifiers.\n"
   ]
  },
  {
   "cell_type": "code",
   "execution_count": 87,
   "id": "c0b4aa66",
   "metadata": {},
   "outputs": [
    {
     "data": {
      "image/png": "[encoded data removed]",
      "text/plain": [
       "<Figure size 640x480 with 2 Axes>"
      ]
     },
     "metadata": {},
     "output_type": "display_data"
    },
    {
     "name": "stdout",
     "output_type": "stream",
     "text": [
      "\n",
      "Accuracy: 0.7941447435766199 \n",
      "Precision: 0.6011904761904762 \n",
      "Recall: 0.39231765213638325 \n",
      "F1: 0.47479759728388615\n"
     ]
    }
   ],
   "source": [
    "rf_model = RandomForestClassifier() \n",
    "rf_model.fit(X_train, y_train)\n",
    "rf_y_pred_test = rf_model.predict(X_test)\n",
    "ConfusionMatrixDisplay(confusion_matrix(y_test, rf_y_pred_test)).plot()\n",
    "plt.show()\n",
    "print(f\"\\nAccuracy: {accuracy_score(y_test, rf_y_pred_test)} \\nPrecision: {precision_score(y_test, rf_y_pred_test)} \\nRecall: {recall_score(y_test,rf_y_pred_test)} \\nF1: {f1_score(y_test,rf_y_pred_test)}\")\n",
    "\n"
   ]
  },
  {
   "cell_type": "markdown",
   "id": "05354636",
   "metadata": {},
   "source": [
    "### 8. Train a AdaBoost classifier to predict the variable `income` based on the feature variables selected in 2 and compare it to the previous classifiers."
   ]
  },
  {
   "cell_type": "code",
   "execution_count": 89,
   "id": "210fcac8",
   "metadata": {},
   "outputs": [
    {
     "data": {
      "image/png": "[encoded data removed]",
      "text/plain": [
       "<Figure size 640x480 with 2 Axes>"
      ]
     },
     "metadata": {},
     "output_type": "display_data"
    },
    {
     "name": "stdout",
     "output_type": "stream",
     "text": [
      "\n",
      "Accuracy: 0.7172689118640598 \n",
      "Precision: 0.4465272770968517 \n",
      "Recall: 0.8018990073370738 \n",
      "F1: 0.5736338376041988\n"
     ]
    }
   ],
   "source": [
    "#was required to resample my data, as running ADAboost only predicting the class 0 for all instances in the test split. Meaning i got a 0 for Precision, Recall, and F1-score.\n",
    "# I had to use SMOTE to oversample - still not certain why it was not performing with adaboost\n",
    "\n",
    "smote = SMOTE()\n",
    "X_resampled, y_resampled = smote.fit_resample(X_train, y_train)\n",
    "\n",
    "ab_model = AdaBoostClassifier() \n",
    "ab_model.fit(X_resampled, y_resampled)\n",
    "ab_y_pred_test = ab_model.predict(X_test)\n",
    "\n",
    "ConfusionMatrixDisplay(confusion_matrix(y_test, ab_y_pred_test)).plot()\n",
    "plt.show()\n",
    "\n",
    "print(f\"\\nAccuracy: {accuracy_score(y_test, ab_y_pred_test)} \\nPrecision: {precision_score(y_test, ab_y_pred_test)} \\nRecall: {recall_score(y_test, ab_y_pred_test)} \\nF1: {f1_score(y_test, ab_y_pred_test)}\")\n"
   ]
  },
  {
   "cell_type": "markdown",
   "metadata": {},
   "source": [
    "# Analysis of results I got \n",
    "\n",
    "**KNN (K=18)<br>**\n",
    "Accuracy: 0.7962944006551336 <br>\n",
    "Precision: 0.6201322556943424 <br>\n",
    "Recall: 0.3642641346568839 <br>\n",
    "F1: 0.45894507884719954 <br>\n",
    "\n",
    "**Logistic Regression<br>**\n",
    "Accuracy: 0.7972156822602109 <br> \n",
    "Precision: 0.6327014218009479 <br>\n",
    "Recall: 0.34570565386275354 <br>\n",
    "F1: 0.4471113591962043<br>\n",
    "\n",
    "**Decision Tree<br>**\n",
    "Accuracy: 0.794451837444979 <br>\n",
    "Precision: 0.6081175647305809 <br>\n",
    "Recall: 0.37505394907207595 <br>\n",
    "F1: 0.4639615589962627<br>\n",
    "\n",
    "**Random Forest<br>**\n",
    "Accuracy: 0.7941447435766199 <br>\n",
    "Precision: 0.6011904761904762 <br>\n",
    "Recall: 0.39231765213638325 <br>\n",
    "F1: 0.47479759728388615<br>\n",
    "\n",
    "**AdaBoost<br>**\n",
    "Accuracy: 0.7085679189272187 <br> \n",
    "Precision: 0.43799719232569023 <br>\n",
    "Recall: 0.8079413034095814 <br>\n",
    "F1: 0.5680473372781065 <br>\n",
    "\n",
    "\n",
    "\n",
    "**Accuracy:**\n",
    "% of correctly predicted positive and negative instances.\n",
    "\n",
    "**Precision:** \n",
    "When high -> low false positive rate \n",
    "when low -> high false positive rate\n",
    "Rate of reliablility in terms of how many instanced predicted to be positives, but they turned out to be negatives (false positives).  \n",
    "\n",
    "**Recall:**\n",
    "High -> low false negative rate, captures a lot of postives correctly.\n",
    "low -> misses many positives\n",
    "\n",
    "**F1:** \n",
    "High -> good balance between precision and recall\n",
    "i.e good at maximizing correctly predicted postives, and minimizing false positives\n",
    "\n",
    "\n",
    "\n",
    "With this we can analyze the results above.\n",
    "\n",
    "AdaBoost has the best F1 score, even though its accuracy is the lowest, which means it has a lot of false postives.\n",
    "\n",
    "Logistic Regression is ideal for minimizing false positives.\n",
    "\n",
    "KNN, Decision Tree, and Random Forest all are somewhat balanced in their performance.\n",
    "KNN is best for getting the positives right, as it has teh highest recall of the bunch.\n",
    "\n",
    "Random forest could benifit from hyper parameter tuning.\n",
    "\n"
   ]
  }
 ],
 "metadata": {
  "kernelspec": {
   "display_name": "venv",
   "language": "python",
   "name": "python3"
  },
  "language_info": {
   "codemirror_mode": {
    "name": "ipython",
    "version": 3
   },
   "file_extension": ".py",
   "mimetype": "text/x-python",
   "name": "python",
   "nbconvert_exporter": "python",
   "pygments_lexer": "ipython3",
   "version": "3.12.0"
  }
 },
 "nbformat": 4,
 "nbformat_minor": 5
}
