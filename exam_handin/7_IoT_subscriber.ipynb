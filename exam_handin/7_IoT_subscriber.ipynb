{
 "cells": [
  {
   "cell_type": "markdown",
   "metadata": {},
   "source": [
    "# IoT and sensor data\n",
    "## From \"pdm_task.ipynb\" February 19, 2025\n",
    "(use venv_requirements.txt)"
   ]
  },
  {
   "cell_type": "markdown",
   "metadata": {},
   "source": [
    "i. The first one is explained in bullet 2 of slide 16 of the slide deck “IoT & Sensor\n",
    "Data.pptx”. You need to do the entire task described in bullet 2 of slide 16."
   ]
  },
  {
   "cell_type": "markdown",
   "metadata": {},
   "source": [
    "# Monitoring IoT Sensor Data\n",
    "## Data Subscriber Simulation\n",
    "\n",
    "This part of code simulates an IoT data subscriber that receives data sent out by a publisher via a MQTT broker. Note a subscriber doesn't work without a publisher or a broker.\n",
    "\n",
    "See IoT_Publisher.ipynb for more details about the publisher and broker."
   ]
  },
  {
   "cell_type": "markdown",
   "metadata": {},
   "source": [
    "## 4. Modification of the MQTT example"
   ]
  },
  {
   "cell_type": "code",
   "execution_count": null,
   "metadata": {},
   "outputs": [],
   "source": [
    "import paho.mqtt.client as mqtt\n",
    "import json\n",
    "from sklearn.neighbors import KNeighborsClassifier\n",
    "\n",
    "# initialization of variables to be used\n",
    "last_5_records = []\n",
    "correct_classifications = 0\n",
    "total_classifications = 0\n",
    "\n",
    "def on_connect(client, userdata, flags, rc):\n",
    "    client.subscribe('diabetes')\n",
    "\n",
    "# This function defines what to do when we receives a message from the brokder\n",
    "def on_message(client, userdata, msg):\n",
    "    global last_5_records, correct_classifications, total_classifications\n",
    "\n",
    "    #Defining 3KNN Classifier \n",
    "    knn = KNeighborsClassifier(n_neighbors=3)\n",
    "\n",
    "    #decoding payload\n",
    "    payload = msg.payload.decode()\n",
    "\n",
    "    #deserialize received string into dictionary\n",
    "    record = json.loads(payload)    \n",
    "    \n",
    "    #extract features and labels\n",
    "    features = [record['Glucose'], record['BloodPressure'], record['Insulin']]\n",
    "    label = record['Outcome']\n",
    "    \n",
    "    \n",
    "    last_5_records.append((features, label))\n",
    "\n",
    "    # first in, first out\n",
    "    if len(last_5_records) > 5:\n",
    "        last_5_records.pop(0)\n",
    "\n",
    "    # If we have at least 5 records, we perform 3NN classification\n",
    "    if len(last_5_records) == 5:\n",
    "        #features\n",
    "        X_train = [rec[0] for rec in last_5_records[:-1]]\n",
    "        #labels\n",
    "        y_train = [rec[1] for rec in last_5_records[:-1]]\n",
    "\n",
    "        knn.fit(X_train, y_train)\n",
    "\n",
    "        #[0] = the first element returned by predict method, as we are only running predict on one sample at a time. \n",
    "        predicted_label = knn.predict([features])[0]\n",
    "\n",
    "        #counting our correct_classifications        \n",
    "        if predicted_label == label:\n",
    "            correct_classifications += 1\n",
    "        #and adding to how many classifications we have done so far \n",
    "        total_classifications +=1\n",
    "        print(f\"Total classifications: {total_classifications}, Correct classifications: {correct_classifications}\")\n",
    "\n",
    "        # the backstop so we dont exceed 1000 -\n",
    "        if total_classifications >= 999:\n",
    "            print(f\"Final accuracy: {correct_classifications / total_classifications}\")\n",
    "            total_classifications =0\n",
    "            correct_classifications = 0\n",
    "\n",
    "            \n",
    "            #if we want to dc just uncomment line below, but the task asked us to do this contninously so we loop forever.\n",
    "            #client.disconnect()\n",
    "\n",
    "#below is code from taken from IoT_subscriber.ipynb\n",
    "mqttc = mqtt.Client()\n",
    "mqttc.on_connect = on_connect\n",
    "mqttc.on_message = on_message\n",
    "mqttc.connect(\"mqtt.eclipseprojects.io\", 1883, 60)\n",
    "mqttc.loop_forever()"
   ]
  }
 ],
 "metadata": {
  "kernelspec": {
   "display_name": "venv",
   "language": "python",
   "name": "python3"
  },
  "language_info": {
   "codemirror_mode": {
    "name": "ipython",
    "version": 3
   },
   "file_extension": ".py",
   "mimetype": "text/x-python",
   "name": "python",
   "nbconvert_exporter": "python",
   "pygments_lexer": "ipython3",
   "version": "3.12.0"
  }
 },
 "nbformat": 4,
 "nbformat_minor": 4
}
