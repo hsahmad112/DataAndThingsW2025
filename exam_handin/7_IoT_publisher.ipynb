{
 "cells": [
  {
   "cell_type": "markdown",
   "metadata": {},
   "source": [
    "# IoT and sensor data\n",
    "## From \"pdm_task.ipynb\" February 19, 2025\n",
    "(use venv_requirements.txt)"
   ]
  },
  {
   "cell_type": "markdown",
   "metadata": {},
   "source": [
    "i. The first one is explained in bullet 2 of slide 16 of the slide deck “IoT & Sensor\n",
    "Data.pptx”. You need to do the entire task described in bullet 2 of slide 16."
   ]
  },
  {
   "cell_type": "markdown",
   "metadata": {},
   "source": [
    "# Monitoring IoT Sensor Data\n",
    "## Data Publisher Simulation\n",
    "\n",
    "This part of code simulates an IoT data publisher, which continuously sends data readings to the broker."
   ]
  },
  {
   "cell_type": "code",
   "execution_count": null,
   "metadata": {},
   "outputs": [],
   "source": [
    "#Glucose, BloodPressure, Insulin, Outcome\n",
    "from sklearn.model_selection import train_test_split\n",
    "import pandas as pd\n",
    "from sklearn.metrics import mean_squared_error, mean_absolute_error\n",
    "from sklearn.preprocessing import MinMaxScaler"
   ]
  },
  {
   "cell_type": "code",
   "execution_count": null,
   "metadata": {},
   "outputs": [],
   "source": [
    "diabetes = pd.read_csv(\"C:\\\\Users\\\\Hassan\\\\Desktop\\\\Data and Things\\\\code\\\\Data_and_Things_W2025_Exercises\\\\data\\\\diabetes.csv\")\n"
   ]
  },
  {
   "cell_type": "markdown",
   "metadata": {},
   "source": [
    "## Select the following 4 attributes (3 features + 1 class label):"
   ]
  },
  {
   "cell_type": "code",
   "execution_count": null,
   "metadata": {},
   "outputs": [],
   "source": [
    "diabetes = diabetes[['Glucose', 'BloodPressure', 'Insulin', 'Outcome']]"
   ]
  },
  {
   "cell_type": "markdown",
   "metadata": {},
   "source": [
    "## 2. Normalize Glucose, BloodPressure and Insulin to [0, 1] using MinMax.\n"
   ]
  },
  {
   "cell_type": "code",
   "execution_count": null,
   "metadata": {},
   "outputs": [],
   "source": [
    "scaler = MinMaxScaler()\n",
    "scaled_data = scaler.fit_transform(diabetes)"
   ]
  },
  {
   "cell_type": "markdown",
   "metadata": {},
   "source": [
    "## 3. Store the new data (3 normalized features + 1 class label) in another dataset S.\n"
   ]
  },
  {
   "cell_type": "code",
   "execution_count": null,
   "metadata": {},
   "outputs": [],
   "source": [
    "S = pd.DataFrame(scaled_data, columns=diabetes.columns)"
   ]
  },
  {
   "cell_type": "markdown",
   "metadata": {},
   "source": [
    "## 4. Modification of the MQTT example (see 7_IoT_subscriber.ipynb too)"
   ]
  },
  {
   "cell_type": "code",
   "execution_count": null,
   "metadata": {},
   "outputs": [],
   "source": [
    "import time\n",
    "import paho.mqtt.client as mqtt\n",
    "\n",
    "mqttc = mqtt.Client()\n",
    "mqttc.connect(\"mqtt.eclipseprojects.io\", 1883, 60)\n",
    "\n",
    "data = S\n",
    "period = len(data)\n",
    "\n",
    "if __name__ == \"__main__\":\n",
    "    print(\"Publishing...\")\n",
    "    #runs forever, continiously.  \n",
    "    \n",
    "    while True:\n",
    "        #iterrows(), interates over DF, returns index and row.\n",
    "        for index, row in S.iterrows():\n",
    "            # Get the current data reading to send out\n",
    "            print(f'now printing out row {index}')\n",
    "            json_str = row.to_json()\n",
    "\n",
    "            mqttc.publish(\"diabetes\", str(json_str))\n",
    "            \n",
    "\n",
    "            time.sleep(0.2)\n",
    "\n",
    "            \n",
    "\n",
    "        \n"
   ]
  }
 ],
 "metadata": {
  "kernelspec": {
   "display_name": "venv",
   "language": "python",
   "name": "python3"
  },
  "language_info": {
   "codemirror_mode": {
    "name": "ipython",
    "version": 3
   },
   "file_extension": ".py",
   "mimetype": "text/x-python",
   "name": "python",
   "nbconvert_exporter": "python",
   "pygments_lexer": "ipython3",
   "version": "3.12.0"
  }
 },
 "nbformat": 4,
 "nbformat_minor": 4
}
