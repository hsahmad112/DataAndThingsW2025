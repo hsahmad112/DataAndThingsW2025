{
 "cells": [
  {
   "cell_type": "markdown",
   "metadata": {},
   "source": [
    "# Statistics\n",
    "## From \"Exercises in statistics.ipynb\" February 10, 2025 \n",
    "### Exercise 3\n",
    "\n",
    "Load in the data \"energySoftware.csv\" and answer the following questions:\n",
    "1. Plot the distribution of CPU for each test type\n",
    "2. Is there a difference in the CPU between bubblesort and bubblesort_ll? (note that the last name contains two small l's and not two capital i's) Justify your choice of test(s). \n",
    "3. Is there a difference in the CPU between bubblesort_func and bubblesort_ll2? Justify your choice of test(s). If there is a difference, how big is it?\n",
    "4. When it comes to time, is there a difference between bubblesort and bubblesort_ll? Justify your choice of test(s).\n",
    "5. Perform an ANOVA test to test if there is a difference in means across groups for CPU\n",
    "6. Perform an ANOVA test to test if there is a difference in means across groups for time"
   ]
  },
  {
   "cell_type": "code",
   "execution_count": 26,
   "metadata": {},
   "outputs": [],
   "source": [
    "import numpy as np\n",
    "import pandas as pd\n",
    "from matplotlib import pyplot as plt\n",
    "import seaborn as sns\n",
    "from scipy import stats"
   ]
  },
  {
   "cell_type": "code",
   "execution_count": 27,
   "metadata": {},
   "outputs": [
    {
     "data": {
      "text/html": [
       "<div>\n",
       "<style scoped>\n",
       "    .dataframe tbody tr th:only-of-type {\n",
       "        vertical-align: middle;\n",
       "    }\n",
       "\n",
       "    .dataframe tbody tr th {\n",
       "        vertical-align: top;\n",
       "    }\n",
       "\n",
       "    .dataframe thead th {\n",
       "        text-align: right;\n",
       "    }\n",
       "</style>\n",
       "<table border=\"1\" class=\"dataframe\">\n",
       "  <thead>\n",
       "    <tr style=\"text-align: right;\">\n",
       "      <th></th>\n",
       "      <th>test</th>\n",
       "      <th>PKG</th>\n",
       "      <th>CPU</th>\n",
       "      <th>nn</th>\n",
       "      <th>nn2</th>\n",
       "      <th>time</th>\n",
       "    </tr>\n",
       "  </thead>\n",
       "  <tbody>\n",
       "    <tr>\n",
       "      <th>0</th>\n",
       "      <td>bubblesort</td>\n",
       "      <td>0.010986</td>\n",
       "      <td>0.009155</td>\n",
       "      <td></td>\n",
       "      <td></td>\n",
       "      <td>3.165</td>\n",
       "    </tr>\n",
       "    <tr>\n",
       "      <th>1</th>\n",
       "      <td>bubblesort</td>\n",
       "      <td>0.013184</td>\n",
       "      <td>0.010925</td>\n",
       "      <td></td>\n",
       "      <td></td>\n",
       "      <td>3.069</td>\n",
       "    </tr>\n",
       "    <tr>\n",
       "      <th>2</th>\n",
       "      <td>bubblesort</td>\n",
       "      <td>0.015198</td>\n",
       "      <td>0.009399</td>\n",
       "      <td></td>\n",
       "      <td></td>\n",
       "      <td>2.617</td>\n",
       "    </tr>\n",
       "    <tr>\n",
       "      <th>3</th>\n",
       "      <td>bubblesort</td>\n",
       "      <td>0.010559</td>\n",
       "      <td>0.009583</td>\n",
       "      <td></td>\n",
       "      <td></td>\n",
       "      <td>2.572</td>\n",
       "    </tr>\n",
       "    <tr>\n",
       "      <th>4</th>\n",
       "      <td>bubblesort</td>\n",
       "      <td>0.009949</td>\n",
       "      <td>0.009949</td>\n",
       "      <td></td>\n",
       "      <td></td>\n",
       "      <td>2.671</td>\n",
       "    </tr>\n",
       "    <tr>\n",
       "      <th>...</th>\n",
       "      <td>...</td>\n",
       "      <td>...</td>\n",
       "      <td>...</td>\n",
       "      <td>...</td>\n",
       "      <td>...</td>\n",
       "      <td>...</td>\n",
       "    </tr>\n",
       "    <tr>\n",
       "      <th>1436</th>\n",
       "      <td>bubblesort_ll</td>\n",
       "      <td>0.013184</td>\n",
       "      <td>0.014038</td>\n",
       "      <td></td>\n",
       "      <td></td>\n",
       "      <td>2.394</td>\n",
       "    </tr>\n",
       "    <tr>\n",
       "      <th>1437</th>\n",
       "      <td>bubblesort_ll</td>\n",
       "      <td>0.021362</td>\n",
       "      <td>0.014343</td>\n",
       "      <td></td>\n",
       "      <td></td>\n",
       "      <td>2.428</td>\n",
       "    </tr>\n",
       "    <tr>\n",
       "      <th>1438</th>\n",
       "      <td>bubblesort_ll</td>\n",
       "      <td>0.013672</td>\n",
       "      <td>0.014221</td>\n",
       "      <td></td>\n",
       "      <td></td>\n",
       "      <td>2.479</td>\n",
       "    </tr>\n",
       "    <tr>\n",
       "      <th>1439</th>\n",
       "      <td>bubblesort_ll</td>\n",
       "      <td>0.019531</td>\n",
       "      <td>0.014526</td>\n",
       "      <td></td>\n",
       "      <td></td>\n",
       "      <td>2.537</td>\n",
       "    </tr>\n",
       "    <tr>\n",
       "      <th>1440</th>\n",
       "      <td>bubblesort_ll</td>\n",
       "      <td>0.013428</td>\n",
       "      <td>0.013611</td>\n",
       "      <td></td>\n",
       "      <td></td>\n",
       "      <td>2.483</td>\n",
       "    </tr>\n",
       "  </tbody>\n",
       "</table>\n",
       "<p>1441 rows × 6 columns</p>\n",
       "</div>"
      ],
      "text/plain": [
       "               test       PKG       CPU  nn nn2   time\n",
       "0        bubblesort  0.010986  0.009155          3.165\n",
       "1        bubblesort  0.013184  0.010925          3.069\n",
       "2        bubblesort  0.015198  0.009399          2.617\n",
       "3        bubblesort  0.010559  0.009583          2.572\n",
       "4        bubblesort  0.009949  0.009949          2.671\n",
       "...             ...       ...       ...  ..  ..    ...\n",
       "1436  bubblesort_ll  0.013184  0.014038          2.394\n",
       "1437  bubblesort_ll  0.021362  0.014343          2.428\n",
       "1438  bubblesort_ll  0.013672  0.014221          2.479\n",
       "1439  bubblesort_ll  0.019531  0.014526          2.537\n",
       "1440  bubblesort_ll  0.013428  0.013611          2.483\n",
       "\n",
       "[1441 rows x 6 columns]"
      ]
     },
     "execution_count": 27,
     "metadata": {},
     "output_type": "execute_result"
    }
   ],
   "source": [
    "energy = pd.read_csv('C:\\\\Users\\\\Hassan\\\\Desktop\\\\Data and Things\\\\code\\\\Data_and_Things_W2025_Exercises\\\\data\\\\energySoftware.csv')\n",
    "energy"
   ]
  },
  {
   "cell_type": "markdown",
   "metadata": {},
   "source": [
    "### 1. Plot the distribution of CPU for each test type\n",
    "\n",
    "Key takeaways:\n",
    "\n",
    "* `bubblesort` looks to have the lowest mean, median and IQR in terms of CPU usage. `bubblesort` also has the largest spead in IQR, indicating less inconsistency in terms of CPU usage. Per `bubblesort`'s histogram a left skew is visible with nicely distributed data. The spread in IQR is visible here as the spread of the distribution is wide.\n",
    "<br>\n",
    "<br>\n",
    "\n",
    "* `bubblesort_func` and `bubblesort_ll2` has a higher CPU usage with `bubblesort_ll2` coming out on top. The data for these contain outliers past the whiskers. Their IQR is narrow indicating more consistency with CPU usage. Both these sorting algorithms display a right skew in their histograms. In line with their IQR their distribution is narrower than that of `bubblesort`.\n",
    "<br>\n",
    "<br>\n",
    "\n",
    "* Finally, `bubblesort_ll` has a lower median CPU usage than `bubblesort_func` and `bubblesort_ll2` and displays less outliers as well. Compared to `bubblesort` it has much narrower IQR, suggesting it uses CPU in a more consistent way.\n",
    "<br>\n",
    "<br>"
   ]
  },
  {
   "cell_type": "code",
   "execution_count": 28,
   "metadata": {},
   "outputs": [
    {
     "data": {
      "image/png": "[encoded data removed]",
      "text/plain": [
       "<Figure size 511.111x500 with 1 Axes>"
      ]
     },
     "metadata": {},
     "output_type": "display_data"
    }
   ],
   "source": [
    "sns.catplot(x='test', y=\"CPU\", data = energy, kind=\"box\", showmeans=True, meanprops={\"marker\":\"X\", \"markerfacecolor\":\"white\", \"markeredgecolor\":\"black\", \"markersize\": \"10\"})\n",
    "plt.show()"
   ]
  },
  {
   "cell_type": "code",
   "execution_count": 29,
   "metadata": {},
   "outputs": [
    {
     "data": {
      "image/png": "[encoded data removed]",
      "text/plain": [
       "<Figure size 2400x600 with 4 Axes>"
      ]
     },
     "metadata": {},
     "output_type": "display_data"
    }
   ],
   "source": [
    "g = sns.FacetGrid(data=energy, col=\"test\", height= 6)\n",
    "g.map(sns.histplot, 'CPU')\n",
    "plt.show()\n",
    "#looks very distributed"
   ]
  },
  {
   "cell_type": "markdown",
   "metadata": {},
   "source": [
    "<!-- ### 2.1 Justification of choice of test(s) for difference bubblesort and bublesort_II and CPU usage\n",
    "\n",
    "1. To start out - We are again comparing between two types of sorting algoritms and their CPU usage - So a comparison.\n",
    "2. The type of data is continuos as it is a measurement of CPU usage, which is a numerical ratio.\n",
    "3. Whether or not I should select a Parametric or Non-Parametric test:\n",
    "3.1 There are 1441 entries, so a larger sample size.\n",
    "3.2 The data has a normal distribution.\n",
    "3.3 Thus we assume to go Parametric\n",
    "4. We are comparing two groups.\n",
    "5. The groups we are comparing are different. \n",
    "\n",
    "**Thus: we will be performing a Student t-test.**\n",
    "\n",
    " -->\n"
   ]
  },
  {
   "cell_type": "markdown",
   "metadata": {},
   "source": [
    "### 2.2 Actual testing for difference between bubblesort and bublesort_II in CPU usage\n",
    "null hypothesis is:\n",
    "**<br> There is no significant difference in CPU usage between the two algorithms. <br>**\n",
    "Alternative hypothesis is that there is a difference. <br>\n",
    "Level of significance is set to > 0.05.\n",
    "We are returned a pvalue of `pvalue=np.float64(9.831404686370246e-224)` or\n",
    "0.00…00​​9831404686370246 with 0.223 zeros between the elipsies<br>\n",
    "<br>\n",
    "pvalue is so heavily under our significance level, that we can reject the null hypothesis, and say there is a statistic difference between the types of algorithms "
   ]
  },
  {
   "cell_type": "code",
   "execution_count": 30,
   "metadata": {},
   "outputs": [
    {
     "data": {
      "text/plain": [
       "TtestResult(statistic=np.float64(-47.4605163039462), pvalue=np.float64(9.831404686370246e-224), df=np.float64(719.0))"
      ]
     },
     "execution_count": 30,
     "metadata": {},
     "output_type": "execute_result"
    }
   ],
   "source": [
    "stats.ttest_ind(energy[energy[\"test\"]==\"bubblesort\"][\"CPU\"], energy[energy[\"test\"]==\"bubblesort_ll\"][\"CPU\"])\n"
   ]
  },
  {
   "cell_type": "markdown",
   "metadata": {},
   "source": [
    "### 3.1 Justification of choice of test(s) for difference between bubblesort_func and bublesort_II2 in CPU usage\n",
    "\n",
    "1. To start out - We are again comparing between two types of sorting algoritms and their CPU usage - So a again a comparison.\n",
    "2. The type of data is still a measurement, whuch is contious.\n",
    "3. Whether or not I should select a Parametric or Non-Parametric test:\n",
    "3.1 Dataset is considered large.\n",
    "3.2 Normally distributed\n",
    "3.3 So we go Parametric\n",
    "4. Comapring between two groups\n",
    "5. Different groups.\n",
    "\n",
    "**Again: we will be performing a Student t-test.**\n"
   ]
  },
  {
   "cell_type": "markdown",
   "metadata": {},
   "source": [
    "### 3.2 Actual testing for difference between bubblesort_func and bublesort_II2 in CPU usage\n",
    "null hypothesis is:\n",
    "**<br> There is no significant difference in CPU usage between the two algorithms. <br>**\n",
    "Alternative hypothesis is that there is a difference. <br>\n",
    "\n",
    "Level of significance is set to > 0.05.\n",
    "We are returned a pvalue of `3.2355729348933066e-06` or 0.0000032355729348933066\n",
    "<br>\n",
    "<br>\n",
    "pvalue is so heavily under our significance level, that we can reject the null hypothesis, and say there is a statistic difference between the types of algorithms "
   ]
  },
  {
   "cell_type": "code",
   "execution_count": null,
   "metadata": {},
   "outputs": [
    {
     "data": {
      "text/plain": [
       "TtestResult(statistic=np.float64(-4.692273179928857), pvalue=np.float64(3.2355729348933066e-06), df=np.float64(718.0))"
      ]
     },
     "execution_count": 31,
     "metadata": {},
     "output_type": "execute_result"
    }
   ],
   "source": [
    "stats.ttest_ind(energy[energy[\"test\"]==\"bubblesort_func\"][\"CPU\"], energy[energy[\"test\"]==\"bubblesort_ll2\"][\"CPU\"])\n"
   ]
  },
  {
   "cell_type": "markdown",
   "metadata": {},
   "source": [
    "### 4.1 Justification of choice of test(s) for difference between bubblesort and bubblesort_ll and time\n",
    "\n",
    "1. To start out - We are again comparing between two types of sorting algoritms and their respective time to compute - So a again a comparison.\n",
    "2. The type of data is still a measurement, time, which is continious.\n",
    "3. Whether or not I should select a Parametric or Non-Parametric test:\n",
    "3.1 Dataset is considered large.\n",
    "3.2 While the histogram for bubblesort_ll shows the distribution is somewhat normal (with a bit of a right tail), the data for bubblesort does not appear normally distributed, having multiple peaks and is skewed.\n",
    "In such a case we will go with a non-paramatric test as they are more robust. According to this (https://www.6sigma.us/six-sigma-in-focus/normality-test-lean-six-sigma/) \n",
    "\"Parametric tests, such as t-tests, ANOVA, and regression analyses, rely heavily on the assumption of normality. When this assumption is violated, the results of these tests may be inaccurate or misleading.\"\n",
    "So just i'll be doing a non-parametric test, since I can't be certain. \n",
    "4. Comapring between two groups\n",
    "5. Different groups.\n",
    "\n",
    "**So, we will be performing a Mann-Whitney U Test.**\n"
   ]
  },
  {
   "cell_type": "code",
   "execution_count": 32,
   "metadata": {},
   "outputs": [
    {
     "data": {
      "image/png": "[encoded data removed]",
      "text/plain": [
       "<Figure size 2400x600 with 4 Axes>"
      ]
     },
     "metadata": {},
     "output_type": "display_data"
    }
   ],
   "source": [
    "bbft = energy[energy[\"test\"]==\"bubblesort_func\"][\"time\"].reset_index()\n",
    "\n",
    "g = sns.FacetGrid(data=energy, col=\"test\", height= 6)\n",
    "g.map(sns.histplot, 'time')\n",
    "plt.show()"
   ]
  },
  {
   "cell_type": "markdown",
   "metadata": {},
   "source": [
    "### 4.2 Actual testing for difference between bubblesort and bublesort_II and time\n",
    "null hypothesis is:\n",
    "**<br> There is no significant difference in CPU usage between the two algorithms. <br>**\n",
    "Alternative hypothesis is that there is a difference.<br>\n",
    "\n",
    "Level of significance is set to > 0.05.\n",
    "\n",
    "We receive a pvalue of 0.00035855213302219286, which is well below the significance level. Thus we reject the null hypothesis"
   ]
  },
  {
   "cell_type": "code",
   "execution_count": 33,
   "metadata": {},
   "outputs": [
    {
     "data": {
      "text/plain": [
       "np.float64(0.00035855213302219286)"
      ]
     },
     "execution_count": 33,
     "metadata": {},
     "output_type": "execute_result"
    }
   ],
   "source": [
    "stats.mannwhitneyu(energy[energy[\"test\"]==\"bubblesort\"][\"time\"], energy[energy[\"test\"]==\"bubblesort_ll\"][\"time\"]).pvalue\n",
    "\n"
   ]
  },
  {
   "cell_type": "markdown",
   "metadata": {},
   "source": [
    "# 5. Perform an ANOVA test to test if there is a difference in means across groups for CPU\n",
    "\n",
    "We can visually inspect the histograms for CPU and predict there's going to be a difference discovered through the ANOVA test.\n",
    "\n",
    "According to () \"The one-way ANOVA tests the null hypothesis that two or more groups have the same population mean.\"\n",
    "\n",
    "With a result of 0.0, we have disproven the null hypothesis and can confidently say there is a difference in mean for all the algorithms CPU usage"
   ]
  },
  {
   "cell_type": "code",
   "execution_count": 72,
   "metadata": {},
   "outputs": [
    {
     "data": {
      "text/plain": [
       "F_onewayResult(statistic=np.float64(5641.93769602928), pvalue=np.float64(0.0))"
      ]
     },
     "execution_count": 72,
     "metadata": {},
     "output_type": "execute_result"
    }
   ],
   "source": [
    "bubblesort_cpu = energy[energy[\"test\"] == \"bubblesort\"][\"CPU\"]\n",
    "bubblesort_ll_cpu = energy[energy[\"test\"] == \"bubblesort_ll\"][\"CPU\"]\n",
    "bubblesort_ll2_cpu = energy[energy[\"test\"] == \"bubblesort_ll2\"][\"CPU\"]\n",
    "bubblesort_func_cpu = energy[energy[\"test\"] == \"bubblesort_func\"][\"CPU\"]\n",
    "\n",
    "\n",
    "stats.f_oneway(bubblesort_cpu, bubblesort_ll_cpu, bubblesort_ll2_cpu, bubblesort_func_cpu)"
   ]
  },
  {
   "cell_type": "markdown",
   "metadata": {},
   "source": [
    "# 6. Perform an ANOVA test to test if there is a difference in means across groups for time\n",
    "\n",
    "And same for time.\n",
    "the result of 0.0, show we can disprove the null hypothesis."
   ]
  },
  {
   "cell_type": "code",
   "execution_count": 73,
   "metadata": {},
   "outputs": [
    {
     "data": {
      "text/plain": [
       "F_onewayResult(statistic=np.float64(2556.3329354127823), pvalue=np.float64(0.0))"
      ]
     },
     "execution_count": 73,
     "metadata": {},
     "output_type": "execute_result"
    }
   ],
   "source": [
    "bubblesort_time = energy[energy[\"test\"] == \"bubblesort\"][\"time\"]\n",
    "bubblesort_ll_time = energy[energy[\"test\"] == \"bubblesort_ll\"][\"time\"]\n",
    "bubblesort_ll2_time = energy[energy[\"test\"] == \"bubblesort_ll2\"][\"time\"]\n",
    "bubblesort_func_time = energy[energy[\"test\"] == \"bubblesort_func\"][\"time\"]\n",
    "\n",
    "\n",
    "stats.f_oneway(bubblesort_time, bubblesort_ll_time, bubblesort_ll2_time, bubblesort_func_time)"
   ]
  }
 ],
 "metadata": {
  "kernelspec": {
   "display_name": "venv",
   "language": "python",
   "name": "python3"
  },
  "language_info": {
   "codemirror_mode": {
    "name": "ipython",
    "version": 3
   },
   "file_extension": ".py",
   "mimetype": "text/x-python",
   "name": "python",
   "nbconvert_exporter": "python",
   "pygments_lexer": "ipython3",
   "version": "3.12.0"
  }
 },
 "nbformat": 4,
 "nbformat_minor": 2
}
