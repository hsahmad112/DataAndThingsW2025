{
 "cells": [
  {
   "cell_type": "markdown",
   "metadata": {},
   "source": [
    "# Statistics\n",
    "## From \"Exercises in statistics.ipynb\" February 10, 2025 \n",
    "### Exercise 3\n",
    "\n",
    "Load in the data \"energySoftware.csv\" and answer the following questions:\n",
    "1. Plot the distribution of CPU for each test type\n",
    "2. Is there a difference in the CPU between bubblesort and bubblesort_ll? (note that the last name contains two small l's and not two capital i's) Justify your choice of test(s). \n",
    "3. Is there a difference in the CPU between bubblesort_func and bubblesort_ll2? Justify your choice of test(s). If there is a difference, how big is it?\n",
    "4. When it comes to time, is there a difference between bubblesort and bubblesort_ll? Justify your choice of test(s).\n",
    "5. Perform an ANOVA test to test if there is a difference in means across groups for CPU\n",
    "6. Perform an ANOVA test to test if there is a difference in means across groups for time"
   ]
  },
  {
   "cell_type": "code",
   "execution_count": 1,
   "metadata": {},
   "outputs": [],
   "source": [
    "import numpy as np\n",
    "import pandas as pd\n",
    "from matplotlib import pyplot as plt\n",
    "import seaborn as sns\n",
    "from scipy import stats\n",
    "import os"
   ]
  },
  {
   "cell_type": "code",
   "execution_count": 2,
   "metadata": {},
   "outputs": [
    {
     "data": {
      "text/html": [
       "<div>\n",
       "<style scoped>\n",
       "    .dataframe tbody tr th:only-of-type {\n",
       "        vertical-align: middle;\n",
       "    }\n",
       "\n",
       "    .dataframe tbody tr th {\n",
       "        vertical-align: top;\n",
       "    }\n",
       "\n",
       "    .dataframe thead th {\n",
       "        text-align: right;\n",
       "    }\n",
       "</style>\n",
       "<table border=\"1\" class=\"dataframe\">\n",
       "  <thead>\n",
       "    <tr style=\"text-align: right;\">\n",
       "      <th></th>\n",
       "      <th>test</th>\n",
       "      <th>PKG</th>\n",
       "      <th>CPU</th>\n",
       "      <th>nn</th>\n",
       "      <th>nn2</th>\n",
       "      <th>time</th>\n",
       "    </tr>\n",
       "  </thead>\n",
       "  <tbody>\n",
       "    <tr>\n",
       "      <th>0</th>\n",
       "      <td>bubblesort</td>\n",
       "      <td>0.010986</td>\n",
       "      <td>0.009155</td>\n",
       "      <td></td>\n",
       "      <td></td>\n",
       "      <td>3.165</td>\n",
       "    </tr>\n",
       "    <tr>\n",
       "      <th>1</th>\n",
       "      <td>bubblesort</td>\n",
       "      <td>0.013184</td>\n",
       "      <td>0.010925</td>\n",
       "      <td></td>\n",
       "      <td></td>\n",
       "      <td>3.069</td>\n",
       "    </tr>\n",
       "    <tr>\n",
       "      <th>2</th>\n",
       "      <td>bubblesort</td>\n",
       "      <td>0.015198</td>\n",
       "      <td>0.009399</td>\n",
       "      <td></td>\n",
       "      <td></td>\n",
       "      <td>2.617</td>\n",
       "    </tr>\n",
       "    <tr>\n",
       "      <th>3</th>\n",
       "      <td>bubblesort</td>\n",
       "      <td>0.010559</td>\n",
       "      <td>0.009583</td>\n",
       "      <td></td>\n",
       "      <td></td>\n",
       "      <td>2.572</td>\n",
       "    </tr>\n",
       "    <tr>\n",
       "      <th>4</th>\n",
       "      <td>bubblesort</td>\n",
       "      <td>0.009949</td>\n",
       "      <td>0.009949</td>\n",
       "      <td></td>\n",
       "      <td></td>\n",
       "      <td>2.671</td>\n",
       "    </tr>\n",
       "    <tr>\n",
       "      <th>...</th>\n",
       "      <td>...</td>\n",
       "      <td>...</td>\n",
       "      <td>...</td>\n",
       "      <td>...</td>\n",
       "      <td>...</td>\n",
       "      <td>...</td>\n",
       "    </tr>\n",
       "    <tr>\n",
       "      <th>1436</th>\n",
       "      <td>bubblesort_ll</td>\n",
       "      <td>0.013184</td>\n",
       "      <td>0.014038</td>\n",
       "      <td></td>\n",
       "      <td></td>\n",
       "      <td>2.394</td>\n",
       "    </tr>\n",
       "    <tr>\n",
       "      <th>1437</th>\n",
       "      <td>bubblesort_ll</td>\n",
       "      <td>0.021362</td>\n",
       "      <td>0.014343</td>\n",
       "      <td></td>\n",
       "      <td></td>\n",
       "      <td>2.428</td>\n",
       "    </tr>\n",
       "    <tr>\n",
       "      <th>1438</th>\n",
       "      <td>bubblesort_ll</td>\n",
       "      <td>0.013672</td>\n",
       "      <td>0.014221</td>\n",
       "      <td></td>\n",
       "      <td></td>\n",
       "      <td>2.479</td>\n",
       "    </tr>\n",
       "    <tr>\n",
       "      <th>1439</th>\n",
       "      <td>bubblesort_ll</td>\n",
       "      <td>0.019531</td>\n",
       "      <td>0.014526</td>\n",
       "      <td></td>\n",
       "      <td></td>\n",
       "      <td>2.537</td>\n",
       "    </tr>\n",
       "    <tr>\n",
       "      <th>1440</th>\n",
       "      <td>bubblesort_ll</td>\n",
       "      <td>0.013428</td>\n",
       "      <td>0.013611</td>\n",
       "      <td></td>\n",
       "      <td></td>\n",
       "      <td>2.483</td>\n",
       "    </tr>\n",
       "  </tbody>\n",
       "</table>\n",
       "<p>1441 rows × 6 columns</p>\n",
       "</div>"
      ],
      "text/plain": [
       "               test       PKG       CPU  nn nn2   time\n",
       "0        bubblesort  0.010986  0.009155          3.165\n",
       "1        bubblesort  0.013184  0.010925          3.069\n",
       "2        bubblesort  0.015198  0.009399          2.617\n",
       "3        bubblesort  0.010559  0.009583          2.572\n",
       "4        bubblesort  0.009949  0.009949          2.671\n",
       "...             ...       ...       ...  ..  ..    ...\n",
       "1436  bubblesort_ll  0.013184  0.014038          2.394\n",
       "1437  bubblesort_ll  0.021362  0.014343          2.428\n",
       "1438  bubblesort_ll  0.013672  0.014221          2.479\n",
       "1439  bubblesort_ll  0.019531  0.014526          2.537\n",
       "1440  bubblesort_ll  0.013428  0.013611          2.483\n",
       "\n",
       "[1441 rows x 6 columns]"
      ]
     },
     "execution_count": 2,
     "metadata": {},
     "output_type": "execute_result"
    }
   ],
   "source": [
    "es = pd.read_csv('C:\\\\Users\\\\Hassan\\\\Desktop\\\\Data and Things\\\\code\\\\Data_and_Things_W2025_Exercises\\\\data\\\\energySoftware.csv')\n",
    "es"
   ]
  },
  {
   "cell_type": "code",
   "execution_count": 3,
   "metadata": {},
   "outputs": [
    {
     "data": {
      "text/plain": [
       "test\n",
       "bubblesort         361\n",
       "bubblesort_func    360\n",
       "bubblesort_ll2     360\n",
       "bubblesort_ll      360\n",
       "Name: count, dtype: int64"
      ]
     },
     "execution_count": 3,
     "metadata": {},
     "output_type": "execute_result"
    }
   ],
   "source": [
    "es['test'].value_counts()"
   ]
  },
  {
   "cell_type": "markdown",
   "metadata": {},
   "source": [
    "### 1. Plot the distribution of CPU for each test type\n"
   ]
  },
  {
   "cell_type": "code",
   "execution_count": 4,
   "metadata": {},
   "outputs": [
    {
     "data": {
      "image/png": "[encoded data removed]",
      "text/plain": [
       "<Figure size 511.111x500 with 1 Axes>"
      ]
     },
     "metadata": {},
     "output_type": "display_data"
    }
   ],
   "source": [
    "sns.catplot(x='test', y=\"CPU\", data = es, kind=\"box\", showmeans=True, meanprops={\"marker\":\"X\", \"markerfacecolor\":\"white\", \"markeredgecolor\":\"black\", \"markersize\": \"10\"})\n",
    "plt.show()"
   ]
  },
  {
   "cell_type": "code",
   "execution_count": 5,
   "metadata": {},
   "outputs": [
    {
     "data": {
      "image/png": "[encoded data removed]",
      "text/plain": [
       "<Figure size 2400x600 with 4 Axes>"
      ]
     },
     "metadata": {},
     "output_type": "display_data"
    }
   ],
   "source": [
    "g = sns.FacetGrid(data=es, col=\"test\", height= 6)\n",
    "g.map(sns.histplot, 'CPU')\n",
    "plt.show()\n",
    "#looks very distributed"
   ]
  },
  {
   "cell_type": "code",
   "execution_count": 6,
   "metadata": {},
   "outputs": [
    {
     "data": {
      "text/plain": [
       "np.float64(1.5569272557242618e-201)"
      ]
     },
     "execution_count": 6,
     "metadata": {},
     "output_type": "execute_result"
    }
   ],
   "source": [
    "algo = es[es['test'].isin(['bubblesort', 'bubblesort_ll'])]\n",
    "\n",
    "algo = algo[['test','CPU']]\n",
    "\n",
    "res = stats.normaltest(algo['CPU']) \n",
    "res.pvalue\n",
    "\n",
    "# stats.normaltest(es[es['test'] == 'bubblesort'])\n",
    "# stats.normaltest agrees, very *very* normalized "
   ]
  },
  {
   "cell_type": "markdown",
   "metadata": {},
   "source": [
    "### 2.1 Justification of choice of test(s) for difference bubblesort and bublesort_II "
   ]
  },
  {
   "cell_type": "code",
   "execution_count": 7,
   "metadata": {},
   "outputs": [],
   "source": [
    "# Comparison\n",
    "# Continious\n",
    "# Large sample size\n",
    "# Normalized distribution thus we do parametric tests\n",
    "# 2 groups\n",
    "# difference in groups\n",
    "\n",
    "#thus : Student t-test\n",
    "\n"
   ]
  },
  {
   "cell_type": "markdown",
   "metadata": {},
   "source": [
    "### 2.2 Actual testing"
   ]
  },
  {
   "cell_type": "code",
   "execution_count": 8,
   "metadata": {},
   "outputs": [
    {
     "data": {
      "text/plain": [
       "TtestResult(statistic=np.float64(-47.4605163039462), pvalue=np.float64(9.831404686370246e-224), df=np.float64(719.0))"
      ]
     },
     "execution_count": 8,
     "metadata": {},
     "output_type": "execute_result"
    }
   ],
   "source": [
    "#null hypothesis is, There is no significant difference in CPU usage between the two algorithms.\n",
    "#alternative hypothesis is that there is a difference. \n",
    "#level of significance is > 0.05\n",
    "stats.ttest_ind(es[es[\"test\"]==\"bubblesort\"][\"CPU\"], es[es[\"test\"]==\"bubblesort_ll\"][\"CPU\"])\n",
    "# pvalue is so small and under our significance level, that we can reject the null hypothesis, and say there is a statistic difference between the types \n",
    "# of algorithms "
   ]
  },
  {
   "cell_type": "markdown",
   "metadata": {},
   "source": [
    "### 3. Is there a difference in the CPU between bubblesort_func and bubblesort_ll2? Justify your choice of test(s). If there is a difference, how big is it?\n"
   ]
  },
  {
   "cell_type": "code",
   "execution_count": 9,
   "metadata": {},
   "outputs": [
    {
     "data": {
      "text/plain": [
       "TtestResult(statistic=np.float64(-93.63515448221312), pvalue=np.float64(0.0), df=np.float64(719.0))"
      ]
     },
     "execution_count": 9,
     "metadata": {},
     "output_type": "execute_result"
    }
   ],
   "source": [
    "stats.ttest_ind(es[es[\"test\"]==\"bubblesort\"][\"CPU\"], es[es[\"test\"]==\"bubblesort_ll2\"][\"CPU\"])\n",
    "# Since the p-value is 0.0, you can reject the null hypothesis at any logically reasonable significance level.\n",
    "\n",
    "# There is certainty that there is a difference, however I am unsure how to decipher the effect or size of the difference"
   ]
  },
  {
   "cell_type": "markdown",
   "metadata": {},
   "source": [
    "### 3. When it comes to time, is there a difference between bubblesort and bubblesort_ll? Justify your choice of test(s).\n"
   ]
  },
  {
   "cell_type": "code",
   "execution_count": null,
   "metadata": {},
   "outputs": [],
   "source": []
  }
 ],
 "metadata": {
  "kernelspec": {
   "display_name": "oldPy",
   "language": "python",
   "name": "python3"
  },
  "language_info": {
   "codemirror_mode": {
    "name": "ipython",
    "version": 3
   },
   "file_extension": ".py",
   "mimetype": "text/x-python",
   "name": "python",
   "nbconvert_exporter": "python",
   "pygments_lexer": "ipython3",
   "version": "3.12.0"
  }
 },
 "nbformat": 4,
 "nbformat_minor": 2
}
