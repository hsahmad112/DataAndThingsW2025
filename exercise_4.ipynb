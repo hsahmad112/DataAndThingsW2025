{
 "cells": [
  {
   "cell_type": "markdown",
   "id": "b2ee4a3f-f86b-4a70-b39f-455d92dc9b76",
   "metadata": {},
   "source": [
    "# Exercises in statistics"
   ]
  },
  {
   "cell_type": "markdown",
   "id": "f3f98597",
   "metadata": {},
   "source": [
    "# Q's for choosing the right test\n",
    "- Is it categorical or numeric data?\n",
    "- How big is your sample sizes?\n",
    "- Are your data normally distributed?\n",
    "- Do the groups have same distribution?\n",
    "- How many groups are you comparing?\n",
    "- (Note, we might still want to use a\n",
    "non-parametric test if we have a\n",
    "lot of data, but it is not normally\n",
    "distributed)"
   ]
  },
  {
   "cell_type": "code",
   "execution_count": null,
   "id": "5c71557b-07e4-45df-8a7c-1c20ccd4ce17",
   "metadata": {},
   "outputs": [],
   "source": []
  },
  {
   "cell_type": "markdown",
   "id": "dd1d2ddc-bc3e-4f45-becf-fd60ef8b94d9",
   "metadata": {},
   "source": [
    "## Exercise 1\n",
    "\n",
    "In this exercise we will use the penguins dataset (can be imported using the code `penguins_data = sns.load_dataset(\"penguins\")`)\n",
    "\n",
    "Please answer the following questions:\n",
    "1. For the different species of penguins (Adelie, Chinstrap, and Gentoo), how many penguins are there of each species?\n",
    "2. For the different species of penguins (Adelie, Chinstrap, and Gentoo), is the body mass variable normally distributed?\n",
    "3. Test whether there is a difference in body mass for Adelie penguins and Chinstrap penguins. Remember to justify your choice of test, clearly state the null hypothesis and alternative hypothesis, and state the significance level you will use. Hint: If your test give `nan` values you might need to drop missing values with the `dropna` method.\n",
    "4. Test whether there is a difference in body mass for Chinstrap penguins and Gentoo penguins. Remember to justify your choice of test. Remember to justify your choice of test, clearly state the null hypothesis and alternative hypothesis, and state the significance level you will use. Hint: If your test give `nan` values you might need to drop missing values with the `dropna` method."
   ]
  },
  {
   "cell_type": "code",
   "execution_count": null,
   "id": "a2785d21-32b5-4420-8798-7b5b75307798",
   "metadata": {},
   "outputs": [],
   "source": []
  },
  {
   "cell_type": "code",
   "execution_count": null,
   "id": "f92da871-896d-43be-816c-021c647cb936",
   "metadata": {},
   "outputs": [],
   "source": []
  },
  {
   "cell_type": "markdown",
   "id": "9e15a969-46bc-45f4-80f0-1bcca8ceeb85",
   "metadata": {},
   "source": [
    "## Exercise 2\n",
    "\n",
    "Load in the \"fb_like_and_share.csv\" data and answer the following questions:\n",
    "\n",
    "1. Is there a difference in the distribution of likes for photos and videos? Justify your choice of test(s).\n",
    "2. Is there a difference in the distribution of share counts for photos and videos? Justify your choice of test(s).\n",
    "3. Perform an ANOVA test to test if there is a difference in means across type of posts for shares. Does it make sense to perform this ANOVA test?\n",
    "4. Is there actually a statistical significant difference in the distribution of share counts for any two groups?"
   ]
  },
  {
   "cell_type": "code",
   "execution_count": null,
   "id": "c6df5d0f-dd11-4554-bf28-ed063db209cf",
   "metadata": {},
   "outputs": [],
   "source": []
  },
  {
   "cell_type": "code",
   "execution_count": null,
   "id": "7096a3f8-5b70-4eb2-95c9-0876a4ff6b61",
   "metadata": {},
   "outputs": [],
   "source": []
  },
  {
   "cell_type": "markdown",
   "id": "a457b65e-0aa2-405b-b2e4-c0dd52ac410d",
   "metadata": {},
   "source": [
    "## Exercise 3\n",
    "\n",
    "Load in the data \"energySoftware.csv\" and answer the following questions:\n",
    "1. Plot the distribution of CPU for each test type\n",
    "2. Is there a difference in the CPU between bubblesort and bubblesort_ll? (note that the last name contains two small l's and not two capital i's) Justify your choice of test(s). \n",
    "3. Is there a difference in the CPU between bubblesort_func and bubblesort_ll2? Justify your choice of test(s). If there is a difference, how big is it?\n",
    "4. When it comes to time, is there a difference between bubblesort and bubblesort_ll? Justify your choice of test(s).\n",
    "5. Perform an ANOVA test to test if there is a difference in means across groups for CPU\n",
    "6. Perform an ANOVA test to test if there is a difference in means across groups for time"
   ]
  },
  {
   "cell_type": "code",
   "execution_count": null,
   "id": "8bdc6f2d-c30d-4ace-8749-f598e9c263a7",
   "metadata": {},
   "outputs": [],
   "source": []
  },
  {
   "cell_type": "code",
   "execution_count": null,
   "id": "7695bbd8-28e3-4aea-ab32-ec8489f09559",
   "metadata": {},
   "outputs": [],
   "source": []
  }
 ],
 "metadata": {
  "kernelspec": {
   "display_name": "Python 3 (ipykernel)",
   "language": "python",
   "name": "python3"
  },
  "language_info": {
   "codemirror_mode": {
    "name": "ipython",
    "version": 3
   },
   "file_extension": ".py",
   "mimetype": "text/x-python",
   "name": "python",
   "nbconvert_exporter": "python",
   "pygments_lexer": "ipython3",
   "version": "3.12.8"
  }
 },
 "nbformat": 4,
 "nbformat_minor": 5
}
