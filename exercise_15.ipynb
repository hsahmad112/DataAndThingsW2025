{
 "cells": [
  {
   "cell_type": "markdown",
   "id": "5499e3da-49fb-40eb-ac1b-472cf868e000",
   "metadata": {},
   "source": [
    "# Exercises in neural network and deep learning II"
   ]
  },
  {
   "cell_type": "code",
   "execution_count": null,
   "id": "6cbcd5e5-5836-48d4-bce6-bb9f1e72db14",
   "metadata": {},
   "outputs": [],
   "source": [
    "import pandas as pd\n",
    "import numpy as np\n",
    "from sklearn.model_selection import train_test_split\n",
    "from sklearn.preprocessing import StandardScaler\n",
    "from tensorflow import keras\n",
    "from tensorflow.keras import layers\n",
    "from tensorflow.keras.metrics import Precision, Recall, F1Score"
   ]
  },
  {
   "cell_type": "markdown",
   "id": "1d345f40-333b-4d72-b05c-ec4068174d62",
   "metadata": {},
   "source": [
    "## Exercise 1\n",
    "\n",
    "In this exercise, we will use the titanic dataset to build a neural network classifier for the target variable `Survived`. In this exercise, all the necessary steps are broken down to small individual task you should do. So, do the following tasks:\n",
    "\n",
    "1. Load in the titanic dataset (on Moodle as \"titanic_survival_data.csv\"), select the columns \"Pclass\", \"Sex\", \"Age\", and \"Fare\" for the feature set X and \"Survived\" for the target variable y.\n",
    "2. For the columns \"Age\" and \"Fare\", replace the missing values with the column's mean.\n",
    "3. Turn the variables \"Pclass\" and \"Sex\" into dummy variables.\n",
    "4. Do a train-test split of the data\n",
    "5. Scale the X training dataset, using the standard scaler.\n",
    "6. Transform the X test dataset with the same scaler fitted in task 5.\n",
    "7. Turn the training and test data (both Xs and ys) into numpy arrays using the method `.to_numpy()`.\n",
    "8. Create a neural network model with two hidden dense layers with 16 neurons in each and the `relu` activation function. The final output layer should have one neuron and the `sigmoid` activation function.\n",
    "9. Train the model for 50 epochs with a batch size of 64. Instead of creating a validation set before training the model, we can give it as an argument to the fit method, that it should set aside, let's say, 20% of the training data for validation. Do this by providing the argument `validation_split=0.2` to the fit method.\n",
    "10. Plot the training and validation loss and decide on a best number of epochs.\n",
    "11. Rebuild and retrain the model for the number of epochs decided in task 10 above.\n",
    "12. Evaluate the model on the test dataset to get the test accuracy.\n",
    "13. Calculate precision, recall, and f1-score for the model on the test dataset.\n",
    "14. Plot the Confusion matrix for the test dataset."
   ]
  },
  {
   "cell_type": "markdown",
   "id": "b2e3fd0e",
   "metadata": {},
   "source": [
    "### Task 1.1 Load in the data"
   ]
  },
  {
   "cell_type": "code",
   "execution_count": null,
   "id": "61321b93",
   "metadata": {},
   "outputs": [],
   "source": [
    "titanic = pd.read_csv('data\\\\titanic_survival_data.csv')\n",
    "X = titanic[['Pclass', 'Sex', 'Age', 'Fare']] \n",
    "X"
   ]
  },
  {
   "cell_type": "code",
   "execution_count": null,
   "id": "157ff3a1",
   "metadata": {},
   "outputs": [],
   "source": [
    "y = titanic[['Survived']]\n",
    "y"
   ]
  },
  {
   "cell_type": "markdown",
   "id": "dd8d9684",
   "metadata": {},
   "source": [
    "### Task 1.2 Preprocessing\n",
    "For the columns \"Age\" and \"Fare\", replace the missing values with the column's mean.\n"
   ]
  },
  {
   "cell_type": "code",
   "execution_count": null,
   "id": "e590ab24",
   "metadata": {},
   "outputs": [],
   "source": [
    "age_means = X['Age'].mean()\n",
    "fare_means = X['Fare'].mean()\n",
    "\n",
    "X[['Age']] = X[['Age']].fillna(age_means)\n",
    "X[['Fare']] = X[['Fare']].fillna(fare_means)"
   ]
  },
  {
   "cell_type": "markdown",
   "id": "5e047c18",
   "metadata": {},
   "source": [
    "### Task 1.3 One-hot encoding\n",
    "Turn the variables \"Pclass\" and \"Sex\" into dummy variables.\n"
   ]
  },
  {
   "cell_type": "code",
   "execution_count": null,
   "id": "66e3f868",
   "metadata": {},
   "outputs": [],
   "source": [
    "X = pd.get_dummies(X, columns=['Pclass', 'Sex'], drop_first=True)\n",
    "X"
   ]
  },
  {
   "cell_type": "markdown",
   "id": "f08d6d4f",
   "metadata": {},
   "source": [
    "### Task 1.4 Test-train split\n",
    "Do a train-test split of the data\n"
   ]
  },
  {
   "cell_type": "code",
   "execution_count": null,
   "id": "ab2ed329",
   "metadata": {},
   "outputs": [],
   "source": [
    "X_train, X_test, y_train, y_test = train_test_split(X, y, test_size=0.2, random_state=45)\n",
    "\n"
   ]
  },
  {
   "cell_type": "markdown",
   "id": "a311e0b1",
   "metadata": {},
   "source": [
    "### Task 1.5 Scale X_train\n",
    "Scale the X training dataset, using the standard scaler."
   ]
  },
  {
   "cell_type": "code",
   "execution_count": null,
   "id": "2a08d765",
   "metadata": {},
   "outputs": [],
   "source": [
    "scaler = StandardScaler()\n",
    "X_train_scaled = pd.DataFrame(scaler.fit_transform(X_train), columns=X_train.columns) \n"
   ]
  },
  {
   "cell_type": "markdown",
   "id": "3f05007c",
   "metadata": {},
   "source": [
    "### Task 1.6 Transform X_test\n",
    "Transform the X test dataset with the same scaler fitted in task 5."
   ]
  },
  {
   "cell_type": "code",
   "execution_count": null,
   "id": "ec4ce896",
   "metadata": {},
   "outputs": [],
   "source": [
    "X_test_scaled = scaler.transform(X_test)"
   ]
  },
  {
   "cell_type": "markdown",
   "id": "0d662809",
   "metadata": {},
   "source": [
    "### Task 1.7 Transform into arrays\n",
    "Turn the training and test data (both Xs and ys) into numpy arrays using the method `.to_numpy()`.\n"
   ]
  },
  {
   "cell_type": "code",
   "execution_count": null,
   "id": "06b04502",
   "metadata": {},
   "outputs": [],
   "source": [
    "X_train_array = X_train_scaled\n",
    "X_test_array = X_test_scaled\n",
    "y_train_array = y_train.to_numpy()\n",
    "y_test_array = y_test.to_numpy()\n",
    "\n"
   ]
  },
  {
   "cell_type": "markdown",
   "id": "d5985262",
   "metadata": {},
   "source": [
    "### Task 1.8 Create NN model\n",
    "Create a neural network model with two hidden dense layers with 16 neurons in each and the `relu` activation function. The final output layer should have one neuron and the `sigmoid` activation function.\n"
   ]
  },
  {
   "cell_type": "code",
   "execution_count": null,
   "id": "1626251b",
   "metadata": {},
   "outputs": [],
   "source": [
    "model = keras.Sequential([\n",
    "    layers.Dense(16, activation='relu'),\n",
    "    layers.Dense(16, activation='relu'),\n",
    "    layers.Dense(1, activation='sigmoid')\n",
    "])\n",
    "\n",
    "model.compile(optimizer=\"rmsprop\",\n",
    "              loss=\"binary_crossentropy\",\n",
    "              metrics=[\"accuracy\", \"precision\", \"f1_score\", \"recall\"])"
   ]
  },
  {
   "cell_type": "markdown",
   "id": "9df22bf3",
   "metadata": {},
   "source": [
    "### Task 1.9 Train NN model\n",
    "Train the model for 50 epochs with a batch size of 64. Instead of creating a validation set before training the model, we can give it as an argument to the fit method, that it should set aside, let's say, 20% of the training data for validation. Do this by providing the argument `validation_split=0.2` to the fit method.\n"
   ]
  },
  {
   "cell_type": "code",
   "execution_count": null,
   "id": "faf78154",
   "metadata": {},
   "outputs": [],
   "source": [
    "\n",
    "partial_history = model.fit(X_train,\n",
    "                     y_train,\n",
    "                     epochs = 50,\n",
    "                     batch_size=64,\n",
    "                     validation_split=0.2)\n"
   ]
  },
  {
   "cell_type": "markdown",
   "id": "ee519fc7",
   "metadata": {},
   "source": [
    "### Task 1.10 Plotting\n",
    "Plot the training and validation loss and decide on a best number of epochs.\n"
   ]
  },
  {
   "cell_type": "code",
   "execution_count": null,
   "id": "37c3b7f8",
   "metadata": {},
   "outputs": [],
   "source": [
    "import matplotlib.pyplot as plt\n",
    "history_dict = partial_history.history\n",
    "loss_values = history_dict[\"loss\"]\n",
    "val_loss_values = history_dict[\"val_loss\"]\n",
    "epochs = range(1, len(loss_values) + 1)\n",
    "plt.plot(epochs, loss_values, \"bo\", label=\"Training loss\")\n",
    "plt.plot(epochs, val_loss_values, \"b\", label=\"Validation loss\")\n",
    "plt.title(\"Training and validation loss (model)\")\n",
    "plt.xlabel(\"Epochs\")\n",
    "plt.ylabel(\"Loss\")\n",
    "plt.legend()\n",
    "plt.show()\n"
   ]
  },
  {
   "cell_type": "markdown",
   "id": "99d77279",
   "metadata": {},
   "source": [
    "### Task 1.11 Retrain with 8 epochs \n",
    "Rebuild and retrain the model for the number of epochs decided in task 10 above.\n"
   ]
  },
  {
   "cell_type": "code",
   "execution_count": null,
   "id": "ffba6b4e",
   "metadata": {},
   "outputs": [],
   "source": [
    "\n",
    "history_full = model.fit(X_train,\n",
    "                     y_train,\n",
    "                     epochs = 8,\n",
    "                     batch_size=64)\n"
   ]
  },
  {
   "cell_type": "markdown",
   "id": "62a91831",
   "metadata": {},
   "source": [
    "### Task 1.12 + 1.13 Evaluation \n",
    "Evaluate the model on the test dataset to get the test accuracy.\n"
   ]
  },
  {
   "cell_type": "code",
   "execution_count": null,
   "id": "413f00cf",
   "metadata": {},
   "outputs": [],
   "source": [
    "results = model.evaluate(X_test, y_test)\n",
    "print(f'{results}')\n"
   ]
  },
  {
   "cell_type": "code",
   "execution_count": null,
   "metadata": {},
   "outputs": [],
   "source": [
    "from sklearn.metrics import confusion_matrix, ConfusionMatrixDisplay\n",
    "\n",
    "y_pred_proba = model.predict(X_test).flatten()\n",
    "y_pred = (y_pred_proba > 0.5).astype(int)  #threshold for the confidence between 0-1\n",
    "\n",
    "cm = confusion_matrix(y_test, y_pred)\n",
    "\n",
    "matrix = ConfusionMatrixDisplay(confusion_matrix=cm, display_labels=['Negative', 'Positive'])\n",
    "matrix.plot(cmap=plt.cm.Blues)\n",
    "plt.title('Confusion Matrix')\n",
    "plt.show()"
   ]
  },
  {
   "cell_type": "markdown",
   "id": "130f32d2-1eca-4f9b-8a1a-be0e85f447bf",
   "metadata": {},
   "source": [
    "## Exercise 2\n",
    "\n",
    "Based on the **adult dataset**, build a neural network classifier for the target variable `income`. "
   ]
  },
  {
   "cell_type": "markdown",
   "id": "6ce78bda",
   "metadata": {},
   "source": [
    "### Task 2.1 Load in the data\n",
    "Loading in data"
   ]
  },
  {
   "cell_type": "code",
   "execution_count": 299,
   "id": "c1f805c5",
   "metadata": {},
   "outputs": [
    {
     "data": {
      "text/html": [
       "<div>\n",
       "<style scoped>\n",
       "    .dataframe tbody tr th:only-of-type {\n",
       "        vertical-align: middle;\n",
       "    }\n",
       "\n",
       "    .dataframe tbody tr th {\n",
       "        vertical-align: top;\n",
       "    }\n",
       "\n",
       "    .dataframe thead th {\n",
       "        text-align: right;\n",
       "    }\n",
       "</style>\n",
       "<table border=\"1\" class=\"dataframe\">\n",
       "  <thead>\n",
       "    <tr style=\"text-align: right;\">\n",
       "      <th></th>\n",
       "      <th>age</th>\n",
       "      <th>workclass</th>\n",
       "      <th>fnlwgt</th>\n",
       "      <th>education</th>\n",
       "      <th>education-num</th>\n",
       "      <th>marital-status</th>\n",
       "      <th>occupation</th>\n",
       "      <th>relationship</th>\n",
       "      <th>race</th>\n",
       "      <th>sex</th>\n",
       "      <th>capital-gain</th>\n",
       "      <th>capital-loss</th>\n",
       "      <th>hours-per-week</th>\n",
       "      <th>native-country</th>\n",
       "      <th>income</th>\n",
       "    </tr>\n",
       "  </thead>\n",
       "  <tbody>\n",
       "    <tr>\n",
       "      <th>0</th>\n",
       "      <td>39</td>\n",
       "      <td>State-gov</td>\n",
       "      <td>77516</td>\n",
       "      <td>Bachelors</td>\n",
       "      <td>13</td>\n",
       "      <td>Never-married</td>\n",
       "      <td>Adm-clerical</td>\n",
       "      <td>Not-in-family</td>\n",
       "      <td>White</td>\n",
       "      <td>Male</td>\n",
       "      <td>2174</td>\n",
       "      <td>0</td>\n",
       "      <td>40</td>\n",
       "      <td>United-States</td>\n",
       "      <td>&lt;=50K</td>\n",
       "    </tr>\n",
       "    <tr>\n",
       "      <th>1</th>\n",
       "      <td>50</td>\n",
       "      <td>Self-emp-not-inc</td>\n",
       "      <td>83311</td>\n",
       "      <td>Bachelors</td>\n",
       "      <td>13</td>\n",
       "      <td>Married-civ-spouse</td>\n",
       "      <td>Exec-managerial</td>\n",
       "      <td>Husband</td>\n",
       "      <td>White</td>\n",
       "      <td>Male</td>\n",
       "      <td>0</td>\n",
       "      <td>0</td>\n",
       "      <td>13</td>\n",
       "      <td>United-States</td>\n",
       "      <td>&lt;=50K</td>\n",
       "    </tr>\n",
       "    <tr>\n",
       "      <th>2</th>\n",
       "      <td>38</td>\n",
       "      <td>Private</td>\n",
       "      <td>215646</td>\n",
       "      <td>HS-grad</td>\n",
       "      <td>9</td>\n",
       "      <td>Divorced</td>\n",
       "      <td>Handlers-cleaners</td>\n",
       "      <td>Not-in-family</td>\n",
       "      <td>White</td>\n",
       "      <td>Male</td>\n",
       "      <td>0</td>\n",
       "      <td>0</td>\n",
       "      <td>40</td>\n",
       "      <td>United-States</td>\n",
       "      <td>&lt;=50K</td>\n",
       "    </tr>\n",
       "    <tr>\n",
       "      <th>3</th>\n",
       "      <td>53</td>\n",
       "      <td>Private</td>\n",
       "      <td>234721</td>\n",
       "      <td>11th</td>\n",
       "      <td>7</td>\n",
       "      <td>Married-civ-spouse</td>\n",
       "      <td>Handlers-cleaners</td>\n",
       "      <td>Husband</td>\n",
       "      <td>Black</td>\n",
       "      <td>Male</td>\n",
       "      <td>0</td>\n",
       "      <td>0</td>\n",
       "      <td>40</td>\n",
       "      <td>United-States</td>\n",
       "      <td>&lt;=50K</td>\n",
       "    </tr>\n",
       "    <tr>\n",
       "      <th>4</th>\n",
       "      <td>28</td>\n",
       "      <td>Private</td>\n",
       "      <td>338409</td>\n",
       "      <td>Bachelors</td>\n",
       "      <td>13</td>\n",
       "      <td>Married-civ-spouse</td>\n",
       "      <td>Prof-specialty</td>\n",
       "      <td>Wife</td>\n",
       "      <td>Black</td>\n",
       "      <td>Female</td>\n",
       "      <td>0</td>\n",
       "      <td>0</td>\n",
       "      <td>40</td>\n",
       "      <td>Cuba</td>\n",
       "      <td>&lt;=50K</td>\n",
       "    </tr>\n",
       "  </tbody>\n",
       "</table>\n",
       "</div>"
      ],
      "text/plain": [
       "   age         workclass  fnlwgt  education  education-num  \\\n",
       "0   39         State-gov   77516  Bachelors             13   \n",
       "1   50  Self-emp-not-inc   83311  Bachelors             13   \n",
       "2   38           Private  215646    HS-grad              9   \n",
       "3   53           Private  234721       11th              7   \n",
       "4   28           Private  338409  Bachelors             13   \n",
       "\n",
       "       marital-status         occupation   relationship   race     sex  \\\n",
       "0       Never-married       Adm-clerical  Not-in-family  White    Male   \n",
       "1  Married-civ-spouse    Exec-managerial        Husband  White    Male   \n",
       "2            Divorced  Handlers-cleaners  Not-in-family  White    Male   \n",
       "3  Married-civ-spouse  Handlers-cleaners        Husband  Black    Male   \n",
       "4  Married-civ-spouse     Prof-specialty           Wife  Black  Female   \n",
       "\n",
       "   capital-gain  capital-loss  hours-per-week native-country income  \n",
       "0          2174             0              40  United-States  <=50K  \n",
       "1             0             0              13  United-States  <=50K  \n",
       "2             0             0              40  United-States  <=50K  \n",
       "3             0             0              40  United-States  <=50K  \n",
       "4             0             0              40           Cuba  <=50K  "
      ]
     },
     "execution_count": 299,
     "metadata": {},
     "output_type": "execute_result"
    }
   ],
   "source": [
    "adult  = pd.read_csv(\"data\\\\adult.csv\")\n",
    "adult.head()\n",
    "\n"
   ]
  },
  {
   "cell_type": "markdown",
   "id": "2b8e0c18",
   "metadata": {},
   "source": [
    "### Task 2.2 Preprocessing\n",
    "Correcting target variable `income` and dropping rows where value for  `workclass`, `occupation` and `native-country` is N/A, and  assigning `X` the input variables and `y` target vector.\n",
    "\n",
    "\n",
    "removing `fnlwgt`,`capital-gain`, `capital-loss`, as `fnlwgt` is represents the final weight assigned to each individual in the dataset. Irrelevant for determining income.\n",
    "`capital-gain` and `capital-loss` has too many Zero values, might result in difficulties for the model to generalize.\n",
    "\n",
    "Also the lower amount of columns makes it way more managable."
   ]
  },
  {
   "cell_type": "code",
   "execution_count": 300,
   "id": "0b594361",
   "metadata": {},
   "outputs": [
    {
     "name": "stdout",
     "output_type": "stream",
     "text": [
      "income\n",
      "<=50K    37155\n",
      ">50K     11687\n",
      "Name: count, dtype: int64\n",
      "\n",
      "True vals below indicate the null values in the columns\n",
      "workclass\n",
      "False    47879\n",
      "True       963\n",
      "Name: count, dtype: int64 \n",
      "\n",
      "occupation\n",
      "False    47876\n",
      "True       966\n",
      "Name: count, dtype: int64 \n",
      "\n",
      "native-country\n",
      "False    48568\n",
      "True       274\n",
      "Name: count, dtype: int64 \n",
      "\n"
     ]
    }
   ],
   "source": [
    "adult['income'] = adult['income'].replace({\"<=50K.\" : \"<=50K\", \">50K.\": \">50K\" })\n",
    "print(f'{adult[\"income\"].value_counts()}\\n')\n",
    "\n",
    "# #bins for age\n",
    "# age_bins = [0, 18, 25, 35, 45, 55, 65, 100]\n",
    "# age_labels = ['0-18', '19-25', '26-35', '36-45', '46-55', '56-65', '65+']\n",
    "# adult['age_group'] = pd.cut(adult['age'], bins=age_bins, labels=age_labels, right=False)\n",
    "\n",
    "\n",
    "# # bins for hour-per-week\n",
    "# hours_bins = [0, 10, 20, 30, 40, 50, 60, 70, 80, 90, 100]\n",
    "# hours_labels = ['0-10', '11-20', '21-30', '31-40', '41-50', '51-60', '61-70', '71-80', '81-90', '91-100']\n",
    "\n",
    "#adult['hours_per_week_group'] = pd.cut(adult['hours-per-week'], bins=hours_bins, labels=hours_labels, right=False)\n",
    "\n",
    "print('True vals below indicate the null values in the columns')\n",
    "wc = adult[\"workclass\"].isna().value_counts()\n",
    "oc = adult[\"occupation\"].isna().value_counts()\n",
    "nc = adult[\"native-country\"].isna().value_counts()\n",
    "\n",
    "print(wc, \"\\n\")\n",
    "print(oc, \"\\n\")\n",
    "print(nc, \"\\n\")\n",
    "\n",
    "# dropping rows containing N/A values \n",
    "adult= adult.dropna()\n",
    "\n",
    "X = adult[['age', 'workclass', 'education', 'education-num', 'marital-status', 'occupation', 'relationship',\n",
    "                  'race', 'sex', 'hours-per-week', 'native-country']]\n",
    "y = adult[['income']]\n"
   ]
  },
  {
   "cell_type": "markdown",
   "id": "c9869360",
   "metadata": {},
   "source": [
    "### Task 2.3 One-hot encoding\n",
    "Performing onehot encoding of the categorical variables:\n",
    "<br>\n",
    "For X:\n",
    "    workclass\n",
    "    education\n",
    "    marital-status\n",
    "    occupation\n",
    "    relationship\n",
    "    race\n",
    "    sex\n",
    "    native-country \n",
    "<br>\n",
    "For y:\n",
    "    income\n",
    "\n"
   ]
  },
  {
   "cell_type": "code",
   "execution_count": 301,
   "id": "f6855f13",
   "metadata": {},
   "outputs": [],
   "source": [
    "X = pd.get_dummies(X, columns= ['workclass', 'education', 'marital-status', 'occupation', 'relationship', 'race', 'sex', 'native-country'], drop_first=True)\n",
    "\n",
    "y = y['income'].map({'<=50K': 0, '>50K': 1})"
   ]
  },
  {
   "cell_type": "code",
   "execution_count": 302,
   "id": "ebe18aa1",
   "metadata": {},
   "outputs": [
    {
     "data": {
      "text/html": [
       "<div>\n",
       "<style scoped>\n",
       "    .dataframe tbody tr th:only-of-type {\n",
       "        vertical-align: middle;\n",
       "    }\n",
       "\n",
       "    .dataframe tbody tr th {\n",
       "        vertical-align: top;\n",
       "    }\n",
       "\n",
       "    .dataframe thead th {\n",
       "        text-align: right;\n",
       "    }\n",
       "</style>\n",
       "<table border=\"1\" class=\"dataframe\">\n",
       "  <thead>\n",
       "    <tr style=\"text-align: right;\">\n",
       "      <th></th>\n",
       "      <th>age</th>\n",
       "      <th>education-num</th>\n",
       "      <th>hours-per-week</th>\n",
       "      <th>workclass_Federal-gov</th>\n",
       "      <th>workclass_Local-gov</th>\n",
       "      <th>workclass_Never-worked</th>\n",
       "      <th>workclass_Private</th>\n",
       "      <th>workclass_Self-emp-inc</th>\n",
       "      <th>workclass_Self-emp-not-inc</th>\n",
       "      <th>workclass_State-gov</th>\n",
       "      <th>...</th>\n",
       "      <th>native-country_Portugal</th>\n",
       "      <th>native-country_Puerto-Rico</th>\n",
       "      <th>native-country_Scotland</th>\n",
       "      <th>native-country_South</th>\n",
       "      <th>native-country_Taiwan</th>\n",
       "      <th>native-country_Thailand</th>\n",
       "      <th>native-country_Trinadad&amp;Tobago</th>\n",
       "      <th>native-country_United-States</th>\n",
       "      <th>native-country_Vietnam</th>\n",
       "      <th>native-country_Yugoslavia</th>\n",
       "    </tr>\n",
       "  </thead>\n",
       "  <tbody>\n",
       "    <tr>\n",
       "      <th>0</th>\n",
       "      <td>39</td>\n",
       "      <td>13</td>\n",
       "      <td>40</td>\n",
       "      <td>False</td>\n",
       "      <td>False</td>\n",
       "      <td>False</td>\n",
       "      <td>False</td>\n",
       "      <td>False</td>\n",
       "      <td>False</td>\n",
       "      <td>True</td>\n",
       "      <td>...</td>\n",
       "      <td>False</td>\n",
       "      <td>False</td>\n",
       "      <td>False</td>\n",
       "      <td>False</td>\n",
       "      <td>False</td>\n",
       "      <td>False</td>\n",
       "      <td>False</td>\n",
       "      <td>True</td>\n",
       "      <td>False</td>\n",
       "      <td>False</td>\n",
       "    </tr>\n",
       "    <tr>\n",
       "      <th>1</th>\n",
       "      <td>50</td>\n",
       "      <td>13</td>\n",
       "      <td>13</td>\n",
       "      <td>False</td>\n",
       "      <td>False</td>\n",
       "      <td>False</td>\n",
       "      <td>False</td>\n",
       "      <td>False</td>\n",
       "      <td>True</td>\n",
       "      <td>False</td>\n",
       "      <td>...</td>\n",
       "      <td>False</td>\n",
       "      <td>False</td>\n",
       "      <td>False</td>\n",
       "      <td>False</td>\n",
       "      <td>False</td>\n",
       "      <td>False</td>\n",
       "      <td>False</td>\n",
       "      <td>True</td>\n",
       "      <td>False</td>\n",
       "      <td>False</td>\n",
       "    </tr>\n",
       "    <tr>\n",
       "      <th>2</th>\n",
       "      <td>38</td>\n",
       "      <td>9</td>\n",
       "      <td>40</td>\n",
       "      <td>False</td>\n",
       "      <td>False</td>\n",
       "      <td>False</td>\n",
       "      <td>True</td>\n",
       "      <td>False</td>\n",
       "      <td>False</td>\n",
       "      <td>False</td>\n",
       "      <td>...</td>\n",
       "      <td>False</td>\n",
       "      <td>False</td>\n",
       "      <td>False</td>\n",
       "      <td>False</td>\n",
       "      <td>False</td>\n",
       "      <td>False</td>\n",
       "      <td>False</td>\n",
       "      <td>True</td>\n",
       "      <td>False</td>\n",
       "      <td>False</td>\n",
       "    </tr>\n",
       "    <tr>\n",
       "      <th>3</th>\n",
       "      <td>53</td>\n",
       "      <td>7</td>\n",
       "      <td>40</td>\n",
       "      <td>False</td>\n",
       "      <td>False</td>\n",
       "      <td>False</td>\n",
       "      <td>True</td>\n",
       "      <td>False</td>\n",
       "      <td>False</td>\n",
       "      <td>False</td>\n",
       "      <td>...</td>\n",
       "      <td>False</td>\n",
       "      <td>False</td>\n",
       "      <td>False</td>\n",
       "      <td>False</td>\n",
       "      <td>False</td>\n",
       "      <td>False</td>\n",
       "      <td>False</td>\n",
       "      <td>True</td>\n",
       "      <td>False</td>\n",
       "      <td>False</td>\n",
       "    </tr>\n",
       "    <tr>\n",
       "      <th>4</th>\n",
       "      <td>28</td>\n",
       "      <td>13</td>\n",
       "      <td>40</td>\n",
       "      <td>False</td>\n",
       "      <td>False</td>\n",
       "      <td>False</td>\n",
       "      <td>True</td>\n",
       "      <td>False</td>\n",
       "      <td>False</td>\n",
       "      <td>False</td>\n",
       "      <td>...</td>\n",
       "      <td>False</td>\n",
       "      <td>False</td>\n",
       "      <td>False</td>\n",
       "      <td>False</td>\n",
       "      <td>False</td>\n",
       "      <td>False</td>\n",
       "      <td>False</td>\n",
       "      <td>False</td>\n",
       "      <td>False</td>\n",
       "      <td>False</td>\n",
       "    </tr>\n",
       "    <tr>\n",
       "      <th>...</th>\n",
       "      <td>...</td>\n",
       "      <td>...</td>\n",
       "      <td>...</td>\n",
       "      <td>...</td>\n",
       "      <td>...</td>\n",
       "      <td>...</td>\n",
       "      <td>...</td>\n",
       "      <td>...</td>\n",
       "      <td>...</td>\n",
       "      <td>...</td>\n",
       "      <td>...</td>\n",
       "      <td>...</td>\n",
       "      <td>...</td>\n",
       "      <td>...</td>\n",
       "      <td>...</td>\n",
       "      <td>...</td>\n",
       "      <td>...</td>\n",
       "      <td>...</td>\n",
       "      <td>...</td>\n",
       "      <td>...</td>\n",
       "      <td>...</td>\n",
       "    </tr>\n",
       "    <tr>\n",
       "      <th>48836</th>\n",
       "      <td>33</td>\n",
       "      <td>13</td>\n",
       "      <td>40</td>\n",
       "      <td>False</td>\n",
       "      <td>False</td>\n",
       "      <td>False</td>\n",
       "      <td>True</td>\n",
       "      <td>False</td>\n",
       "      <td>False</td>\n",
       "      <td>False</td>\n",
       "      <td>...</td>\n",
       "      <td>False</td>\n",
       "      <td>False</td>\n",
       "      <td>False</td>\n",
       "      <td>False</td>\n",
       "      <td>False</td>\n",
       "      <td>False</td>\n",
       "      <td>False</td>\n",
       "      <td>True</td>\n",
       "      <td>False</td>\n",
       "      <td>False</td>\n",
       "    </tr>\n",
       "    <tr>\n",
       "      <th>48837</th>\n",
       "      <td>39</td>\n",
       "      <td>13</td>\n",
       "      <td>36</td>\n",
       "      <td>False</td>\n",
       "      <td>False</td>\n",
       "      <td>False</td>\n",
       "      <td>True</td>\n",
       "      <td>False</td>\n",
       "      <td>False</td>\n",
       "      <td>False</td>\n",
       "      <td>...</td>\n",
       "      <td>False</td>\n",
       "      <td>False</td>\n",
       "      <td>False</td>\n",
       "      <td>False</td>\n",
       "      <td>False</td>\n",
       "      <td>False</td>\n",
       "      <td>False</td>\n",
       "      <td>True</td>\n",
       "      <td>False</td>\n",
       "      <td>False</td>\n",
       "    </tr>\n",
       "    <tr>\n",
       "      <th>48839</th>\n",
       "      <td>38</td>\n",
       "      <td>13</td>\n",
       "      <td>50</td>\n",
       "      <td>False</td>\n",
       "      <td>False</td>\n",
       "      <td>False</td>\n",
       "      <td>True</td>\n",
       "      <td>False</td>\n",
       "      <td>False</td>\n",
       "      <td>False</td>\n",
       "      <td>...</td>\n",
       "      <td>False</td>\n",
       "      <td>False</td>\n",
       "      <td>False</td>\n",
       "      <td>False</td>\n",
       "      <td>False</td>\n",
       "      <td>False</td>\n",
       "      <td>False</td>\n",
       "      <td>True</td>\n",
       "      <td>False</td>\n",
       "      <td>False</td>\n",
       "    </tr>\n",
       "    <tr>\n",
       "      <th>48840</th>\n",
       "      <td>44</td>\n",
       "      <td>13</td>\n",
       "      <td>40</td>\n",
       "      <td>False</td>\n",
       "      <td>False</td>\n",
       "      <td>False</td>\n",
       "      <td>True</td>\n",
       "      <td>False</td>\n",
       "      <td>False</td>\n",
       "      <td>False</td>\n",
       "      <td>...</td>\n",
       "      <td>False</td>\n",
       "      <td>False</td>\n",
       "      <td>False</td>\n",
       "      <td>False</td>\n",
       "      <td>False</td>\n",
       "      <td>False</td>\n",
       "      <td>False</td>\n",
       "      <td>True</td>\n",
       "      <td>False</td>\n",
       "      <td>False</td>\n",
       "    </tr>\n",
       "    <tr>\n",
       "      <th>48841</th>\n",
       "      <td>35</td>\n",
       "      <td>13</td>\n",
       "      <td>60</td>\n",
       "      <td>False</td>\n",
       "      <td>False</td>\n",
       "      <td>False</td>\n",
       "      <td>False</td>\n",
       "      <td>True</td>\n",
       "      <td>False</td>\n",
       "      <td>False</td>\n",
       "      <td>...</td>\n",
       "      <td>False</td>\n",
       "      <td>False</td>\n",
       "      <td>False</td>\n",
       "      <td>False</td>\n",
       "      <td>False</td>\n",
       "      <td>False</td>\n",
       "      <td>False</td>\n",
       "      <td>True</td>\n",
       "      <td>False</td>\n",
       "      <td>False</td>\n",
       "    </tr>\n",
       "  </tbody>\n",
       "</table>\n",
       "<p>47621 rows × 97 columns</p>\n",
       "</div>"
      ],
      "text/plain": [
       "       age  education-num  hours-per-week  workclass_Federal-gov  \\\n",
       "0       39             13              40                  False   \n",
       "1       50             13              13                  False   \n",
       "2       38              9              40                  False   \n",
       "3       53              7              40                  False   \n",
       "4       28             13              40                  False   \n",
       "...    ...            ...             ...                    ...   \n",
       "48836   33             13              40                  False   \n",
       "48837   39             13              36                  False   \n",
       "48839   38             13              50                  False   \n",
       "48840   44             13              40                  False   \n",
       "48841   35             13              60                  False   \n",
       "\n",
       "       workclass_Local-gov  workclass_Never-worked  workclass_Private  \\\n",
       "0                    False                   False              False   \n",
       "1                    False                   False              False   \n",
       "2                    False                   False               True   \n",
       "3                    False                   False               True   \n",
       "4                    False                   False               True   \n",
       "...                    ...                     ...                ...   \n",
       "48836                False                   False               True   \n",
       "48837                False                   False               True   \n",
       "48839                False                   False               True   \n",
       "48840                False                   False               True   \n",
       "48841                False                   False              False   \n",
       "\n",
       "       workclass_Self-emp-inc  workclass_Self-emp-not-inc  \\\n",
       "0                       False                       False   \n",
       "1                       False                        True   \n",
       "2                       False                       False   \n",
       "3                       False                       False   \n",
       "4                       False                       False   \n",
       "...                       ...                         ...   \n",
       "48836                   False                       False   \n",
       "48837                   False                       False   \n",
       "48839                   False                       False   \n",
       "48840                   False                       False   \n",
       "48841                    True                       False   \n",
       "\n",
       "       workclass_State-gov  ...  native-country_Portugal  \\\n",
       "0                     True  ...                    False   \n",
       "1                    False  ...                    False   \n",
       "2                    False  ...                    False   \n",
       "3                    False  ...                    False   \n",
       "4                    False  ...                    False   \n",
       "...                    ...  ...                      ...   \n",
       "48836                False  ...                    False   \n",
       "48837                False  ...                    False   \n",
       "48839                False  ...                    False   \n",
       "48840                False  ...                    False   \n",
       "48841                False  ...                    False   \n",
       "\n",
       "       native-country_Puerto-Rico  native-country_Scotland  \\\n",
       "0                           False                    False   \n",
       "1                           False                    False   \n",
       "2                           False                    False   \n",
       "3                           False                    False   \n",
       "4                           False                    False   \n",
       "...                           ...                      ...   \n",
       "48836                       False                    False   \n",
       "48837                       False                    False   \n",
       "48839                       False                    False   \n",
       "48840                       False                    False   \n",
       "48841                       False                    False   \n",
       "\n",
       "       native-country_South  native-country_Taiwan  native-country_Thailand  \\\n",
       "0                     False                  False                    False   \n",
       "1                     False                  False                    False   \n",
       "2                     False                  False                    False   \n",
       "3                     False                  False                    False   \n",
       "4                     False                  False                    False   \n",
       "...                     ...                    ...                      ...   \n",
       "48836                 False                  False                    False   \n",
       "48837                 False                  False                    False   \n",
       "48839                 False                  False                    False   \n",
       "48840                 False                  False                    False   \n",
       "48841                 False                  False                    False   \n",
       "\n",
       "       native-country_Trinadad&Tobago  native-country_United-States  \\\n",
       "0                               False                          True   \n",
       "1                               False                          True   \n",
       "2                               False                          True   \n",
       "3                               False                          True   \n",
       "4                               False                         False   \n",
       "...                               ...                           ...   \n",
       "48836                           False                          True   \n",
       "48837                           False                          True   \n",
       "48839                           False                          True   \n",
       "48840                           False                          True   \n",
       "48841                           False                          True   \n",
       "\n",
       "       native-country_Vietnam  native-country_Yugoslavia  \n",
       "0                       False                      False  \n",
       "1                       False                      False  \n",
       "2                       False                      False  \n",
       "3                       False                      False  \n",
       "4                       False                      False  \n",
       "...                       ...                        ...  \n",
       "48836                   False                      False  \n",
       "48837                   False                      False  \n",
       "48839                   False                      False  \n",
       "48840                   False                      False  \n",
       "48841                   False                      False  \n",
       "\n",
       "[47621 rows x 97 columns]"
      ]
     },
     "execution_count": 302,
     "metadata": {},
     "output_type": "execute_result"
    }
   ],
   "source": [
    "X"
   ]
  },
  {
   "cell_type": "markdown",
   "id": "33ff90b7",
   "metadata": {},
   "source": [
    "### Task 2.4 Scale X_train\n",
    "Scaling first"
   ]
  },
  {
   "cell_type": "code",
   "execution_count": 303,
   "metadata": {},
   "outputs": [],
   "source": [
    "scaler = StandardScaler()\n",
    "numerical_features = ['age', 'education-num', 'hours-per-week']\n",
    "X[numerical_features] = scaler.fit_transform(X[numerical_features]) "
   ]
  },
  {
   "cell_type": "markdown",
   "id": "a399ffcc",
   "metadata": {},
   "source": [
    "### Task 2.5 Test-train split\n",
    "Scale the X training dataset, using the standard scaler."
   ]
  },
  {
   "cell_type": "code",
   "execution_count": 304,
   "id": "b00212e4",
   "metadata": {},
   "outputs": [],
   "source": [
    "X_train, X_test, y_train, y_test = train_test_split(X, y, test_size=0.2, random_state=45)"
   ]
  },
  {
   "cell_type": "code",
   "execution_count": 305,
   "id": "53642111",
   "metadata": {},
   "outputs": [
    {
     "name": "stdout",
     "output_type": "stream",
     "text": [
      "Shape of X_train (training features): (38096, 97)\n",
      "Shape of X_test (testing features): (9525, 97)\n",
      "Shape of y_train (training labels): (38096,)\n",
      "Shape of y_test (testing labels): (9525,)\n"
     ]
    }
   ],
   "source": [
    "print(\"Shape of X_train (training features):\", X_train.shape)\n",
    "print(\"Shape of X_test (testing features):\", X_test.shape)\n",
    "print(\"Shape of y_train (training labels):\", y_train.shape)\n",
    "print(\"Shape of y_test (testing labels):\", y_test.shape)"
   ]
  },
  {
   "cell_type": "code",
   "execution_count": null,
   "id": "59857de0",
   "metadata": {},
   "outputs": [],
   "source": []
  },
  {
   "cell_type": "markdown",
   "id": "6277718c",
   "metadata": {},
   "source": [
    "### Task 2.6 Transform into arrays\n",
    "Turn the training and test data (both Xs and ys) into numpy arrays using the method `.to_numpy()`.\n"
   ]
  },
  {
   "cell_type": "code",
   "execution_count": 306,
   "id": "3d474a62",
   "metadata": {},
   "outputs": [],
   "source": [
    "X_train = X_train.astype(np.float32)\n",
    "X_test = X_test.astype(np.float32)\n",
    "y_train = y_train.astype(np.float32)\n",
    "y_test = y_test.astype(np.float32)\n",
    "\n",
    "\n",
    "X_train = X_train.values\n",
    "X_test = X_test.values\n",
    "y_train = y_train.values\n",
    "y_test = y_test.values"
   ]
  },
  {
   "cell_type": "markdown",
   "id": "ae0a9795",
   "metadata": {},
   "source": [
    "### Task 2.7 Create NN model\n"
   ]
  },
  {
   "cell_type": "code",
   "execution_count": 307,
   "id": "5b301f26",
   "metadata": {},
   "outputs": [],
   "source": [
    "model = keras.Sequential([\n",
    "    layers.Dense(16, activation='relu'),\n",
    "    layers.Dense(16, activation='relu'),\n",
    "    layers.Dense(1, activation='sigmoid')\n",
    "])\n",
    "\n",
    "model.compile(optimizer=\"rmsprop\",\n",
    "              loss=\"binary_crossentropy\",\n",
    "              metrics=[\"accuracy\"])"
   ]
  },
  {
   "cell_type": "markdown",
   "id": "e021bdf3",
   "metadata": {},
   "source": [
    "### Task 2.8 Train NN model\n",
    "Train the model for 50 epochs with a batch size of 64. Instead of creating a validation set before training the model, we can give it as an argument to the fit method, that it should set aside, let's say, 20% of the training data for validation. Do this by providing the argument `validation_split=0.2` to the fit method.\n"
   ]
  },
  {
   "cell_type": "code",
   "execution_count": 308,
   "id": "56098859",
   "metadata": {},
   "outputs": [
    {
     "name": "stdout",
     "output_type": "stream",
     "text": [
      "Epoch 1/50\n",
      "\u001b[1m477/477\u001b[0m \u001b[32m━━━━━━━━━━━━━━━━━━━━\u001b[0m\u001b[37m\u001b[0m \u001b[1m2s\u001b[0m 2ms/step - accuracy: 0.7916 - loss: 0.4456 - val_accuracy: 0.8327 - val_loss: 0.3540\n",
      "Epoch 2/50\n",
      "\u001b[1m477/477\u001b[0m \u001b[32m━━━━━━━━━━━━━━━━━━━━\u001b[0m\u001b[37m\u001b[0m \u001b[1m1s\u001b[0m 2ms/step - accuracy: 0.8376 - loss: 0.3465 - val_accuracy: 0.8349 - val_loss: 0.3479\n",
      "Epoch 3/50\n",
      "\u001b[1m477/477\u001b[0m \u001b[32m━━━━━━━━━━━━━━━━━━━━\u001b[0m\u001b[37m\u001b[0m \u001b[1m1s\u001b[0m 2ms/step - accuracy: 0.8401 - loss: 0.3475 - val_accuracy: 0.8357 - val_loss: 0.3483\n",
      "Epoch 4/50\n",
      "\u001b[1m477/477\u001b[0m \u001b[32m━━━━━━━━━━━━━━━━━━━━\u001b[0m\u001b[37m\u001b[0m \u001b[1m1s\u001b[0m 2ms/step - accuracy: 0.8400 - loss: 0.3398 - val_accuracy: 0.8367 - val_loss: 0.3449\n",
      "Epoch 5/50\n",
      "\u001b[1m477/477\u001b[0m \u001b[32m━━━━━━━━━━━━━━━━━━━━\u001b[0m\u001b[37m\u001b[0m \u001b[1m1s\u001b[0m 2ms/step - accuracy: 0.8432 - loss: 0.3380 - val_accuracy: 0.8354 - val_loss: 0.3447\n",
      "Epoch 6/50\n",
      "\u001b[1m477/477\u001b[0m \u001b[32m━━━━━━━━━━━━━━━━━━━━\u001b[0m\u001b[37m\u001b[0m \u001b[1m1s\u001b[0m 2ms/step - accuracy: 0.8388 - loss: 0.3437 - val_accuracy: 0.8375 - val_loss: 0.3449\n",
      "Epoch 7/50\n",
      "\u001b[1m477/477\u001b[0m \u001b[32m━━━━━━━━━━━━━━━━━━━━\u001b[0m\u001b[37m\u001b[0m \u001b[1m1s\u001b[0m 2ms/step - accuracy: 0.8396 - loss: 0.3433 - val_accuracy: 0.8354 - val_loss: 0.3437\n",
      "Epoch 8/50\n",
      "\u001b[1m477/477\u001b[0m \u001b[32m━━━━━━━━━━━━━━━━━━━━\u001b[0m\u001b[37m\u001b[0m \u001b[1m1s\u001b[0m 2ms/step - accuracy: 0.8419 - loss: 0.3403 - val_accuracy: 0.8354 - val_loss: 0.3453\n",
      "Epoch 9/50\n",
      "\u001b[1m477/477\u001b[0m \u001b[32m━━━━━━━━━━━━━━━━━━━━\u001b[0m\u001b[37m\u001b[0m \u001b[1m1s\u001b[0m 2ms/step - accuracy: 0.8435 - loss: 0.3388 - val_accuracy: 0.8371 - val_loss: 0.3446\n",
      "Epoch 10/50\n",
      "\u001b[1m477/477\u001b[0m \u001b[32m━━━━━━━━━━━━━━━━━━━━\u001b[0m\u001b[37m\u001b[0m \u001b[1m1s\u001b[0m 2ms/step - accuracy: 0.8429 - loss: 0.3403 - val_accuracy: 0.8365 - val_loss: 0.3435\n",
      "Epoch 11/50\n",
      "\u001b[1m477/477\u001b[0m \u001b[32m━━━━━━━━━━━━━━━━━━━━\u001b[0m\u001b[37m\u001b[0m \u001b[1m1s\u001b[0m 2ms/step - accuracy: 0.8409 - loss: 0.3398 - val_accuracy: 0.8360 - val_loss: 0.3447\n",
      "Epoch 12/50\n",
      "\u001b[1m477/477\u001b[0m \u001b[32m━━━━━━━━━━━━━━━━━━━━\u001b[0m\u001b[37m\u001b[0m \u001b[1m1s\u001b[0m 2ms/step - accuracy: 0.8442 - loss: 0.3361 - val_accuracy: 0.8344 - val_loss: 0.3445\n",
      "Epoch 13/50\n",
      "\u001b[1m477/477\u001b[0m \u001b[32m━━━━━━━━━━━━━━━━━━━━\u001b[0m\u001b[37m\u001b[0m \u001b[1m1s\u001b[0m 2ms/step - accuracy: 0.8416 - loss: 0.3388 - val_accuracy: 0.8353 - val_loss: 0.3439\n",
      "Epoch 14/50\n",
      "\u001b[1m477/477\u001b[0m \u001b[32m━━━━━━━━━━━━━━━━━━━━\u001b[0m\u001b[37m\u001b[0m \u001b[1m1s\u001b[0m 2ms/step - accuracy: 0.8444 - loss: 0.3363 - val_accuracy: 0.8357 - val_loss: 0.3444\n",
      "Epoch 15/50\n",
      "\u001b[1m477/477\u001b[0m \u001b[32m━━━━━━━━━━━━━━━━━━━━\u001b[0m\u001b[37m\u001b[0m \u001b[1m1s\u001b[0m 2ms/step - accuracy: 0.8437 - loss: 0.3348 - val_accuracy: 0.8371 - val_loss: 0.3444\n",
      "Epoch 16/50\n",
      "\u001b[1m477/477\u001b[0m \u001b[32m━━━━━━━━━━━━━━━━━━━━\u001b[0m\u001b[37m\u001b[0m \u001b[1m1s\u001b[0m 2ms/step - accuracy: 0.8399 - loss: 0.3373 - val_accuracy: 0.8382 - val_loss: 0.3433\n",
      "Epoch 17/50\n",
      "\u001b[1m477/477\u001b[0m \u001b[32m━━━━━━━━━━━━━━━━━━━━\u001b[0m\u001b[37m\u001b[0m \u001b[1m1s\u001b[0m 2ms/step - accuracy: 0.8437 - loss: 0.3379 - val_accuracy: 0.8369 - val_loss: 0.3447\n",
      "Epoch 18/50\n",
      "\u001b[1m477/477\u001b[0m \u001b[32m━━━━━━━━━━━━━━━━━━━━\u001b[0m\u001b[37m\u001b[0m \u001b[1m1s\u001b[0m 2ms/step - accuracy: 0.8421 - loss: 0.3400 - val_accuracy: 0.8357 - val_loss: 0.3452\n",
      "Epoch 19/50\n",
      "\u001b[1m477/477\u001b[0m \u001b[32m━━━━━━━━━━━━━━━━━━━━\u001b[0m\u001b[37m\u001b[0m \u001b[1m1s\u001b[0m 2ms/step - accuracy: 0.8408 - loss: 0.3379 - val_accuracy: 0.8365 - val_loss: 0.3435\n",
      "Epoch 20/50\n",
      "\u001b[1m477/477\u001b[0m \u001b[32m━━━━━━━━━━━━━━━━━━━━\u001b[0m\u001b[37m\u001b[0m \u001b[1m1s\u001b[0m 2ms/step - accuracy: 0.8464 - loss: 0.3351 - val_accuracy: 0.8379 - val_loss: 0.3451\n",
      "Epoch 21/50\n",
      "\u001b[1m477/477\u001b[0m \u001b[32m━━━━━━━━━━━━━━━━━━━━\u001b[0m\u001b[37m\u001b[0m \u001b[1m1s\u001b[0m 2ms/step - accuracy: 0.8414 - loss: 0.3420 - val_accuracy: 0.8343 - val_loss: 0.3438\n",
      "Epoch 22/50\n",
      "\u001b[1m477/477\u001b[0m \u001b[32m━━━━━━━━━━━━━━━━━━━━\u001b[0m\u001b[37m\u001b[0m \u001b[1m1s\u001b[0m 2ms/step - accuracy: 0.8448 - loss: 0.3350 - val_accuracy: 0.8364 - val_loss: 0.3436\n",
      "Epoch 23/50\n",
      "\u001b[1m477/477\u001b[0m \u001b[32m━━━━━━━━━━━━━━━━━━━━\u001b[0m\u001b[37m\u001b[0m \u001b[1m1s\u001b[0m 2ms/step - accuracy: 0.8438 - loss: 0.3330 - val_accuracy: 0.8362 - val_loss: 0.3448\n",
      "Epoch 24/50\n",
      "\u001b[1m477/477\u001b[0m \u001b[32m━━━━━━━━━━━━━━━━━━━━\u001b[0m\u001b[37m\u001b[0m \u001b[1m1s\u001b[0m 2ms/step - accuracy: 0.8444 - loss: 0.3347 - val_accuracy: 0.8375 - val_loss: 0.3444\n",
      "Epoch 25/50\n",
      "\u001b[1m477/477\u001b[0m \u001b[32m━━━━━━━━━━━━━━━━━━━━\u001b[0m\u001b[37m\u001b[0m \u001b[1m1s\u001b[0m 2ms/step - accuracy: 0.8423 - loss: 0.3372 - val_accuracy: 0.8370 - val_loss: 0.3431\n",
      "Epoch 26/50\n",
      "\u001b[1m477/477\u001b[0m \u001b[32m━━━━━━━━━━━━━━━━━━━━\u001b[0m\u001b[37m\u001b[0m \u001b[1m1s\u001b[0m 2ms/step - accuracy: 0.8413 - loss: 0.3398 - val_accuracy: 0.8360 - val_loss: 0.3436\n",
      "Epoch 27/50\n",
      "\u001b[1m477/477\u001b[0m \u001b[32m━━━━━━━━━━━━━━━━━━━━\u001b[0m\u001b[37m\u001b[0m \u001b[1m1s\u001b[0m 2ms/step - accuracy: 0.8437 - loss: 0.3382 - val_accuracy: 0.8378 - val_loss: 0.3440\n",
      "Epoch 28/50\n",
      "\u001b[1m477/477\u001b[0m \u001b[32m━━━━━━━━━━━━━━━━━━━━\u001b[0m\u001b[37m\u001b[0m \u001b[1m1s\u001b[0m 2ms/step - accuracy: 0.8495 - loss: 0.3255 - val_accuracy: 0.8375 - val_loss: 0.3433\n",
      "Epoch 29/50\n",
      "\u001b[1m477/477\u001b[0m \u001b[32m━━━━━━━━━━━━━━━━━━━━\u001b[0m\u001b[37m\u001b[0m \u001b[1m1s\u001b[0m 2ms/step - accuracy: 0.8453 - loss: 0.3356 - val_accuracy: 0.8341 - val_loss: 0.3457\n",
      "Epoch 30/50\n",
      "\u001b[1m477/477\u001b[0m \u001b[32m━━━━━━━━━━━━━━━━━━━━\u001b[0m\u001b[37m\u001b[0m \u001b[1m1s\u001b[0m 2ms/step - accuracy: 0.8458 - loss: 0.3335 - val_accuracy: 0.8344 - val_loss: 0.3442\n",
      "Epoch 31/50\n",
      "\u001b[1m477/477\u001b[0m \u001b[32m━━━━━━━━━━━━━━━━━━━━\u001b[0m\u001b[37m\u001b[0m \u001b[1m1s\u001b[0m 2ms/step - accuracy: 0.8480 - loss: 0.3312 - val_accuracy: 0.8374 - val_loss: 0.3435\n",
      "Epoch 32/50\n",
      "\u001b[1m477/477\u001b[0m \u001b[32m━━━━━━━━━━━━━━━━━━━━\u001b[0m\u001b[37m\u001b[0m \u001b[1m1s\u001b[0m 2ms/step - accuracy: 0.8455 - loss: 0.3359 - val_accuracy: 0.8379 - val_loss: 0.3439\n",
      "Epoch 33/50\n",
      "\u001b[1m477/477\u001b[0m \u001b[32m━━━━━━━━━━━━━━━━━━━━\u001b[0m\u001b[37m\u001b[0m \u001b[1m1s\u001b[0m 2ms/step - accuracy: 0.8456 - loss: 0.3339 - val_accuracy: 0.8367 - val_loss: 0.3440\n",
      "Epoch 34/50\n",
      "\u001b[1m477/477\u001b[0m \u001b[32m━━━━━━━━━━━━━━━━━━━━\u001b[0m\u001b[37m\u001b[0m \u001b[1m1s\u001b[0m 2ms/step - accuracy: 0.8440 - loss: 0.3349 - val_accuracy: 0.8362 - val_loss: 0.3434\n",
      "Epoch 35/50\n",
      "\u001b[1m477/477\u001b[0m \u001b[32m━━━━━━━━━━━━━━━━━━━━\u001b[0m\u001b[37m\u001b[0m \u001b[1m1s\u001b[0m 2ms/step - accuracy: 0.8459 - loss: 0.3331 - val_accuracy: 0.8364 - val_loss: 0.3447\n",
      "Epoch 36/50\n",
      "\u001b[1m477/477\u001b[0m \u001b[32m━━━━━━━━━━━━━━━━━━━━\u001b[0m\u001b[37m\u001b[0m \u001b[1m1s\u001b[0m 2ms/step - accuracy: 0.8454 - loss: 0.3332 - val_accuracy: 0.8364 - val_loss: 0.3447\n",
      "Epoch 37/50\n",
      "\u001b[1m477/477\u001b[0m \u001b[32m━━━━━━━━━━━━━━━━━━━━\u001b[0m\u001b[37m\u001b[0m \u001b[1m1s\u001b[0m 2ms/step - accuracy: 0.8459 - loss: 0.3321 - val_accuracy: 0.8352 - val_loss: 0.3455\n",
      "Epoch 38/50\n",
      "\u001b[1m477/477\u001b[0m \u001b[32m━━━━━━━━━━━━━━━━━━━━\u001b[0m\u001b[37m\u001b[0m \u001b[1m1s\u001b[0m 2ms/step - accuracy: 0.8447 - loss: 0.3360 - val_accuracy: 0.8383 - val_loss: 0.3455\n",
      "Epoch 39/50\n",
      "\u001b[1m477/477\u001b[0m \u001b[32m━━━━━━━━━━━━━━━━━━━━\u001b[0m\u001b[37m\u001b[0m \u001b[1m1s\u001b[0m 2ms/step - accuracy: 0.8475 - loss: 0.3332 - val_accuracy: 0.8366 - val_loss: 0.3449\n",
      "Epoch 40/50\n",
      "\u001b[1m477/477\u001b[0m \u001b[32m━━━━━━━━━━━━━━━━━━━━\u001b[0m\u001b[37m\u001b[0m \u001b[1m1s\u001b[0m 2ms/step - accuracy: 0.8459 - loss: 0.3312 - val_accuracy: 0.8339 - val_loss: 0.3465\n",
      "Epoch 41/50\n",
      "\u001b[1m477/477\u001b[0m \u001b[32m━━━━━━━━━━━━━━━━━━━━\u001b[0m\u001b[37m\u001b[0m \u001b[1m1s\u001b[0m 2ms/step - accuracy: 0.8468 - loss: 0.3313 - val_accuracy: 0.8378 - val_loss: 0.3443\n",
      "Epoch 42/50\n",
      "\u001b[1m477/477\u001b[0m \u001b[32m━━━━━━━━━━━━━━━━━━━━\u001b[0m\u001b[37m\u001b[0m \u001b[1m1s\u001b[0m 2ms/step - accuracy: 0.8458 - loss: 0.3297 - val_accuracy: 0.8369 - val_loss: 0.3454\n",
      "Epoch 43/50\n",
      "\u001b[1m477/477\u001b[0m \u001b[32m━━━━━━━━━━━━━━━━━━━━\u001b[0m\u001b[37m\u001b[0m \u001b[1m1s\u001b[0m 2ms/step - accuracy: 0.8520 - loss: 0.3291 - val_accuracy: 0.8385 - val_loss: 0.3448\n",
      "Epoch 44/50\n",
      "\u001b[1m477/477\u001b[0m \u001b[32m━━━━━━━━━━━━━━━━━━━━\u001b[0m\u001b[37m\u001b[0m \u001b[1m1s\u001b[0m 2ms/step - accuracy: 0.8491 - loss: 0.3338 - val_accuracy: 0.8371 - val_loss: 0.3465\n",
      "Epoch 45/50\n",
      "\u001b[1m477/477\u001b[0m \u001b[32m━━━━━━━━━━━━━━━━━━━━\u001b[0m\u001b[37m\u001b[0m \u001b[1m1s\u001b[0m 2ms/step - accuracy: 0.8451 - loss: 0.3309 - val_accuracy: 0.8375 - val_loss: 0.3461\n",
      "Epoch 46/50\n",
      "\u001b[1m477/477\u001b[0m \u001b[32m━━━━━━━━━━━━━━━━━━━━\u001b[0m\u001b[37m\u001b[0m \u001b[1m1s\u001b[0m 2ms/step - accuracy: 0.8458 - loss: 0.3336 - val_accuracy: 0.8387 - val_loss: 0.3455\n",
      "Epoch 47/50\n",
      "\u001b[1m477/477\u001b[0m \u001b[32m━━━━━━━━━━━━━━━━━━━━\u001b[0m\u001b[37m\u001b[0m \u001b[1m1s\u001b[0m 2ms/step - accuracy: 0.8493 - loss: 0.3275 - val_accuracy: 0.8352 - val_loss: 0.3461\n",
      "Epoch 48/50\n",
      "\u001b[1m477/477\u001b[0m \u001b[32m━━━━━━━━━━━━━━━━━━━━\u001b[0m\u001b[37m\u001b[0m \u001b[1m1s\u001b[0m 2ms/step - accuracy: 0.8521 - loss: 0.3284 - val_accuracy: 0.8339 - val_loss: 0.3481\n",
      "Epoch 49/50\n",
      "\u001b[1m477/477\u001b[0m \u001b[32m━━━━━━━━━━━━━━━━━━━━\u001b[0m\u001b[37m\u001b[0m \u001b[1m1s\u001b[0m 2ms/step - accuracy: 0.8452 - loss: 0.3336 - val_accuracy: 0.8377 - val_loss: 0.3462\n",
      "Epoch 50/50\n",
      "\u001b[1m477/477\u001b[0m \u001b[32m━━━━━━━━━━━━━━━━━━━━\u001b[0m\u001b[37m\u001b[0m \u001b[1m1s\u001b[0m 2ms/step - accuracy: 0.8459 - loss: 0.3295 - val_accuracy: 0.8388 - val_loss: 0.3452\n"
     ]
    }
   ],
   "source": [
    "partial_history = model.fit(X_train,\n",
    "                     y_train,\n",
    "                     epochs = 50,\n",
    "                     batch_size=64,\n",
    "                     validation_split=0.2)\n"
   ]
  },
  {
   "cell_type": "markdown",
   "id": "ac66bc1c",
   "metadata": {},
   "source": [
    "### Task 2.9 Plotting\n",
    "Plot the training and validation loss and decide on a best number of epochs.\n"
   ]
  },
  {
   "cell_type": "code",
   "execution_count": 309,
   "id": "148ceb8f",
   "metadata": {},
   "outputs": [
    {
     "data": {
      "image/png": "[encoded data removed]",
      "text/plain": [
       "<Figure size 640x480 with 1 Axes>"
      ]
     },
     "metadata": {},
     "output_type": "display_data"
    }
   ],
   "source": [
    "import matplotlib.pyplot as plt\n",
    "history_dict = partial_history.history\n",
    "loss_values = history_dict[\"loss\"]\n",
    "val_loss_values = history_dict[\"val_loss\"]\n",
    "epochs = range(1, len(loss_values) + 1)\n",
    "plt.plot(epochs, loss_values, \"bo\", label=\"Training loss\")\n",
    "plt.plot(epochs, val_loss_values, \"b\", label=\"Validation loss\")\n",
    "plt.title(\"Training and validation loss (model)\")\n",
    "plt.xlabel(\"Epochs\")\n",
    "plt.ylabel(\"Loss\")\n",
    "plt.legend()\n",
    "plt.show()"
   ]
  },
  {
   "cell_type": "code",
   "execution_count": 310,
   "id": "a4f291c9",
   "metadata": {},
   "outputs": [
    {
     "data": {
      "image/png": "[encoded data removed]",
      "text/plain": [
       "<Figure size 640x480 with 1 Axes>"
      ]
     },
     "metadata": {},
     "output_type": "display_data"
    }
   ],
   "source": [
    "plt.clf()\n",
    "acc = history_dict[\"accuracy\"]\n",
    "val_acc = history_dict[\"val_accuracy\"]\n",
    "plt.plot(epochs, acc, \"bo\", label=\"Training acc\")\n",
    "plt.plot(epochs, val_acc, \"b\", label=\"Validation acc\")\n",
    "plt.title(\"Training and validation accuracy (model1)\")\n",
    "plt.xlabel(\"Epochs\")\n",
    "plt.ylabel(\"Accuracy\")\n",
    "plt.legend()\n",
    "plt.show()"
   ]
  },
  {
   "cell_type": "markdown",
   "id": "b9a0f52e",
   "metadata": {},
   "source": [
    "### Task 2.11 Retrain with 20 epochs \n",
    "Rebuild and retrain the model for the number of epochs decided in task above.\n"
   ]
  },
  {
   "cell_type": "code",
   "execution_count": 311,
   "id": "56ebe6e6",
   "metadata": {},
   "outputs": [
    {
     "name": "stdout",
     "output_type": "stream",
     "text": [
      "Epoch 1/20\n",
      "\u001b[1m596/596\u001b[0m \u001b[32m━━━━━━━━━━━━━━━━━━━━\u001b[0m\u001b[37m\u001b[0m \u001b[1m1s\u001b[0m 1ms/step - accuracy: 0.8469 - loss: 0.3289\n",
      "Epoch 2/20\n",
      "\u001b[1m596/596\u001b[0m \u001b[32m━━━━━━━━━━━━━━━━━━━━\u001b[0m\u001b[37m\u001b[0m \u001b[1m1s\u001b[0m 1ms/step - accuracy: 0.8472 - loss: 0.3303\n",
      "Epoch 3/20\n",
      "\u001b[1m596/596\u001b[0m \u001b[32m━━━━━━━━━━━━━━━━━━━━\u001b[0m\u001b[37m\u001b[0m \u001b[1m1s\u001b[0m 1ms/step - accuracy: 0.8480 - loss: 0.3306\n",
      "Epoch 4/20\n",
      "\u001b[1m596/596\u001b[0m \u001b[32m━━━━━━━━━━━━━━━━━━━━\u001b[0m\u001b[37m\u001b[0m \u001b[1m1s\u001b[0m 1ms/step - accuracy: 0.8484 - loss: 0.3298\n",
      "Epoch 5/20\n",
      "\u001b[1m596/596\u001b[0m \u001b[32m━━━━━━━━━━━━━━━━━━━━\u001b[0m\u001b[37m\u001b[0m \u001b[1m1s\u001b[0m 1ms/step - accuracy: 0.8479 - loss: 0.3306\n",
      "Epoch 6/20\n",
      "\u001b[1m596/596\u001b[0m \u001b[32m━━━━━━━━━━━━━━━━━━━━\u001b[0m\u001b[37m\u001b[0m \u001b[1m1s\u001b[0m 1ms/step - accuracy: 0.8464 - loss: 0.3323\n",
      "Epoch 7/20\n",
      "\u001b[1m596/596\u001b[0m \u001b[32m━━━━━━━━━━━━━━━━━━━━\u001b[0m\u001b[37m\u001b[0m \u001b[1m1s\u001b[0m 1ms/step - accuracy: 0.8479 - loss: 0.3319\n",
      "Epoch 8/20\n",
      "\u001b[1m596/596\u001b[0m \u001b[32m━━━━━━━━━━━━━━━━━━━━\u001b[0m\u001b[37m\u001b[0m \u001b[1m1s\u001b[0m 1ms/step - accuracy: 0.8437 - loss: 0.3345\n",
      "Epoch 9/20\n",
      "\u001b[1m596/596\u001b[0m \u001b[32m━━━━━━━━━━━━━━━━━━━━\u001b[0m\u001b[37m\u001b[0m \u001b[1m1s\u001b[0m 1ms/step - accuracy: 0.8480 - loss: 0.3323\n",
      "Epoch 10/20\n",
      "\u001b[1m596/596\u001b[0m \u001b[32m━━━━━━━━━━━━━━━━━━━━\u001b[0m\u001b[37m\u001b[0m \u001b[1m1s\u001b[0m 1ms/step - accuracy: 0.8484 - loss: 0.3315\n",
      "Epoch 11/20\n",
      "\u001b[1m596/596\u001b[0m \u001b[32m━━━━━━━━━━━━━━━━━━━━\u001b[0m\u001b[37m\u001b[0m \u001b[1m1s\u001b[0m 1ms/step - accuracy: 0.8453 - loss: 0.3337\n",
      "Epoch 12/20\n",
      "\u001b[1m596/596\u001b[0m \u001b[32m━━━━━━━━━━━━━━━━━━━━\u001b[0m\u001b[37m\u001b[0m \u001b[1m1s\u001b[0m 1ms/step - accuracy: 0.8455 - loss: 0.3356\n",
      "Epoch 13/20\n",
      "\u001b[1m596/596\u001b[0m \u001b[32m━━━━━━━━━━━━━━━━━━━━\u001b[0m\u001b[37m\u001b[0m \u001b[1m1s\u001b[0m 1ms/step - accuracy: 0.8474 - loss: 0.3351\n",
      "Epoch 14/20\n",
      "\u001b[1m596/596\u001b[0m \u001b[32m━━━━━━━━━━━━━━━━━━━━\u001b[0m\u001b[37m\u001b[0m \u001b[1m1s\u001b[0m 1ms/step - accuracy: 0.8467 - loss: 0.3315\n",
      "Epoch 15/20\n",
      "\u001b[1m596/596\u001b[0m \u001b[32m━━━━━━━━━━━━━━━━━━━━\u001b[0m\u001b[37m\u001b[0m \u001b[1m1s\u001b[0m 1ms/step - accuracy: 0.8496 - loss: 0.3305\n",
      "Epoch 16/20\n",
      "\u001b[1m596/596\u001b[0m \u001b[32m━━━━━━━━━━━━━━━━━━━━\u001b[0m\u001b[37m\u001b[0m \u001b[1m1s\u001b[0m 1ms/step - accuracy: 0.8482 - loss: 0.3304\n",
      "Epoch 17/20\n",
      "\u001b[1m596/596\u001b[0m \u001b[32m━━━━━━━━━━━━━━━━━━━━\u001b[0m\u001b[37m\u001b[0m \u001b[1m1s\u001b[0m 1ms/step - accuracy: 0.8470 - loss: 0.3343\n",
      "Epoch 18/20\n",
      "\u001b[1m596/596\u001b[0m \u001b[32m━━━━━━━━━━━━━━━━━━━━\u001b[0m\u001b[37m\u001b[0m \u001b[1m1s\u001b[0m 1ms/step - accuracy: 0.8447 - loss: 0.3306\n",
      "Epoch 19/20\n",
      "\u001b[1m596/596\u001b[0m \u001b[32m━━━━━━━━━━━━━━━━━━━━\u001b[0m\u001b[37m\u001b[0m \u001b[1m1s\u001b[0m 1ms/step - accuracy: 0.8461 - loss: 0.3348\n",
      "Epoch 20/20\n",
      "\u001b[1m596/596\u001b[0m \u001b[32m━━━━━━━━━━━━━━━━━━━━\u001b[0m\u001b[37m\u001b[0m \u001b[1m1s\u001b[0m 1ms/step - accuracy: 0.8468 - loss: 0.3324\n"
     ]
    }
   ],
   "source": [
    "history = model.fit(X_train,\n",
    "                     y_train,\n",
    "                     epochs = 20,\n",
    "                     batch_size=64)\n"
   ]
  },
  {
   "cell_type": "markdown",
   "id": "57daf91f",
   "metadata": {},
   "source": [
    "### Task 2.12 + 2.13 Evaluation \n",
    "Evaluate the model on the test dataset to get the test accuracy.\n"
   ]
  },
  {
   "cell_type": "code",
   "execution_count": 312,
   "id": "9165a251",
   "metadata": {},
   "outputs": [
    {
     "name": "stdout",
     "output_type": "stream",
     "text": [
      "\u001b[1m298/298\u001b[0m \u001b[32m━━━━━━━━━━━━━━━━━━━━\u001b[0m\u001b[37m\u001b[0m \u001b[1m0s\u001b[0m 1ms/step - accuracy: 0.8428 - loss: 0.3450\n",
      "[0.3428630530834198, 0.8415747880935669]\n",
      "\u001b[1m298/298\u001b[0m \u001b[32m━━━━━━━━━━━━━━━━━━━━\u001b[0m\u001b[37m\u001b[0m \u001b[1m0s\u001b[0m 781us/step\n"
     ]
    },
    {
     "data": {
      "image/png": "[encoded data removed]",
      "text/plain": [
       "<Figure size 640x480 with 2 Axes>"
      ]
     },
     "metadata": {},
     "output_type": "display_data"
    }
   ],
   "source": [
    "from sklearn.metrics import confusion_matrix, ConfusionMatrixDisplay\n",
    "results = model.evaluate(X_test, y_test)\n",
    "print(f'{results}')\n",
    "\n",
    "y_pred_proba = model.predict(X_test).flatten()\n",
    "y_pred = (y_pred_proba > 0.5).astype(int)  #threshold for the confidence between 0-1\n",
    "\n",
    "cm = confusion_matrix(y_test, y_pred)\n",
    "\n",
    "matrix = ConfusionMatrixDisplay(confusion_matrix=cm, display_labels=['Negative', 'Positive'])\n",
    "matrix.plot(cmap=plt.cm.Blues)\n",
    "plt.text(0, 0, f'TrueNeg: {cm[0, 0]}', ha='center', va='center', backgroundcolor='red', color='black', fontsize=12, weight='bold')\n",
    "plt.text(0, 1, f'FalseNeg: {cm[1, 0]}', ha='center', va='center', backgroundcolor='red', color='black', fontsize=12, weight='bold')\n",
    "plt.text(1, 0, f'FalsePos: {cm[0, 1]}', ha='center', va='center', backgroundcolor='red', color='black', fontsize=12, weight='bold')\n",
    "plt.text(1, 1, f'TruePos: {cm[1, 1]}', ha='center', va='center', backgroundcolor='red',  color='black', fontsize=12, weight='bold')\n",
    "\n",
    "plt.title('Confusion Matrix for NN model trained for 20 epochs')\n",
    "plt.show()"
   ]
  },
  {
   "cell_type": "code",
   "execution_count": 313,
   "id": "d182ddbc",
   "metadata": {},
   "outputs": [
    {
     "name": "stdout",
     "output_type": "stream",
     "text": [
      "Epoch 1/50\n",
      "\u001b[1m477/477\u001b[0m \u001b[32m━━━━━━━━━━━━━━━━━━━━\u001b[0m\u001b[37m\u001b[0m \u001b[1m2s\u001b[0m 2ms/step - accuracy: 0.7885 - loss: 0.4403 - val_accuracy: 0.8323 - val_loss: 0.3511\n",
      "Epoch 2/50\n",
      "\u001b[1m477/477\u001b[0m \u001b[32m━━━━━━━━━━━━━━━━━━━━\u001b[0m\u001b[37m\u001b[0m \u001b[1m1s\u001b[0m 2ms/step - accuracy: 0.8298 - loss: 0.3535 - val_accuracy: 0.8358 - val_loss: 0.3469\n",
      "Epoch 3/50\n",
      "\u001b[1m477/477\u001b[0m \u001b[32m━━━━━━━━━━━━━━━━━━━━\u001b[0m\u001b[37m\u001b[0m \u001b[1m1s\u001b[0m 2ms/step - accuracy: 0.8321 - loss: 0.3517 - val_accuracy: 0.8335 - val_loss: 0.3466\n",
      "Epoch 4/50\n",
      "\u001b[1m477/477\u001b[0m \u001b[32m━━━━━━━━━━━━━━━━━━━━\u001b[0m\u001b[37m\u001b[0m \u001b[1m1s\u001b[0m 2ms/step - accuracy: 0.8378 - loss: 0.3461 - val_accuracy: 0.8348 - val_loss: 0.3452\n",
      "Epoch 5/50\n",
      "\u001b[1m477/477\u001b[0m \u001b[32m━━━━━━━━━━━━━━━━━━━━\u001b[0m\u001b[37m\u001b[0m \u001b[1m1s\u001b[0m 2ms/step - accuracy: 0.8409 - loss: 0.3398 - val_accuracy: 0.8344 - val_loss: 0.3445\n",
      "Epoch 6/50\n",
      "\u001b[1m477/477\u001b[0m \u001b[32m━━━━━━━━━━━━━━━━━━━━\u001b[0m\u001b[37m\u001b[0m \u001b[1m1s\u001b[0m 2ms/step - accuracy: 0.8380 - loss: 0.3477 - val_accuracy: 0.8358 - val_loss: 0.3447\n",
      "Epoch 7/50\n",
      "\u001b[1m477/477\u001b[0m \u001b[32m━━━━━━━━━━━━━━━━━━━━\u001b[0m\u001b[37m\u001b[0m \u001b[1m1s\u001b[0m 2ms/step - accuracy: 0.8361 - loss: 0.3476 - val_accuracy: 0.8366 - val_loss: 0.3428\n",
      "Epoch 8/50\n",
      "\u001b[1m477/477\u001b[0m \u001b[32m━━━━━━━━━━━━━━━━━━━━\u001b[0m\u001b[37m\u001b[0m \u001b[1m1s\u001b[0m 2ms/step - accuracy: 0.8376 - loss: 0.3464 - val_accuracy: 0.8361 - val_loss: 0.3436\n",
      "Epoch 9/50\n",
      "\u001b[1m477/477\u001b[0m \u001b[32m━━━━━━━━━━━━━━━━━━━━\u001b[0m\u001b[37m\u001b[0m \u001b[1m1s\u001b[0m 2ms/step - accuracy: 0.8396 - loss: 0.3404 - val_accuracy: 0.8362 - val_loss: 0.3433\n",
      "Epoch 10/50\n",
      "\u001b[1m477/477\u001b[0m \u001b[32m━━━━━━━━━━━━━━━━━━━━\u001b[0m\u001b[37m\u001b[0m \u001b[1m1s\u001b[0m 2ms/step - accuracy: 0.8437 - loss: 0.3383 - val_accuracy: 0.8354 - val_loss: 0.3430\n",
      "Epoch 11/50\n",
      "\u001b[1m477/477\u001b[0m \u001b[32m━━━━━━━━━━━━━━━━━━━━\u001b[0m\u001b[37m\u001b[0m \u001b[1m1s\u001b[0m 2ms/step - accuracy: 0.8373 - loss: 0.3416 - val_accuracy: 0.8360 - val_loss: 0.3428\n",
      "Epoch 12/50\n",
      "\u001b[1m477/477\u001b[0m \u001b[32m━━━━━━━━━━━━━━━━━━━━\u001b[0m\u001b[37m\u001b[0m \u001b[1m1s\u001b[0m 2ms/step - accuracy: 0.8397 - loss: 0.3402 - val_accuracy: 0.8370 - val_loss: 0.3425\n",
      "Epoch 13/50\n",
      "\u001b[1m477/477\u001b[0m \u001b[32m━━━━━━━━━━━━━━━━━━━━\u001b[0m\u001b[37m\u001b[0m \u001b[1m1s\u001b[0m 2ms/step - accuracy: 0.8416 - loss: 0.3382 - val_accuracy: 0.8378 - val_loss: 0.3442\n",
      "Epoch 14/50\n",
      "\u001b[1m477/477\u001b[0m \u001b[32m━━━━━━━━━━━━━━━━━━━━\u001b[0m\u001b[37m\u001b[0m \u001b[1m1s\u001b[0m 2ms/step - accuracy: 0.8418 - loss: 0.3393 - val_accuracy: 0.8369 - val_loss: 0.3422\n",
      "Epoch 15/50\n",
      "\u001b[1m477/477\u001b[0m \u001b[32m━━━━━━━━━━━━━━━━━━━━\u001b[0m\u001b[37m\u001b[0m \u001b[1m1s\u001b[0m 2ms/step - accuracy: 0.8373 - loss: 0.3448 - val_accuracy: 0.8370 - val_loss: 0.3429\n",
      "Epoch 16/50\n",
      "\u001b[1m477/477\u001b[0m \u001b[32m━━━━━━━━━━━━━━━━━━━━\u001b[0m\u001b[37m\u001b[0m \u001b[1m1s\u001b[0m 2ms/step - accuracy: 0.8393 - loss: 0.3442 - val_accuracy: 0.8374 - val_loss: 0.3424\n",
      "Epoch 17/50\n",
      "\u001b[1m477/477\u001b[0m \u001b[32m━━━━━━━━━━━━━━━━━━━━\u001b[0m\u001b[37m\u001b[0m \u001b[1m1s\u001b[0m 2ms/step - accuracy: 0.8467 - loss: 0.3341 - val_accuracy: 0.8385 - val_loss: 0.3434\n",
      "Epoch 18/50\n",
      "\u001b[1m477/477\u001b[0m \u001b[32m━━━━━━━━━━━━━━━━━━━━\u001b[0m\u001b[37m\u001b[0m \u001b[1m1s\u001b[0m 2ms/step - accuracy: 0.8432 - loss: 0.3362 - val_accuracy: 0.8379 - val_loss: 0.3432\n",
      "Epoch 19/50\n",
      "\u001b[1m477/477\u001b[0m \u001b[32m━━━━━━━━━━━━━━━━━━━━\u001b[0m\u001b[37m\u001b[0m \u001b[1m1s\u001b[0m 2ms/step - accuracy: 0.8410 - loss: 0.3396 - val_accuracy: 0.8379 - val_loss: 0.3428\n"
     ]
    }
   ],
   "source": [
    "from tensorflow.keras.callbacks import EarlyStopping\n",
    "\n",
    "early_stopping = EarlyStopping(monitor='val_loss', patience=5, restore_best_weights=True)\n",
    "\n",
    "es_model = keras.Sequential([\n",
    "    layers.Dense(16, activation='relu'),\n",
    "    layers.Dense(16, activation='relu'),\n",
    "    layers.Dense(1, activation='sigmoid')\n",
    "])\n",
    "\n",
    "es_model.compile(optimizer=\"rmsprop\",\n",
    "              loss=\"binary_crossentropy\",\n",
    "              metrics=[\"accuracy\"])\n",
    "\n",
    "es_history = es_model.fit(X_train,\n",
    "                            y_train,\n",
    "                            epochs=50,\n",
    "                            batch_size=64,\n",
    "                            validation_split=0.2,\n",
    "                            callbacks=[early_stopping])\n"
   ]
  },
  {
   "cell_type": "code",
   "execution_count": 314,
   "id": "18cbda4b",
   "metadata": {},
   "outputs": [
    {
     "name": "stdout",
     "output_type": "stream",
     "text": [
      "\u001b[1m298/298\u001b[0m \u001b[32m━━━━━━━━━━━━━━━━━━━━\u001b[0m\u001b[37m\u001b[0m \u001b[1m0s\u001b[0m 1ms/step - accuracy: 0.8410 - loss: 0.3425\n",
      "[0.3403671979904175, 0.8423097133636475]\n",
      "\u001b[1m298/298\u001b[0m \u001b[32m━━━━━━━━━━━━━━━━━━━━\u001b[0m\u001b[37m\u001b[0m \u001b[1m0s\u001b[0m 796us/step\n"
     ]
    },
    {
     "data": {
      "image/png": "[encoded data removed]",
      "text/plain": [
       "<Figure size 640x480 with 2 Axes>"
      ]
     },
     "metadata": {},
     "output_type": "display_data"
    }
   ],
   "source": [
    "\n",
    "\n",
    "es_results = es_model.evaluate(X_test, y_test)\n",
    "print(f'{es_results}')\n",
    "\n",
    "es_y_pred_proba = es_model.predict(X_test).flatten()\n",
    "es_y_pred = (es_y_pred_proba > 0.5).astype(int)  #threshold for the confidence between 0-1\n",
    "\n",
    "es_cm = confusion_matrix(y_test, es_y_pred)\n",
    "\n",
    "es_matrix = ConfusionMatrixDisplay(confusion_matrix=es_cm, display_labels=['Negative', 'Positive'])\n",
    "\n",
    "es_matrix.plot(cmap=plt.cm.Blues)\n",
    "plt.text(0, 0, f'TrueNeg: {es_cm[0, 0]}', ha='center', va='center', backgroundcolor='red', color='black', fontsize=12, weight='bold')\n",
    "plt.text(0, 1, f'FalseNeg: {es_cm[1, 0]}', ha='center', va='center', backgroundcolor='red', color='black', fontsize=12, weight='bold')\n",
    "plt.text(1, 0, f'FalsePos: {es_cm[0, 1]}', ha='center', va='center', backgroundcolor='red', color='black', fontsize=12, weight='bold')\n",
    "plt.text(1, 1, f'TruePos: {es_cm[1, 1]}', ha='center', va='center', backgroundcolor='red',  color='black', fontsize=12, weight='bold')\n",
    "\n",
    "plt.title('Confusion Matrix on NN using early stopping')\n",
    "plt.show()"
   ]
  },
  {
   "cell_type": "code",
   "execution_count": 316,
   "id": "e1c8626f",
   "metadata": {},
   "outputs": [
    {
     "name": "stdout",
     "output_type": "stream",
     "text": [
      "20 epoch model \n",
      "\n",
      "Test loss: 0.3428630530834198\n",
      "Test accuracy: 0.8415747880935669\n",
      "\n",
      "\n",
      "early stop NN model 19 epochs\n",
      "\n",
      "Test loss: 0.3403671979904175\n",
      "Test accuracy: 0.8423097133636475\n"
     ]
    }
   ],
   "source": [
    "print(f'{max(history.epoch) +1} epoch model \\n')\n",
    "score = model.evaluate(X_test, y_test, verbose=0)\n",
    "print(\"Test loss:\", score[0])\n",
    "print(\"Test accuracy:\", score[1])\n",
    "print('\\n')\n",
    "\n",
    "print(f'early stop NN model {max(es_history.epoch) +1} epochs\\n')\n",
    "score = es_model.evaluate(X_test, y_test, verbose=0)\n",
    "print(\"Test loss:\", score[0])\n",
    "print(\"Test accuracy:\", score[1])\n"
   ]
  },
  {
   "cell_type": "markdown",
   "id": "4bde7a13-0e1a-44c0-8d71-e9f2e0d4fa79",
   "metadata": {},
   "source": [
    "## Exercise 3\n",
    "\n",
    "Based on the **AmesHousing dataset** from the class on regression, make a deep learning regression model to predict the sales price variable."
   ]
  },
  {
   "cell_type": "code",
   "execution_count": null,
   "id": "4ad2a0b2-16b6-47fa-bc41-b6e86ff194f5",
   "metadata": {},
   "outputs": [],
   "source": []
  },
  {
   "cell_type": "markdown",
   "id": "5f433981",
   "metadata": {},
   "source": [
    "### Task 3.1 Load in the data"
   ]
  },
  {
   "cell_type": "code",
   "execution_count": null,
   "id": "486be376",
   "metadata": {},
   "outputs": [],
   "source": []
  },
  {
   "cell_type": "code",
   "execution_count": null,
   "id": "cb849c5e",
   "metadata": {},
   "outputs": [],
   "source": []
  },
  {
   "cell_type": "markdown",
   "id": "2cc4dcf0",
   "metadata": {},
   "source": [
    "### Task 3.2 Preprocessing\n",
    "For the columns \"Age\" and \"Fare\", replace the missing values with the column's mean.\n"
   ]
  },
  {
   "cell_type": "code",
   "execution_count": null,
   "id": "2ff8fbac",
   "metadata": {},
   "outputs": [],
   "source": []
  },
  {
   "cell_type": "markdown",
   "id": "65eb68c5",
   "metadata": {},
   "source": [
    "### Task 3.3 One-hot encoding\n",
    "Turn the variables \"Pclass\" and \"Sex\" into dummy variables.\n"
   ]
  },
  {
   "cell_type": "code",
   "execution_count": null,
   "id": "46daf6ba",
   "metadata": {},
   "outputs": [],
   "source": []
  },
  {
   "cell_type": "markdown",
   "id": "906f7067",
   "metadata": {},
   "source": [
    "### Task 3.4 Test-train split\n",
    "Do a train-test split of the data\n"
   ]
  },
  {
   "cell_type": "code",
   "execution_count": null,
   "id": "f484b140",
   "metadata": {},
   "outputs": [],
   "source": []
  },
  {
   "cell_type": "markdown",
   "id": "df884e36",
   "metadata": {},
   "source": [
    "### Task 3.5 Scale X_train\n",
    "Scale the X training dataset, using the standard scaler."
   ]
  },
  {
   "cell_type": "code",
   "execution_count": null,
   "id": "f40c4973",
   "metadata": {},
   "outputs": [],
   "source": []
  },
  {
   "cell_type": "markdown",
   "id": "b3eb06ce",
   "metadata": {},
   "source": [
    "### Task 3.6 Transform X_test\n",
    "Transform the X test dataset with the same scaler fitted in task 5."
   ]
  },
  {
   "cell_type": "code",
   "execution_count": null,
   "id": "b942d4e9",
   "metadata": {},
   "outputs": [],
   "source": []
  },
  {
   "cell_type": "markdown",
   "id": "cf4a3d3c",
   "metadata": {},
   "source": [
    "### Task 3.7 Transform into arrays\n",
    "Turn the training and test data (both Xs and ys) into numpy arrays using the method `.to_numpy()`.\n"
   ]
  },
  {
   "cell_type": "code",
   "execution_count": null,
   "id": "a5b2092f",
   "metadata": {},
   "outputs": [],
   "source": []
  },
  {
   "cell_type": "markdown",
   "id": "b1a1edf0",
   "metadata": {},
   "source": [
    "### Task 3.8 Create NN model\n",
    "Create a neural network model with two hidden dense layers with 16 neurons in each and the `relu` activation function. The final output layer should have one neuron and the `sigmoid` activation function.\n"
   ]
  },
  {
   "cell_type": "code",
   "execution_count": null,
   "id": "e0595e5b",
   "metadata": {},
   "outputs": [],
   "source": []
  },
  {
   "cell_type": "markdown",
   "id": "5fb9163d",
   "metadata": {},
   "source": [
    "### Task 3.9 Train NN model\n",
    "Train the model for 50 epochs with a batch size of 64. Instead of creating a validation set before training the model, we can give it as an argument to the fit method, that it should set aside, let's say, 20% of the training data for validation. Do this by providing the argument `validation_split=0.2` to the fit method.\n"
   ]
  },
  {
   "cell_type": "code",
   "execution_count": null,
   "id": "b3167c75",
   "metadata": {},
   "outputs": [],
   "source": []
  },
  {
   "cell_type": "markdown",
   "id": "6554b35c",
   "metadata": {},
   "source": [
    "### Task 3.10 Plotting\n",
    "Plot the training and validation loss and decide on a best number of epochs.\n"
   ]
  },
  {
   "cell_type": "code",
   "execution_count": null,
   "id": "70c73bcc",
   "metadata": {},
   "outputs": [],
   "source": []
  },
  {
   "cell_type": "markdown",
   "id": "6187cc5f",
   "metadata": {},
   "source": [
    "### Task 3.11 Retrain with 8 epochs \n",
    "Rebuild and retrain the model for the number of epochs decided in task 10 above.\n"
   ]
  },
  {
   "cell_type": "code",
   "execution_count": null,
   "id": "d90dfe58",
   "metadata": {},
   "outputs": [],
   "source": []
  },
  {
   "cell_type": "markdown",
   "id": "f4c5bedd",
   "metadata": {},
   "source": [
    "### Task 3.12 + 3.13 Evaluation \n",
    "Evaluate the model on the test dataset to get the test accuracy.\n"
   ]
  },
  {
   "cell_type": "code",
   "execution_count": null,
   "id": "e6f0e800",
   "metadata": {},
   "outputs": [],
   "source": []
  },
  {
   "cell_type": "code",
   "execution_count": null,
   "id": "afe79dbe",
   "metadata": {},
   "outputs": [],
   "source": []
  }
 ],
 "metadata": {
  "kernelspec": {
   "display_name": "tfvenv",
   "language": "python",
   "name": "python3"
  },
  "language_info": {
   "codemirror_mode": {
    "name": "ipython",
    "version": 3
   },
   "file_extension": ".py",
   "mimetype": "text/x-python",
   "name": "python",
   "nbconvert_exporter": "python",
   "pygments_lexer": "ipython3",
   "version": "3.10.14"
  }
 },
 "nbformat": 4,
 "nbformat_minor": 5
}
