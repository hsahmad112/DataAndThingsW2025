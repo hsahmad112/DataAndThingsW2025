{
 "cells": [
  {
   "cell_type": "markdown",
   "id": "5499e3da-49fb-40eb-ac1b-472cf868e000",
   "metadata": {},
   "source": [
    "# Exercises in neural network and deep learning II"
   ]
  },
  {
   "cell_type": "code",
   "execution_count": 2,
   "id": "6cbcd5e5-5836-48d4-bce6-bb9f1e72db14",
   "metadata": {},
   "outputs": [],
   "source": [
    "import pandas as pd\n",
    "from sklearn.model_selection import train_test_split\n",
    "from sklearn.preprocessing import StandardScaler\n",
    "from tensorflow import keras\n",
    "from tensorflow.keras import layers"
   ]
  },
  {
   "cell_type": "markdown",
   "id": "1d345f40-333b-4d72-b05c-ec4068174d62",
   "metadata": {},
   "source": [
    "## Exercise 1\n",
    "\n",
    "In this exercise, we will use the titanic dataset to build a neural network classifier for the target variable `Survived`. In this exercise, all the necessary steps are broken down to small individual task you should do. So, do the following tasks:\n",
    "\n",
    "1. Load in the titanic dataset (on Moodle as \"titanic_survival_data.csv\"), select the columns \"Pclass\", \"Sex\", \"Age\", and \"Fare\" for the feature set X and \"Survived\" for the target variable y.\n",
    "2. For the columns \"Age\" and \"Fare\", replace the missing values with the column's mean.\n",
    "3. Turn the variables \"Pclass\" and \"Sex\" into dummy variables.\n",
    "4. Do a train-test split of the data\n",
    "5. Scale the X training dataset, using the standard scaler.\n",
    "6. Transform the X test dataset with the same scaler fitted in task 5.\n",
    "7. Turn the training and test data (both Xs and ys) into numpy arrays using the method `.to_numpy()`.\n",
    "8. Create a neural network model with two hidden dense layers with 16 neurons in each and the `relu` activation function. The final output layer should have one neuron and the `sigmoid` activation function.\n",
    "9. Train the model for 50 epochs with a batch size of 64. Instead of creating a validation set before training the model, we can give it as an argument to the fit method, that it should set aside, let's say, 20% of the training data for validation. Do this by providing the argument `validation_split=0.2` to the fit method.\n",
    "10. Plot the training and validation loss and decide on a best number of epochs.\n",
    "11. Rebuild and retrain the model for the number of epochs decided in task 10 above.\n",
    "12. Evaluate the model on the test dataset to get the test accuracy.\n",
    "13. Calculate precision, recall, and f1-score for the model on the test dataset.\n",
    "14. Plot the Confusion matrix for the test dataset."
   ]
  },
  {
   "cell_type": "markdown",
   "id": "b2e3fd0e",
   "metadata": {},
   "source": [
    "### Task 1.1 Load in the data"
   ]
  },
  {
   "cell_type": "code",
   "execution_count": 3,
   "id": "61321b93",
   "metadata": {},
   "outputs": [
    {
     "data": {
      "text/html": [
       "<div>\n",
       "<style scoped>\n",
       "    .dataframe tbody tr th:only-of-type {\n",
       "        vertical-align: middle;\n",
       "    }\n",
       "\n",
       "    .dataframe tbody tr th {\n",
       "        vertical-align: top;\n",
       "    }\n",
       "\n",
       "    .dataframe thead th {\n",
       "        text-align: right;\n",
       "    }\n",
       "</style>\n",
       "<table border=\"1\" class=\"dataframe\">\n",
       "  <thead>\n",
       "    <tr style=\"text-align: right;\">\n",
       "      <th></th>\n",
       "      <th>Pclass</th>\n",
       "      <th>Sex</th>\n",
       "      <th>Age</th>\n",
       "      <th>Fare</th>\n",
       "    </tr>\n",
       "  </thead>\n",
       "  <tbody>\n",
       "    <tr>\n",
       "      <th>0</th>\n",
       "      <td>3</td>\n",
       "      <td>male</td>\n",
       "      <td>22.0</td>\n",
       "      <td>7.250</td>\n",
       "    </tr>\n",
       "    <tr>\n",
       "      <th>1</th>\n",
       "      <td>1</td>\n",
       "      <td>female</td>\n",
       "      <td>38.0</td>\n",
       "      <td>712.833</td>\n",
       "    </tr>\n",
       "    <tr>\n",
       "      <th>2</th>\n",
       "      <td>3</td>\n",
       "      <td>female</td>\n",
       "      <td>26.0</td>\n",
       "      <td>7.925</td>\n",
       "    </tr>\n",
       "    <tr>\n",
       "      <th>3</th>\n",
       "      <td>1</td>\n",
       "      <td>female</td>\n",
       "      <td>35.0</td>\n",
       "      <td>53.100</td>\n",
       "    </tr>\n",
       "    <tr>\n",
       "      <th>4</th>\n",
       "      <td>3</td>\n",
       "      <td>male</td>\n",
       "      <td>35.0</td>\n",
       "      <td>8.050</td>\n",
       "    </tr>\n",
       "    <tr>\n",
       "      <th>...</th>\n",
       "      <td>...</td>\n",
       "      <td>...</td>\n",
       "      <td>...</td>\n",
       "      <td>...</td>\n",
       "    </tr>\n",
       "    <tr>\n",
       "      <th>886</th>\n",
       "      <td>2</td>\n",
       "      <td>male</td>\n",
       "      <td>27.0</td>\n",
       "      <td>13.000</td>\n",
       "    </tr>\n",
       "    <tr>\n",
       "      <th>887</th>\n",
       "      <td>1</td>\n",
       "      <td>female</td>\n",
       "      <td>19.0</td>\n",
       "      <td>30.000</td>\n",
       "    </tr>\n",
       "    <tr>\n",
       "      <th>888</th>\n",
       "      <td>3</td>\n",
       "      <td>female</td>\n",
       "      <td>NaN</td>\n",
       "      <td>23.450</td>\n",
       "    </tr>\n",
       "    <tr>\n",
       "      <th>889</th>\n",
       "      <td>1</td>\n",
       "      <td>male</td>\n",
       "      <td>26.0</td>\n",
       "      <td>30.000</td>\n",
       "    </tr>\n",
       "    <tr>\n",
       "      <th>890</th>\n",
       "      <td>3</td>\n",
       "      <td>male</td>\n",
       "      <td>32.0</td>\n",
       "      <td>7.750</td>\n",
       "    </tr>\n",
       "  </tbody>\n",
       "</table>\n",
       "<p>891 rows × 4 columns</p>\n",
       "</div>"
      ],
      "text/plain": [
       "     Pclass     Sex   Age     Fare\n",
       "0         3    male  22.0    7.250\n",
       "1         1  female  38.0  712.833\n",
       "2         3  female  26.0    7.925\n",
       "3         1  female  35.0   53.100\n",
       "4         3    male  35.0    8.050\n",
       "..      ...     ...   ...      ...\n",
       "886       2    male  27.0   13.000\n",
       "887       1  female  19.0   30.000\n",
       "888       3  female   NaN   23.450\n",
       "889       1    male  26.0   30.000\n",
       "890       3    male  32.0    7.750\n",
       "\n",
       "[891 rows x 4 columns]"
      ]
     },
     "execution_count": 3,
     "metadata": {},
     "output_type": "execute_result"
    }
   ],
   "source": [
    "titanic = pd.read_csv('data\\\\titanic_survival_data.csv')\n",
    "X = titanic[['Pclass', 'Sex', 'Age', 'Fare']] \n",
    "X"
   ]
  },
  {
   "cell_type": "code",
   "execution_count": 4,
   "id": "157ff3a1",
   "metadata": {},
   "outputs": [
    {
     "data": {
      "text/html": [
       "<div>\n",
       "<style scoped>\n",
       "    .dataframe tbody tr th:only-of-type {\n",
       "        vertical-align: middle;\n",
       "    }\n",
       "\n",
       "    .dataframe tbody tr th {\n",
       "        vertical-align: top;\n",
       "    }\n",
       "\n",
       "    .dataframe thead th {\n",
       "        text-align: right;\n",
       "    }\n",
       "</style>\n",
       "<table border=\"1\" class=\"dataframe\">\n",
       "  <thead>\n",
       "    <tr style=\"text-align: right;\">\n",
       "      <th></th>\n",
       "      <th>Survived</th>\n",
       "    </tr>\n",
       "  </thead>\n",
       "  <tbody>\n",
       "    <tr>\n",
       "      <th>0</th>\n",
       "      <td>0</td>\n",
       "    </tr>\n",
       "    <tr>\n",
       "      <th>1</th>\n",
       "      <td>1</td>\n",
       "    </tr>\n",
       "    <tr>\n",
       "      <th>2</th>\n",
       "      <td>1</td>\n",
       "    </tr>\n",
       "    <tr>\n",
       "      <th>3</th>\n",
       "      <td>1</td>\n",
       "    </tr>\n",
       "    <tr>\n",
       "      <th>4</th>\n",
       "      <td>0</td>\n",
       "    </tr>\n",
       "    <tr>\n",
       "      <th>...</th>\n",
       "      <td>...</td>\n",
       "    </tr>\n",
       "    <tr>\n",
       "      <th>886</th>\n",
       "      <td>0</td>\n",
       "    </tr>\n",
       "    <tr>\n",
       "      <th>887</th>\n",
       "      <td>1</td>\n",
       "    </tr>\n",
       "    <tr>\n",
       "      <th>888</th>\n",
       "      <td>0</td>\n",
       "    </tr>\n",
       "    <tr>\n",
       "      <th>889</th>\n",
       "      <td>1</td>\n",
       "    </tr>\n",
       "    <tr>\n",
       "      <th>890</th>\n",
       "      <td>0</td>\n",
       "    </tr>\n",
       "  </tbody>\n",
       "</table>\n",
       "<p>891 rows × 1 columns</p>\n",
       "</div>"
      ],
      "text/plain": [
       "     Survived\n",
       "0           0\n",
       "1           1\n",
       "2           1\n",
       "3           1\n",
       "4           0\n",
       "..        ...\n",
       "886         0\n",
       "887         1\n",
       "888         0\n",
       "889         1\n",
       "890         0\n",
       "\n",
       "[891 rows x 1 columns]"
      ]
     },
     "execution_count": 4,
     "metadata": {},
     "output_type": "execute_result"
    }
   ],
   "source": [
    "y = titanic[['Survived']]\n",
    "y"
   ]
  },
  {
   "cell_type": "markdown",
   "id": "dd8d9684",
   "metadata": {},
   "source": [
    "### Task 1.2 Preprocessing\n",
    "For the columns \"Age\" and \"Fare\", replace the missing values with the column's mean.\n"
   ]
  },
  {
   "cell_type": "code",
   "execution_count": 5,
   "id": "e590ab24",
   "metadata": {},
   "outputs": [
    {
     "name": "stderr",
     "output_type": "stream",
     "text": [
      "C:\\Users\\Hassan\\AppData\\Local\\Temp\\ipykernel_18704\\557247777.py:4: SettingWithCopyWarning: \n",
      "A value is trying to be set on a copy of a slice from a DataFrame.\n",
      "Try using .loc[row_indexer,col_indexer] = value instead\n",
      "\n",
      "See the caveats in the documentation: https://pandas.pydata.org/pandas-docs/stable/user_guide/indexing.html#returning-a-view-versus-a-copy\n",
      "  X[['Age']] = X[['Age']].fillna(age_means)\n",
      "C:\\Users\\Hassan\\AppData\\Local\\Temp\\ipykernel_18704\\557247777.py:5: SettingWithCopyWarning: \n",
      "A value is trying to be set on a copy of a slice from a DataFrame.\n",
      "Try using .loc[row_indexer,col_indexer] = value instead\n",
      "\n",
      "See the caveats in the documentation: https://pandas.pydata.org/pandas-docs/stable/user_guide/indexing.html#returning-a-view-versus-a-copy\n",
      "  X[['Fare']] = X[['Fare']].fillna(fare_means)\n"
     ]
    }
   ],
   "source": [
    "age_means = X['Age'].mean()\n",
    "fare_means = X['Fare'].mean()\n",
    "\n",
    "X[['Age']] = X[['Age']].fillna(age_means)\n",
    "X[['Fare']] = X[['Fare']].fillna(fare_means)"
   ]
  },
  {
   "cell_type": "markdown",
   "id": "5e047c18",
   "metadata": {},
   "source": [
    "### Task 1.3 One-hot encoding\n",
    "Turn the variables \"Pclass\" and \"Sex\" into dummy variables.\n"
   ]
  },
  {
   "cell_type": "code",
   "execution_count": 6,
   "id": "66e3f868",
   "metadata": {},
   "outputs": [
    {
     "data": {
      "text/html": [
       "<div>\n",
       "<style scoped>\n",
       "    .dataframe tbody tr th:only-of-type {\n",
       "        vertical-align: middle;\n",
       "    }\n",
       "\n",
       "    .dataframe tbody tr th {\n",
       "        vertical-align: top;\n",
       "    }\n",
       "\n",
       "    .dataframe thead th {\n",
       "        text-align: right;\n",
       "    }\n",
       "</style>\n",
       "<table border=\"1\" class=\"dataframe\">\n",
       "  <thead>\n",
       "    <tr style=\"text-align: right;\">\n",
       "      <th></th>\n",
       "      <th>Age</th>\n",
       "      <th>Fare</th>\n",
       "      <th>Pclass_2</th>\n",
       "      <th>Pclass_3</th>\n",
       "      <th>Sex_male</th>\n",
       "    </tr>\n",
       "  </thead>\n",
       "  <tbody>\n",
       "    <tr>\n",
       "      <th>0</th>\n",
       "      <td>22.000000</td>\n",
       "      <td>7.250</td>\n",
       "      <td>False</td>\n",
       "      <td>True</td>\n",
       "      <td>True</td>\n",
       "    </tr>\n",
       "    <tr>\n",
       "      <th>1</th>\n",
       "      <td>38.000000</td>\n",
       "      <td>712.833</td>\n",
       "      <td>False</td>\n",
       "      <td>False</td>\n",
       "      <td>False</td>\n",
       "    </tr>\n",
       "    <tr>\n",
       "      <th>2</th>\n",
       "      <td>26.000000</td>\n",
       "      <td>7.925</td>\n",
       "      <td>False</td>\n",
       "      <td>True</td>\n",
       "      <td>False</td>\n",
       "    </tr>\n",
       "    <tr>\n",
       "      <th>3</th>\n",
       "      <td>35.000000</td>\n",
       "      <td>53.100</td>\n",
       "      <td>False</td>\n",
       "      <td>False</td>\n",
       "      <td>False</td>\n",
       "    </tr>\n",
       "    <tr>\n",
       "      <th>4</th>\n",
       "      <td>35.000000</td>\n",
       "      <td>8.050</td>\n",
       "      <td>False</td>\n",
       "      <td>True</td>\n",
       "      <td>True</td>\n",
       "    </tr>\n",
       "    <tr>\n",
       "      <th>...</th>\n",
       "      <td>...</td>\n",
       "      <td>...</td>\n",
       "      <td>...</td>\n",
       "      <td>...</td>\n",
       "      <td>...</td>\n",
       "    </tr>\n",
       "    <tr>\n",
       "      <th>886</th>\n",
       "      <td>27.000000</td>\n",
       "      <td>13.000</td>\n",
       "      <td>True</td>\n",
       "      <td>False</td>\n",
       "      <td>True</td>\n",
       "    </tr>\n",
       "    <tr>\n",
       "      <th>887</th>\n",
       "      <td>19.000000</td>\n",
       "      <td>30.000</td>\n",
       "      <td>False</td>\n",
       "      <td>False</td>\n",
       "      <td>False</td>\n",
       "    </tr>\n",
       "    <tr>\n",
       "      <th>888</th>\n",
       "      <td>29.679272</td>\n",
       "      <td>23.450</td>\n",
       "      <td>False</td>\n",
       "      <td>True</td>\n",
       "      <td>False</td>\n",
       "    </tr>\n",
       "    <tr>\n",
       "      <th>889</th>\n",
       "      <td>26.000000</td>\n",
       "      <td>30.000</td>\n",
       "      <td>False</td>\n",
       "      <td>False</td>\n",
       "      <td>True</td>\n",
       "    </tr>\n",
       "    <tr>\n",
       "      <th>890</th>\n",
       "      <td>32.000000</td>\n",
       "      <td>7.750</td>\n",
       "      <td>False</td>\n",
       "      <td>True</td>\n",
       "      <td>True</td>\n",
       "    </tr>\n",
       "  </tbody>\n",
       "</table>\n",
       "<p>891 rows × 5 columns</p>\n",
       "</div>"
      ],
      "text/plain": [
       "           Age     Fare  Pclass_2  Pclass_3  Sex_male\n",
       "0    22.000000    7.250     False      True      True\n",
       "1    38.000000  712.833     False     False     False\n",
       "2    26.000000    7.925     False      True     False\n",
       "3    35.000000   53.100     False     False     False\n",
       "4    35.000000    8.050     False      True      True\n",
       "..         ...      ...       ...       ...       ...\n",
       "886  27.000000   13.000      True     False      True\n",
       "887  19.000000   30.000     False     False     False\n",
       "888  29.679272   23.450     False      True     False\n",
       "889  26.000000   30.000     False     False      True\n",
       "890  32.000000    7.750     False      True      True\n",
       "\n",
       "[891 rows x 5 columns]"
      ]
     },
     "execution_count": 6,
     "metadata": {},
     "output_type": "execute_result"
    }
   ],
   "source": [
    "X = pd.get_dummies(X, columns=['Pclass', 'Sex'], drop_first=True)\n",
    "X"
   ]
  },
  {
   "cell_type": "markdown",
   "id": "f08d6d4f",
   "metadata": {},
   "source": [
    "### Task 1.4 Test-train split\n",
    "Do a train-test split of the data\n"
   ]
  },
  {
   "cell_type": "code",
   "execution_count": 7,
   "id": "ab2ed329",
   "metadata": {},
   "outputs": [],
   "source": [
    "X_train, X_test, y_train, y_test = train_test_split(X, y, test_size=0.2, random_state=45)\n",
    "\n"
   ]
  },
  {
   "cell_type": "markdown",
   "id": "a311e0b1",
   "metadata": {},
   "source": [
    "### Task 1.5 Scale X_train\n",
    "Scale the X training dataset, using the standard scaler."
   ]
  },
  {
   "cell_type": "code",
   "execution_count": 8,
   "id": "2a08d765",
   "metadata": {},
   "outputs": [],
   "source": [
    "scaler = StandardScaler()\n",
    "X_train_scaled = pd.DataFrame(scaler.fit_transform(X_train), columns=X_train.columns) \n"
   ]
  },
  {
   "cell_type": "markdown",
   "id": "3f05007c",
   "metadata": {},
   "source": [
    "### Task 1.6 Transform X_test\n",
    "Transform the X test dataset with the same scaler fitted in task 5."
   ]
  },
  {
   "cell_type": "code",
   "execution_count": 9,
   "id": "ec4ce896",
   "metadata": {},
   "outputs": [],
   "source": [
    "X_test_scaled = scaler.transform(X_test)"
   ]
  },
  {
   "cell_type": "markdown",
   "id": "0d662809",
   "metadata": {},
   "source": [
    "### Task 1.7 Transform into arrays\n",
    "Turn the training and test data (both Xs and ys) into numpy arrays using the method `.to_numpy()`.\n"
   ]
  },
  {
   "cell_type": "code",
   "execution_count": 10,
   "id": "06b04502",
   "metadata": {},
   "outputs": [],
   "source": [
    "X_train_array = X_train_scaled\n",
    "X_test_array = X_test_scaled\n",
    "y_train_array = y_train.to_numpy()\n",
    "y_test_array = y_test.to_numpy()\n",
    "\n"
   ]
  },
  {
   "cell_type": "markdown",
   "id": "d5985262",
   "metadata": {},
   "source": [
    "### Task 1.8 Create NN model\n",
    "Create a neural network model with two hidden dense layers with 16 neurons in each and the `relu` activation function. The final output layer should have one neuron and the `sigmoid` activation function.\n"
   ]
  },
  {
   "cell_type": "code",
   "execution_count": 11,
   "id": "1626251b",
   "metadata": {},
   "outputs": [],
   "source": [
    "model = keras.Sequential([\n",
    "    layers.Dense(16, activation='relu'),\n",
    "    layers.Dense(16, activation='relu'),\n",
    "    layers.Dense(1, activation='sigmoid')\n",
    "])\n",
    "\n",
    "model.compile(optimizer=\"rmsprop\",\n",
    "              loss=\"binary_crossentropy\",\n",
    "              metrics=[\"accuracy\", \"precision\", \"f1_score\", \"recall\"])"
   ]
  },
  {
   "cell_type": "markdown",
   "id": "9df22bf3",
   "metadata": {},
   "source": [
    "### Task 1.9 Train NN model\n",
    "Train the model for 50 epochs with a batch size of 64. Instead of creating a validation set before training the model, we can give it as an argument to the fit method, that it should set aside, let's say, 20% of the training data for validation. Do this by providing the argument `validation_split=0.2` to the fit method.\n"
   ]
  },
  {
   "cell_type": "code",
   "execution_count": 12,
   "id": "faf78154",
   "metadata": {},
   "outputs": [
    {
     "name": "stdout",
     "output_type": "stream",
     "text": [
      "Epoch 1/50\n",
      "\u001b[1m9/9\u001b[0m \u001b[32m━━━━━━━━━━━━━━━━━━━━\u001b[0m\u001b[37m\u001b[0m \u001b[1m1s\u001b[0m 46ms/step - accuracy: 0.3774 - f1_score: 0.5478 - loss: 6.3166 - precision: 0.3774 - recall: 1.0000 - val_accuracy: 0.4126 - val_f1_score: 0.5842 - val_loss: 3.8609 - val_precision: 0.4126 - val_recall: 1.0000\n",
      "Epoch 2/50\n",
      "\u001b[1m9/9\u001b[0m \u001b[32m━━━━━━━━━━━━━━━━━━━━\u001b[0m\u001b[37m\u001b[0m \u001b[1m0s\u001b[0m 8ms/step - accuracy: 0.3694 - f1_score: 0.5401 - loss: 3.0322 - precision: 0.3697 - recall: 0.9980 - val_accuracy: 0.3986 - val_f1_score: 0.5842 - val_loss: 1.4000 - val_precision: 0.4043 - val_recall: 0.9661\n",
      "Epoch 3/50\n",
      "\u001b[1m9/9\u001b[0m \u001b[32m━━━━━━━━━━━━━━━━━━━━\u001b[0m\u001b[37m\u001b[0m \u001b[1m0s\u001b[0m 8ms/step - accuracy: 0.3893 - f1_score: 0.5751 - loss: 1.1974 - precision: 0.3856 - recall: 0.8676 - val_accuracy: 0.4336 - val_f1_score: 0.5842 - val_loss: 0.9041 - val_precision: 0.3922 - val_recall: 0.6780\n",
      "Epoch 4/50\n",
      "\u001b[1m9/9\u001b[0m \u001b[32m━━━━━━━━━━━━━━━━━━━━\u001b[0m\u001b[37m\u001b[0m \u001b[1m0s\u001b[0m 8ms/step - accuracy: 0.4383 - f1_score: 0.5700 - loss: 0.8796 - precision: 0.3775 - recall: 0.6271 - val_accuracy: 0.4336 - val_f1_score: 0.5842 - val_loss: 0.7724 - val_precision: 0.3333 - val_recall: 0.3729\n",
      "Epoch 5/50\n",
      "\u001b[1m9/9\u001b[0m \u001b[32m━━━━━━━━━━━━━━━━━━━━\u001b[0m\u001b[37m\u001b[0m \u001b[1m0s\u001b[0m 9ms/step - accuracy: 0.4549 - f1_score: 0.5348 - loss: 0.7799 - precision: 0.3180 - recall: 0.4207 - val_accuracy: 0.5804 - val_f1_score: 0.5842 - val_loss: 0.7235 - val_precision: 0.4912 - val_recall: 0.4746\n",
      "Epoch 6/50\n",
      "\u001b[1m9/9\u001b[0m \u001b[32m━━━━━━━━━━━━━━━━━━━━\u001b[0m\u001b[37m\u001b[0m \u001b[1m0s\u001b[0m 11ms/step - accuracy: 0.6055 - f1_score: 0.5735 - loss: 0.6849 - precision: 0.5164 - recall: 0.4144 - val_accuracy: 0.5524 - val_f1_score: 0.5842 - val_loss: 0.7095 - val_precision: 0.4324 - val_recall: 0.2712\n",
      "Epoch 7/50\n",
      "\u001b[1m9/9\u001b[0m \u001b[32m━━━━━━━━━━━━━━━━━━━━\u001b[0m\u001b[37m\u001b[0m \u001b[1m0s\u001b[0m 9ms/step - accuracy: 0.5615 - f1_score: 0.5689 - loss: 0.6957 - precision: 0.4183 - recall: 0.2602 - val_accuracy: 0.5594 - val_f1_score: 0.5842 - val_loss: 0.7154 - val_precision: 0.4500 - val_recall: 0.3051\n",
      "Epoch 8/50\n",
      "\u001b[1m9/9\u001b[0m \u001b[32m━━━━━━━━━━━━━━━━━━━━\u001b[0m\u001b[37m\u001b[0m \u001b[1m0s\u001b[0m 9ms/step - accuracy: 0.5836 - f1_score: 0.5646 - loss: 0.6881 - precision: 0.4521 - recall: 0.2719 - val_accuracy: 0.5524 - val_f1_score: 0.5842 - val_loss: 0.7273 - val_precision: 0.4390 - val_recall: 0.3051\n",
      "Epoch 9/50\n",
      "\u001b[1m9/9\u001b[0m \u001b[32m━━━━━━━━━━━━━━━━━━━━\u001b[0m\u001b[37m\u001b[0m \u001b[1m0s\u001b[0m 8ms/step - accuracy: 0.5880 - f1_score: 0.5543 - loss: 0.7067 - precision: 0.4180 - recall: 0.1938 - val_accuracy: 0.5315 - val_f1_score: 0.5842 - val_loss: 0.7810 - val_precision: 0.4167 - val_recall: 0.3390\n",
      "Epoch 10/50\n",
      "\u001b[1m9/9\u001b[0m \u001b[32m━━━━━━━━━━━━━━━━━━━━\u001b[0m\u001b[37m\u001b[0m \u001b[1m0s\u001b[0m 8ms/step - accuracy: 0.5524 - f1_score: 0.5944 - loss: 0.7146 - precision: 0.4580 - recall: 0.2419 - val_accuracy: 0.6154 - val_f1_score: 0.5842 - val_loss: 0.7135 - val_precision: 0.7000 - val_recall: 0.1186\n",
      "Epoch 11/50\n",
      "\u001b[1m9/9\u001b[0m \u001b[32m━━━━━━━━━━━━━━━━━━━━\u001b[0m\u001b[37m\u001b[0m \u001b[1m0s\u001b[0m 8ms/step - accuracy: 0.5900 - f1_score: 0.5747 - loss: 0.7307 - precision: 0.5253 - recall: 0.2219 - val_accuracy: 0.6364 - val_f1_score: 0.5842 - val_loss: 0.7012 - val_precision: 0.7333 - val_recall: 0.1864\n",
      "Epoch 12/50\n",
      "\u001b[1m9/9\u001b[0m \u001b[32m━━━━━━━━━━━━━━━━━━━━\u001b[0m\u001b[37m\u001b[0m \u001b[1m0s\u001b[0m 8ms/step - accuracy: 0.6705 - f1_score: 0.5380 - loss: 0.6368 - precision: 0.6881 - recall: 0.2138 - val_accuracy: 0.6154 - val_f1_score: 0.5842 - val_loss: 0.7047 - val_precision: 0.7000 - val_recall: 0.1186\n",
      "Epoch 13/50\n",
      "\u001b[1m9/9\u001b[0m \u001b[32m━━━━━━━━━━━━━━━━━━━━\u001b[0m\u001b[37m\u001b[0m \u001b[1m0s\u001b[0m 8ms/step - accuracy: 0.6120 - f1_score: 0.5526 - loss: 0.6934 - precision: 0.4257 - recall: 0.1267 - val_accuracy: 0.6014 - val_f1_score: 0.5842 - val_loss: 0.7005 - val_precision: 0.5455 - val_recall: 0.2034\n",
      "Epoch 14/50\n",
      "\u001b[1m9/9\u001b[0m \u001b[32m━━━━━━━━━━━━━━━━━━━━\u001b[0m\u001b[37m\u001b[0m \u001b[1m0s\u001b[0m 9ms/step - accuracy: 0.6642 - f1_score: 0.5494 - loss: 0.6573 - precision: 0.6910 - recall: 0.2077 - val_accuracy: 0.6154 - val_f1_score: 0.5842 - val_loss: 0.6957 - val_precision: 0.6667 - val_recall: 0.1356\n",
      "Epoch 15/50\n",
      "\u001b[1m9/9\u001b[0m \u001b[32m━━━━━━━━━━━━━━━━━━━━\u001b[0m\u001b[37m\u001b[0m \u001b[1m0s\u001b[0m 9ms/step - accuracy: 0.6055 - f1_score: 0.5751 - loss: 0.6878 - precision: 0.5493 - recall: 0.1737 - val_accuracy: 0.5734 - val_f1_score: 0.5842 - val_loss: 0.7161 - val_precision: 0.4706 - val_recall: 0.2712\n",
      "Epoch 16/50\n",
      "\u001b[1m9/9\u001b[0m \u001b[32m━━━━━━━━━━━━━━━━━━━━\u001b[0m\u001b[37m\u001b[0m \u001b[1m0s\u001b[0m 9ms/step - accuracy: 0.6396 - f1_score: 0.5430 - loss: 0.6415 - precision: 0.5492 - recall: 0.1884 - val_accuracy: 0.5734 - val_f1_score: 0.5842 - val_loss: 0.7112 - val_precision: 0.4706 - val_recall: 0.2712\n",
      "Epoch 17/50\n",
      "\u001b[1m9/9\u001b[0m \u001b[32m━━━━━━━━━━━━━━━━━━━━\u001b[0m\u001b[37m\u001b[0m \u001b[1m0s\u001b[0m 9ms/step - accuracy: 0.6234 - f1_score: 0.5843 - loss: 0.6696 - precision: 0.6101 - recall: 0.2425 - val_accuracy: 0.5804 - val_f1_score: 0.5842 - val_loss: 0.6912 - val_precision: 0.4815 - val_recall: 0.2203\n",
      "Epoch 18/50\n",
      "\u001b[1m9/9\u001b[0m \u001b[32m━━━━━━━━━━━━━━━━━━━━\u001b[0m\u001b[37m\u001b[0m \u001b[1m0s\u001b[0m 9ms/step - accuracy: 0.6442 - f1_score: 0.5449 - loss: 0.6536 - precision: 0.5512 - recall: 0.2021 - val_accuracy: 0.6224 - val_f1_score: 0.5842 - val_loss: 0.6830 - val_precision: 0.6316 - val_recall: 0.2034\n",
      "Epoch 19/50\n",
      "\u001b[1m9/9\u001b[0m \u001b[32m━━━━━━━━━━━━━━━━━━━━\u001b[0m\u001b[37m\u001b[0m \u001b[1m0s\u001b[0m 9ms/step - accuracy: 0.6536 - f1_score: 0.5756 - loss: 0.6364 - precision: 0.7210 - recall: 0.2369 - val_accuracy: 0.5874 - val_f1_score: 0.5842 - val_loss: 0.7047 - val_precision: 0.5000 - val_recall: 0.2542\n",
      "Epoch 20/50\n",
      "\u001b[1m9/9\u001b[0m \u001b[32m━━━━━━━━━━━━━━━━━━━━\u001b[0m\u001b[37m\u001b[0m \u001b[1m0s\u001b[0m 10ms/step - accuracy: 0.6608 - f1_score: 0.5535 - loss: 0.6317 - precision: 0.6873 - recall: 0.2093 - val_accuracy: 0.6364 - val_f1_score: 0.5842 - val_loss: 0.6815 - val_precision: 0.7333 - val_recall: 0.1864\n",
      "Epoch 21/50\n",
      "\u001b[1m9/9\u001b[0m \u001b[32m━━━━━━━━━━━━━━━━━━━━\u001b[0m\u001b[37m\u001b[0m \u001b[1m0s\u001b[0m 9ms/step - accuracy: 0.6527 - f1_score: 0.5604 - loss: 0.6462 - precision: 0.6404 - recall: 0.2565 - val_accuracy: 0.5874 - val_f1_score: 0.5842 - val_loss: 0.6830 - val_precision: 0.5000 - val_recall: 0.2373\n",
      "Epoch 22/50\n",
      "\u001b[1m9/9\u001b[0m \u001b[32m━━━━━━━━━━━━━━━━━━━━\u001b[0m\u001b[37m\u001b[0m \u001b[1m0s\u001b[0m 11ms/step - accuracy: 0.6485 - f1_score: 0.5682 - loss: 0.6629 - precision: 0.6721 - recall: 0.2274 - val_accuracy: 0.6294 - val_f1_score: 0.5842 - val_loss: 0.6775 - val_precision: 0.7143 - val_recall: 0.1695\n",
      "Epoch 23/50\n",
      "\u001b[1m9/9\u001b[0m \u001b[32m━━━━━━━━━━━━━━━━━━━━\u001b[0m\u001b[37m\u001b[0m \u001b[1m0s\u001b[0m 9ms/step - accuracy: 0.6392 - f1_score: 0.5714 - loss: 0.6436 - precision: 0.6779 - recall: 0.2029 - val_accuracy: 0.6364 - val_f1_score: 0.5842 - val_loss: 0.6717 - val_precision: 0.7333 - val_recall: 0.1864\n",
      "Epoch 24/50\n",
      "\u001b[1m9/9\u001b[0m \u001b[32m━━━━━━━━━━━━━━━━━━━━\u001b[0m\u001b[37m\u001b[0m \u001b[1m0s\u001b[0m 9ms/step - accuracy: 0.6347 - f1_score: 0.5655 - loss: 0.6474 - precision: 0.6363 - recall: 0.1711 - val_accuracy: 0.5804 - val_f1_score: 0.5842 - val_loss: 0.7011 - val_precision: 0.4828 - val_recall: 0.2373\n",
      "Epoch 25/50\n",
      "\u001b[1m9/9\u001b[0m \u001b[32m━━━━━━━━━━━━━━━━━━━━\u001b[0m\u001b[37m\u001b[0m \u001b[1m0s\u001b[0m 9ms/step - accuracy: 0.6550 - f1_score: 0.5502 - loss: 0.6081 - precision: 0.6302 - recall: 0.2276 - val_accuracy: 0.5594 - val_f1_score: 0.5842 - val_loss: 0.7651 - val_precision: 0.4655 - val_recall: 0.4576\n",
      "Epoch 26/50\n",
      "\u001b[1m9/9\u001b[0m \u001b[32m━━━━━━━━━━━━━━━━━━━━\u001b[0m\u001b[37m\u001b[0m \u001b[1m0s\u001b[0m 9ms/step - accuracy: 0.6658 - f1_score: 0.5410 - loss: 0.6242 - precision: 0.6082 - recall: 0.3002 - val_accuracy: 0.5734 - val_f1_score: 0.5842 - val_loss: 0.6654 - val_precision: 0.4643 - val_recall: 0.2203\n",
      "Epoch 27/50\n",
      "\u001b[1m9/9\u001b[0m \u001b[32m━━━━━━━━━━━━━━━━━━━━\u001b[0m\u001b[37m\u001b[0m \u001b[1m0s\u001b[0m 9ms/step - accuracy: 0.6503 - f1_score: 0.5812 - loss: 0.6234 - precision: 0.6594 - recall: 0.3069 - val_accuracy: 0.5874 - val_f1_score: 0.5842 - val_loss: 0.9489 - val_precision: 0.0000e+00 - val_recall: 0.0000e+00\n",
      "Epoch 28/50\n",
      "\u001b[1m9/9\u001b[0m \u001b[32m━━━━━━━━━━━━━━━━━━━━\u001b[0m\u001b[37m\u001b[0m \u001b[1m0s\u001b[0m 9ms/step - accuracy: 0.6192 - f1_score: 0.5670 - loss: 0.6849 - precision: 0.5675 - recall: 0.1172 - val_accuracy: 0.5664 - val_f1_score: 0.5842 - val_loss: 0.6769 - val_precision: 0.4516 - val_recall: 0.2373\n",
      "Epoch 29/50\n",
      "\u001b[1m9/9\u001b[0m \u001b[32m━━━━━━━━━━━━━━━━━━━━\u001b[0m\u001b[37m\u001b[0m \u001b[1m0s\u001b[0m 9ms/step - accuracy: 0.6721 - f1_score: 0.5526 - loss: 0.6386 - precision: 0.6866 - recall: 0.2710 - val_accuracy: 0.5944 - val_f1_score: 0.5842 - val_loss: 0.6880 - val_precision: 0.6667 - val_recall: 0.0339\n",
      "Epoch 30/50\n",
      "\u001b[1m9/9\u001b[0m \u001b[32m━━━━━━━━━━━━━━━━━━━━\u001b[0m\u001b[37m\u001b[0m \u001b[1m0s\u001b[0m 9ms/step - accuracy: 0.6717 - f1_score: 0.5295 - loss: 0.6152 - precision: 0.6570 - recall: 0.1828 - val_accuracy: 0.6084 - val_f1_score: 0.5842 - val_loss: 0.6546 - val_precision: 0.5652 - val_recall: 0.2203\n",
      "Epoch 31/50\n",
      "\u001b[1m9/9\u001b[0m \u001b[32m━━━━━━━━━━━━━━━━━━━━\u001b[0m\u001b[37m\u001b[0m \u001b[1m0s\u001b[0m 9ms/step - accuracy: 0.6938 - f1_score: 0.5518 - loss: 0.6008 - precision: 0.7206 - recall: 0.3216 - val_accuracy: 0.6014 - val_f1_score: 0.5842 - val_loss: 0.6813 - val_precision: 0.7500 - val_recall: 0.0508\n",
      "Epoch 32/50\n",
      "\u001b[1m9/9\u001b[0m \u001b[32m━━━━━━━━━━━━━━━━━━━━\u001b[0m\u001b[37m\u001b[0m \u001b[1m0s\u001b[0m 9ms/step - accuracy: 0.6625 - f1_score: 0.5649 - loss: 0.6228 - precision: 0.7637 - recall: 0.2224 - val_accuracy: 0.5944 - val_f1_score: 0.5842 - val_loss: 0.7047 - val_precision: 0.6667 - val_recall: 0.0339\n",
      "Epoch 33/50\n",
      "\u001b[1m9/9\u001b[0m \u001b[32m━━━━━━━━━━━━━━━━━━━━\u001b[0m\u001b[37m\u001b[0m \u001b[1m0s\u001b[0m 9ms/step - accuracy: 0.6756 - f1_score: 0.5471 - loss: 0.6041 - precision: 0.7443 - recall: 0.2301 - val_accuracy: 0.6294 - val_f1_score: 0.5842 - val_loss: 0.6503 - val_precision: 0.7143 - val_recall: 0.1695\n",
      "Epoch 34/50\n",
      "\u001b[1m9/9\u001b[0m \u001b[32m━━━━━━━━━━━━━━━━━━━━\u001b[0m\u001b[37m\u001b[0m \u001b[1m0s\u001b[0m 9ms/step - accuracy: 0.6997 - f1_score: 0.5361 - loss: 0.5899 - precision: 0.8231 - recall: 0.2418 - val_accuracy: 0.6154 - val_f1_score: 0.5842 - val_loss: 0.6485 - val_precision: 0.6667 - val_recall: 0.1356\n",
      "Epoch 35/50\n",
      "\u001b[1m9/9\u001b[0m \u001b[32m━━━━━━━━━━━━━━━━━━━━\u001b[0m\u001b[37m\u001b[0m \u001b[1m0s\u001b[0m 10ms/step - accuracy: 0.6668 - f1_score: 0.5450 - loss: 0.6014 - precision: 0.6466 - recall: 0.2522 - val_accuracy: 0.5874 - val_f1_score: 0.5842 - val_loss: 0.7227 - val_precision: 0.5000 - val_recall: 0.0169\n",
      "Epoch 36/50\n",
      "\u001b[1m9/9\u001b[0m \u001b[32m━━━━━━━━━━━━━━━━━━━━\u001b[0m\u001b[37m\u001b[0m \u001b[1m0s\u001b[0m 8ms/step - accuracy: 0.6566 - f1_score: 0.5690 - loss: 0.6147 - precision: 0.6707 - recall: 0.2118 - val_accuracy: 0.6014 - val_f1_score: 0.5842 - val_loss: 0.6459 - val_precision: 0.5455 - val_recall: 0.2034\n",
      "Epoch 37/50\n",
      "\u001b[1m9/9\u001b[0m \u001b[32m━━━━━━━━━━━━━━━━━━━━\u001b[0m\u001b[37m\u001b[0m \u001b[1m0s\u001b[0m 9ms/step - accuracy: 0.6862 - f1_score: 0.5563 - loss: 0.6059 - precision: 0.7775 - recall: 0.2583 - val_accuracy: 0.6084 - val_f1_score: 0.5842 - val_loss: 0.6596 - val_precision: 0.8000 - val_recall: 0.0678\n",
      "Epoch 38/50\n",
      "\u001b[1m9/9\u001b[0m \u001b[32m━━━━━━━━━━━━━━━━━━━━\u001b[0m\u001b[37m\u001b[0m \u001b[1m0s\u001b[0m 8ms/step - accuracy: 0.6712 - f1_score: 0.5600 - loss: 0.5893 - precision: 0.7913 - recall: 0.2225 - val_accuracy: 0.5804 - val_f1_score: 0.5842 - val_loss: 0.7450 - val_precision: 0.0000e+00 - val_recall: 0.0000e+00\n",
      "Epoch 39/50\n",
      "\u001b[1m9/9\u001b[0m \u001b[32m━━━━━━━━━━━━━━━━━━━━\u001b[0m\u001b[37m\u001b[0m \u001b[1m0s\u001b[0m 9ms/step - accuracy: 0.6915 - f1_score: 0.5743 - loss: 0.6250 - precision: 0.7905 - recall: 0.3323 - val_accuracy: 0.6364 - val_f1_score: 0.5842 - val_loss: 0.6413 - val_precision: 0.7333 - val_recall: 0.1864\n",
      "Epoch 40/50\n",
      "\u001b[1m9/9\u001b[0m \u001b[32m━━━━━━━━━━━━━━━━━━━━\u001b[0m\u001b[37m\u001b[0m \u001b[1m0s\u001b[0m 9ms/step - accuracy: 0.6867 - f1_score: 0.5201 - loss: 0.5883 - precision: 0.7123 - recall: 0.1708 - val_accuracy: 0.6014 - val_f1_score: 0.5842 - val_loss: 0.6347 - val_precision: 0.5357 - val_recall: 0.2542\n",
      "Epoch 41/50\n",
      "\u001b[1m9/9\u001b[0m \u001b[32m━━━━━━━━━━━━━━━━━━━━\u001b[0m\u001b[37m\u001b[0m \u001b[1m0s\u001b[0m 9ms/step - accuracy: 0.6969 - f1_score: 0.5515 - loss: 0.6258 - precision: 0.7210 - recall: 0.3299 - val_accuracy: 0.6364 - val_f1_score: 0.5842 - val_loss: 0.6354 - val_precision: 0.5814 - val_recall: 0.4237\n",
      "Epoch 42/50\n",
      "\u001b[1m9/9\u001b[0m \u001b[32m━━━━━━━━━━━━━━━━━━━━\u001b[0m\u001b[37m\u001b[0m \u001b[1m0s\u001b[0m 9ms/step - accuracy: 0.7036 - f1_score: 0.5620 - loss: 0.6114 - precision: 0.7306 - recall: 0.3854 - val_accuracy: 0.6084 - val_f1_score: 0.5842 - val_loss: 0.6271 - val_precision: 0.6000 - val_recall: 0.1525\n",
      "Epoch 43/50\n",
      "\u001b[1m9/9\u001b[0m \u001b[32m━━━━━━━━━━━━━━━━━━━━\u001b[0m\u001b[37m\u001b[0m \u001b[1m0s\u001b[0m 9ms/step - accuracy: 0.6896 - f1_score: 0.5584 - loss: 0.5959 - precision: 0.7858 - recall: 0.2797 - val_accuracy: 0.6154 - val_f1_score: 0.5842 - val_loss: 0.6216 - val_precision: 0.5833 - val_recall: 0.2373\n",
      "Epoch 44/50\n",
      "\u001b[1m9/9\u001b[0m \u001b[32m━━━━━━━━━━━━━━━━━━━━\u001b[0m\u001b[37m\u001b[0m \u001b[1m0s\u001b[0m 9ms/step - accuracy: 0.7098 - f1_score: 0.5357 - loss: 0.5825 - precision: 0.8013 - recall: 0.2847 - val_accuracy: 0.6434 - val_f1_score: 0.5842 - val_loss: 0.6540 - val_precision: 0.5833 - val_recall: 0.4746\n",
      "Epoch 45/50\n",
      "\u001b[1m9/9\u001b[0m \u001b[32m━━━━━━━━━━━━━━━━━━━━\u001b[0m\u001b[37m\u001b[0m \u001b[1m0s\u001b[0m 9ms/step - accuracy: 0.6951 - f1_score: 0.5618 - loss: 0.5827 - precision: 0.7455 - recall: 0.3332 - val_accuracy: 0.5944 - val_f1_score: 0.5842 - val_loss: 0.6809 - val_precision: 0.5116 - val_recall: 0.3729\n",
      "Epoch 46/50\n",
      "\u001b[1m9/9\u001b[0m \u001b[32m━━━━━━━━━━━━━━━━━━━━\u001b[0m\u001b[37m\u001b[0m \u001b[1m0s\u001b[0m 9ms/step - accuracy: 0.7142 - f1_score: 0.5572 - loss: 0.6114 - precision: 0.7778 - recall: 0.3661 - val_accuracy: 0.6294 - val_f1_score: 0.5842 - val_loss: 0.6413 - val_precision: 0.5714 - val_recall: 0.4068\n",
      "Epoch 47/50\n",
      "\u001b[1m9/9\u001b[0m \u001b[32m━━━━━━━━━━━━━━━━━━━━\u001b[0m\u001b[37m\u001b[0m \u001b[1m0s\u001b[0m 9ms/step - accuracy: 0.6952 - f1_score: 0.5868 - loss: 0.5879 - precision: 0.7313 - recall: 0.4081 - val_accuracy: 0.6154 - val_f1_score: 0.5842 - val_loss: 0.6405 - val_precision: 0.5667 - val_recall: 0.2881\n",
      "Epoch 48/50\n",
      "\u001b[1m9/9\u001b[0m \u001b[32m━━━━━━━━━━━━━━━━━━━━\u001b[0m\u001b[37m\u001b[0m \u001b[1m0s\u001b[0m 9ms/step - accuracy: 0.6846 - f1_score: 0.5502 - loss: 0.6077 - precision: 0.6783 - recall: 0.3210 - val_accuracy: 0.6573 - val_f1_score: 0.5842 - val_loss: 0.6366 - val_precision: 0.6136 - val_recall: 0.4576\n",
      "Epoch 49/50\n",
      "\u001b[1m9/9\u001b[0m \u001b[32m━━━━━━━━━━━━━━━━━━━━\u001b[0m\u001b[37m\u001b[0m \u001b[1m0s\u001b[0m 9ms/step - accuracy: 0.7128 - f1_score: 0.5628 - loss: 0.5711 - precision: 0.7531 - recall: 0.4014 - val_accuracy: 0.6154 - val_f1_score: 0.5842 - val_loss: 0.6189 - val_precision: 0.6111 - val_recall: 0.1864\n",
      "Epoch 50/50\n",
      "\u001b[1m9/9\u001b[0m \u001b[32m━━━━━━━━━━━━━━━━━━━━\u001b[0m\u001b[37m\u001b[0m \u001b[1m0s\u001b[0m 9ms/step - accuracy: 0.7030 - f1_score: 0.5611 - loss: 0.5839 - precision: 0.8045 - recall: 0.3164 - val_accuracy: 0.5734 - val_f1_score: 0.5842 - val_loss: 0.6627 - val_precision: 0.2500 - val_recall: 0.0169\n"
     ]
    }
   ],
   "source": [
    "\n",
    "partial_history = model.fit(X_train,\n",
    "                     y_train,\n",
    "                     epochs = 50,\n",
    "                     batch_size=64,\n",
    "                     validation_split=0.2)\n"
   ]
  },
  {
   "cell_type": "markdown",
   "id": "ee519fc7",
   "metadata": {},
   "source": [
    "### Task 1.10 Plotting\n",
    "Plot the training and validation loss and decide on a best number of epochs.\n"
   ]
  },
  {
   "cell_type": "code",
   "execution_count": 13,
   "id": "37c3b7f8",
   "metadata": {},
   "outputs": [
    {
     "data": {
      "image/png": "[encoded data removed]",
      "text/plain": [
       "<Figure size 640x480 with 1 Axes>"
      ]
     },
     "metadata": {},
     "output_type": "display_data"
    }
   ],
   "source": [
    "import matplotlib.pyplot as plt\n",
    "history_dict = partial_history.history\n",
    "loss_values = history_dict[\"loss\"]\n",
    "val_loss_values = history_dict[\"val_loss\"]\n",
    "epochs = range(1, len(loss_values) + 1)\n",
    "plt.plot(epochs, loss_values, \"bo\", label=\"Training loss\")\n",
    "plt.plot(epochs, val_loss_values, \"b\", label=\"Validation loss\")\n",
    "plt.title(\"Training and validation loss (model)\")\n",
    "plt.xlabel(\"Epochs\")\n",
    "plt.ylabel(\"Loss\")\n",
    "plt.legend()\n",
    "plt.show()\n"
   ]
  },
  {
   "cell_type": "markdown",
   "id": "99d77279",
   "metadata": {},
   "source": [
    "### Task 1.11 Retrain with 8 epochs \n",
    "Rebuild and retrain the model for the number of epochs decided in task 10 above.\n"
   ]
  },
  {
   "cell_type": "code",
   "execution_count": 14,
   "id": "ffba6b4e",
   "metadata": {},
   "outputs": [
    {
     "name": "stdout",
     "output_type": "stream",
     "text": [
      "Epoch 1/8\n",
      "\u001b[1m12/12\u001b[0m \u001b[32m━━━━━━━━━━━━━━━━━━━━\u001b[0m\u001b[37m\u001b[0m \u001b[1m0s\u001b[0m 3ms/step - accuracy: 0.6755 - f1_score: 0.5730 - loss: 0.6097 - precision: 0.6787 - recall: 0.3504 \n",
      "Epoch 2/8\n",
      "\u001b[1m12/12\u001b[0m \u001b[32m━━━━━━━━━━━━━━━━━━━━\u001b[0m\u001b[37m\u001b[0m \u001b[1m0s\u001b[0m 3ms/step - accuracy: 0.6984 - f1_score: 0.5647 - loss: 0.5852 - precision: 0.6857 - recall: 0.4445 \n",
      "Epoch 3/8\n",
      "\u001b[1m12/12\u001b[0m \u001b[32m━━━━━━━━━━━━━━━━━━━━\u001b[0m\u001b[37m\u001b[0m \u001b[1m0s\u001b[0m 3ms/step - accuracy: 0.7018 - f1_score: 0.5344 - loss: 0.6412 - precision: 0.7460 - recall: 0.2757 \n",
      "Epoch 4/8\n",
      "\u001b[1m12/12\u001b[0m \u001b[32m━━━━━━━━━━━━━━━━━━━━\u001b[0m\u001b[37m\u001b[0m \u001b[1m0s\u001b[0m 3ms/step - accuracy: 0.6921 - f1_score: 0.5663 - loss: 0.6141 - precision: 0.7399 - recall: 0.3425 \n",
      "Epoch 5/8\n",
      "\u001b[1m12/12\u001b[0m \u001b[32m━━━━━━━━━━━━━━━━━━━━\u001b[0m\u001b[37m\u001b[0m \u001b[1m0s\u001b[0m 3ms/step - accuracy: 0.6800 - f1_score: 0.5621 - loss: 0.5947 - precision: 0.6800 - recall: 0.3646 \n",
      "Epoch 6/8\n",
      "\u001b[1m12/12\u001b[0m \u001b[32m━━━━━━━━━━━━━━━━━━━━\u001b[0m\u001b[37m\u001b[0m \u001b[1m0s\u001b[0m 3ms/step - accuracy: 0.7080 - f1_score: 0.5583 - loss: 0.6109 - precision: 0.6874 - recall: 0.4498 \n",
      "Epoch 7/8\n",
      "\u001b[1m12/12\u001b[0m \u001b[32m━━━━━━━━━━━━━━━━━━━━\u001b[0m\u001b[37m\u001b[0m \u001b[1m0s\u001b[0m 3ms/step - accuracy: 0.7240 - f1_score: 0.5514 - loss: 0.5536 - precision: 0.7289 - recall: 0.4474 \n",
      "Epoch 8/8\n",
      "\u001b[1m12/12\u001b[0m \u001b[32m━━━━━━━━━━━━━━━━━━━━\u001b[0m\u001b[37m\u001b[0m \u001b[1m0s\u001b[0m 3ms/step - accuracy: 0.7168 - f1_score: 0.5851 - loss: 0.5938 - precision: 0.7386 - recall: 0.4719 \n"
     ]
    }
   ],
   "source": [
    "\n",
    "history_full = model.fit(X_train,\n",
    "                     y_train,\n",
    "                     epochs = 8,\n",
    "                     batch_size=64)\n"
   ]
  },
  {
   "cell_type": "markdown",
   "id": "62a91831",
   "metadata": {},
   "source": [
    "### Task 1.12 + 1.13 Evaluation \n",
    "Evaluate the model on the test dataset to get the test accuracy.\n"
   ]
  },
  {
   "cell_type": "code",
   "execution_count": 15,
   "id": "413f00cf",
   "metadata": {},
   "outputs": [
    {
     "name": "stdout",
     "output_type": "stream",
     "text": [
      "\u001b[1m6/6\u001b[0m \u001b[32m━━━━━━━━━━━━━━━━━━━━\u001b[0m\u001b[37m\u001b[0m \u001b[1m0s\u001b[0m 5ms/step - accuracy: 0.7632 - f1_score: 0.4679 - loss: 0.5304 - precision: 0.6375 - recall: 0.5251 \n",
      "[0.562795102596283, 0.748603343963623, 0.6808510422706604, 0.5145227909088135, 0.5161290168762207]\n"
     ]
    }
   ],
   "source": [
    "results = model.evaluate(X_test, y_test)\n",
    "print(f'{results}')\n"
   ]
  },
  {
   "cell_type": "code",
   "execution_count": 16,
   "metadata": {},
   "outputs": [
    {
     "name": "stdout",
     "output_type": "stream",
     "text": [
      "\u001b[1m6/6\u001b[0m \u001b[32m━━━━━━━━━━━━━━━━━━━━\u001b[0m\u001b[37m\u001b[0m \u001b[1m0s\u001b[0m 7ms/step \n"
     ]
    },
    {
     "data": {
      "image/png": "[encoded data removed]",
      "text/plain": [
       "<Figure size 640x480 with 2 Axes>"
      ]
     },
     "metadata": {},
     "output_type": "display_data"
    }
   ],
   "source": [
    "from sklearn.metrics import confusion_matrix, ConfusionMatrixDisplay\n",
    "\n",
    "y_pred_proba = model.predict(X_test).flatten()\n",
    "y_pred = (y_pred_proba > 0.5).astype(int)  #threshold for the confidence between 0-1\n",
    "\n",
    "cm = confusion_matrix(y_test, y_pred)\n",
    "\n",
    "matrix = ConfusionMatrixDisplay(confusion_matrix=cm, display_labels=['Negative', 'Positive'])\n",
    "matrix.plot(cmap=plt.cm.Blues)\n",
    "plt.title('Confusion Matrix')\n",
    "plt.show()"
   ]
  },
  {
   "cell_type": "markdown",
   "id": "130f32d2-1eca-4f9b-8a1a-be0e85f447bf",
   "metadata": {},
   "source": [
    "## Exercise 2\n",
    "\n",
    "Based on the **adult dataset**, build a neural network classifier for the target variable `income`. "
   ]
  },
  {
   "cell_type": "code",
   "execution_count": null,
   "id": "ad3587ca-8799-4d16-a74d-fb07eaa8d053",
   "metadata": {},
   "outputs": [],
   "source": []
  },
  {
   "cell_type": "markdown",
   "id": "4bde7a13-0e1a-44c0-8d71-e9f2e0d4fa79",
   "metadata": {},
   "source": [
    "## Exercise 3\n",
    "\n",
    "Based on the **AmesHousing dataset** from the class on regression, make a deep learning regression model to predict the sales price variable."
   ]
  },
  {
   "cell_type": "code",
   "execution_count": null,
   "id": "4ad2a0b2-16b6-47fa-bc41-b6e86ff194f5",
   "metadata": {},
   "outputs": [],
   "source": []
  }
 ],
 "metadata": {
  "kernelspec": {
   "display_name": "Python 3 (ipykernel)",
   "language": "python",
   "name": "python3"
  },
  "language_info": {
   "codemirror_mode": {
    "name": "ipython",
    "version": 3
   },
   "file_extension": ".py",
   "mimetype": "text/x-python",
   "name": "python",
   "nbconvert_exporter": "python",
   "pygments_lexer": "ipython3",
   "version": "3.10.16"
  }
 },
 "nbformat": 4,
 "nbformat_minor": 5
}
